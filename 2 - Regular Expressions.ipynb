{
 "cells": [
  {
   "cell_type": "markdown",
   "metadata": {},
   "source": [
    " # <center> Regular Expressions </center>"
   ]
  },
  {
   "cell_type": "code",
   "execution_count": 2,
   "metadata": {
    "collapsed": false
   },
   "outputs": [],
   "source": [
    "import re"
   ]
  },
  {
   "cell_type": "markdown",
   "metadata": {},
   "source": [
    "## Major Functions\n",
    "- search(pattern, string, flags) : Returns the first match of the found object\n",
    "- findall(pattern, string, flags) : Returns a list of ALL found objects\n",
    "- finditer(pattern, string, flags) : Returns an iterator of found objects\n",
    "- sub(pattern, replacement, string, count, flags) : Substitutes the pattern with the replacement in the string\n",
    "\n",
    "<b> flags are optional!</b>"
   ]
  },
  {
   "cell_type": "markdown",
   "metadata": {},
   "source": [
    "## Common Flags\n",
    "- re.I : Ignore the case while matching\n",
    "- re.M : Multiline. Include the \\n denoting new line at the end of each line while matching for the end of the line"
   ]
  },
  {
   "cell_type": "markdown",
   "metadata": {},
   "source": [
    "## Examples"
   ]
  },
  {
   "cell_type": "code",
   "execution_count": 11,
   "metadata": {
    "collapsed": false
   },
   "outputs": [
    {
     "name": "stdout",
     "output_type": "stream",
     "text": [
      "<_sre.SRE_Match object; span=(4, 7), match='ape'>\n",
      "(4, 7)\n",
      "ape\n"
     ]
    }
   ],
   "source": [
    "print(re.search(r\"ape\", \"The ape was at the apex\")) # Only finds the first occurence\n",
    "print(re.search(r\"ape\", \"The ape was at the apex\").span(0))\n",
    "print(re.search(r\"ape\", \"The ape was at the apex\").group(0))"
   ]
  },
  {
   "cell_type": "code",
   "execution_count": 12,
   "metadata": {
    "collapsed": false
   },
   "outputs": [
    {
     "data": {
      "text/plain": [
       "['ape', 'ape']"
      ]
     },
     "execution_count": 12,
     "metadata": {},
     "output_type": "execute_result"
    }
   ],
   "source": [
    "# findall() returns a list of matches\n",
    "allApes = re.findall(r\"ape\", \"The ape was at the apex\")\n",
    "allApes"
   ]
  },
  {
   "cell_type": "code",
   "execution_count": 14,
   "metadata": {
    "collapsed": false
   },
   "outputs": [
    {
     "name": "stdout",
     "output_type": "stream",
     "text": [
      "(4, 7)\n",
      "ape\n",
      "(19, 22)\n",
      "ape\n"
     ]
    }
   ],
   "source": [
    "# finditer returns an iterator of matching objects\n",
    "# You can use span to get the location\n",
    " \n",
    "s = \"The ape was at the apex\"\n",
    " \n",
    "for i in re.finditer(r\"ape\", s):\n",
    " \n",
    "    # Span returns a tuple\n",
    "    locTuple = i.span()\n",
    " \n",
    "    print(locTuple)\n",
    " \n",
    "    # Slice the match out using the tuple values\n",
    "    print(s[locTuple[0]:locTuple[1]])"
   ]
  },
  {
   "cell_type": "markdown",
   "metadata": {},
   "source": [
    "## The . (dot/period) Operator\n",
    "\n",
    "- <b> Matches one single character </b>"
   ]
  },
  {
   "cell_type": "code",
   "execution_count": 19,
   "metadata": {
    "collapsed": false
   },
   "outputs": [
    {
     "name": "stdout",
     "output_type": "stream",
     "text": [
      "['ape ', 'apex', 'apes']\n"
     ]
    }
   ],
   "source": [
    "print(re.findall(r\"ape.\", \"The ape was at the apex of all the apesss\"))"
   ]
  },
  {
   "cell_type": "markdown",
   "metadata": {},
   "source": [
    "## Character Classes\n",
    "- <b> Match 1 of Several Letters</b>"
   ]
  },
  {
   "cell_type": "code",
   "execution_count": 20,
   "metadata": {
    "collapsed": false
   },
   "outputs": [
    {
     "name": "stdout",
     "output_type": "stream",
     "text": [
      "['rat', 'mat', 'fat', 'pat']\n"
     ]
    }
   ],
   "source": [
    "# Denoted by []\n",
    "print(re.findall(r\"[crmfp]at\", \"Cat rat mat fat pat\"))"
   ]
  },
  {
   "cell_type": "code",
   "execution_count": 21,
   "metadata": {
    "collapsed": false,
    "scrolled": true
   },
   "outputs": [
    {
     "name": "stdout",
     "output_type": "stream",
     "text": [
      "['Cat', 'mat', 'fat']\n"
     ]
    }
   ],
   "source": [
    "# Range of characters : denoted by hyphen '-'\n",
    "print(re.findall(\"[c-mC-M]at\", \"Cat rat mat fat pat\"))"
   ]
  },
  {
   "cell_type": "markdown",
   "metadata": {},
   "source": [
    "## The ^ operator\n",
    "\n",
    "- Has 2 meanings based on usage\n",
    "\n",
    "### Inside the character class"
   ]
  },
  {
   "cell_type": "code",
   "execution_count": 4,
   "metadata": {
    "collapsed": false
   },
   "outputs": [
    {
     "name": "stdout",
     "output_type": "stream",
     "text": [
      "['Cat', 'rat', 'fat']\n"
     ]
    }
   ],
   "source": [
    "# Matches everything EXCEPT the characters\n",
    "print(re.findall(r\"[^cmp]at\", \"Cat rat mat fat pat\"))"
   ]
  },
  {
   "cell_type": "markdown",
   "metadata": {},
   "source": [
    "### Outside the character class"
   ]
  },
  {
   "cell_type": "code",
   "execution_count": 8,
   "metadata": {
    "collapsed": false
   },
   "outputs": [
    {
     "name": "stdout",
     "output_type": "stream",
     "text": [
      "['String']\n",
      "[]\n"
     ]
    }
   ],
   "source": [
    "# Matches the start of a string\n",
    "s1 = 'String of characters'\n",
    "s2 = 'This is a String of characters'\n",
    "print(re.findall(r\"^String\", s1))\n",
    "print(re.findall(r\"^String\", s2))"
   ]
  },
  {
   "cell_type": "markdown",
   "metadata": {},
   "source": [
    "## The $ operator\n",
    "- Similar to the ^ operator, matches the END of a string"
   ]
  },
  {
   "cell_type": "code",
   "execution_count": 15,
   "metadata": {
    "collapsed": false
   },
   "outputs": [
    {
     "name": "stdout",
     "output_type": "stream",
     "text": [
      "['end']\n",
      "[]\n"
     ]
    }
   ],
   "source": [
    "s1 = 'The end is at the end'\n",
    "s2 = 'The end is in the middle'\n",
    "print(re.findall(r\"end$\", s1))\n",
    "print(re.findall(r\"end$\", s2))"
   ]
  },
  {
   "cell_type": "markdown",
   "metadata": {},
   "source": [
    "## The compile() function\n",
    "- Create and store a pattern as an object"
   ]
  },
  {
   "cell_type": "code",
   "execution_count": 20,
   "metadata": {
    "collapsed": false
   },
   "outputs": [
    {
     "name": "stdout",
     "output_type": "stream",
     "text": [
      "['Cat', 'rat', 'mat', 'fat', 'pat']\n",
      "['Cat', 'rat', 'mat', 'fat', 'pat']\n"
     ]
    }
   ],
   "source": [
    "# Useful for long patterns\n",
    "s = \"Cat rat mat fat pat\"\n",
    "pat = re.compile(r'.at')\n",
    "print(re.findall(pat,s))\n",
    "print(pat.findall(s))"
   ]
  },
  {
   "cell_type": "markdown",
   "metadata": {
    "collapsed": true
   },
   "source": [
    "## To match a special character\n",
    "- Escape it using the \\"
   ]
  },
  {
   "cell_type": "code",
   "execution_count": 4,
   "metadata": {
    "collapsed": false
   },
   "outputs": [
    {
     "name": "stdout",
     "output_type": "stream",
     "text": [
      "Find \\stuff :  None\n",
      "Find \\stuff :  <_sre.SRE_Match object; span=(8, 14), match='\\\\stuff'>\n"
     ]
    }
   ],
   "source": [
    "s = \"Here is \\\\stuff\"\n",
    " \n",
    "# This won't find it\n",
    "print(\"Find \\\\stuff : \", re.search(\"\\\\stuff\", s))\n",
    " \n",
    "# This will\n",
    "print(\"Find \\\\stuff : \", re.search(\"\\\\\\\\stuff\", s))"
   ]
  },
  {
   "cell_type": "markdown",
   "metadata": {},
   "source": [
    "### Alternatively"
   ]
  },
  {
   "cell_type": "code",
   "execution_count": 5,
   "metadata": {
    "collapsed": false
   },
   "outputs": [
    {
     "name": "stdout",
     "output_type": "stream",
     "text": [
      "Find \\\\stuff :  <_sre.SRE_Match object; span=(8, 14), match='\\\\stuff'>\n"
     ]
    }
   ],
   "source": [
    "# This will\n",
    "print(r\"Find \\\\stuff : \", re.search(r\"\\\\stuff\", s))"
   ]
  },
  {
   "cell_type": "markdown",
   "metadata": {},
   "source": [
    "### Other special characters\n",
    "- '.'\n",
    "- '+'\n",
    "- '?'\n",
    "- '\\n' '\\t', etc\n",
    "- '\\d' or '\\D'\n",
    "- '\\s' or '\\S'\n",
    "- And more"
   ]
  },
  {
   "cell_type": "markdown",
   "metadata": {},
   "source": [
    "## Matching whitespace\n",
    "- <b> '\\s' : Match a space\n",
    "- <b> '\\S' : Match anything except a space"
   ]
  },
  {
   "cell_type": "code",
   "execution_count": 12,
   "metadata": {
    "collapsed": false
   },
   "outputs": [
    {
     "name": "stdout",
     "output_type": "stream",
     "text": [
      "This is a long\n",
      "string that goes\n",
      "on for many lines\n",
      "This(space)is(space)a(space)long(space)string(space)that(space)goes(space)on(space)for(space)many(space)lines\n"
     ]
    }
   ],
   "source": [
    "s = \"\"\"This is a long\n",
    "string that goes\n",
    "on for many lines\"\"\"\n",
    " \n",
    "print(s)\n",
    " \n",
    "# Remove newlines\n",
    "regex = re.compile(\"\\s\")\n",
    " \n",
    "s = regex.sub(\"(space)\", s)\n",
    " \n",
    "print(s)"
   ]
  },
  {
   "cell_type": "markdown",
   "metadata": {},
   "source": [
    "## Matching Any Single Number\n",
    "- <b> '\\d' can be used instead of [0-9]\n",
    "- <b> '\\D' is the same as [^0-9]"
   ]
  },
  {
   "cell_type": "code",
   "execution_count": 15,
   "metadata": {
    "collapsed": false
   },
   "outputs": [
    {
     "name": "stdout",
     "output_type": "stream",
     "text": [
      "Matches : ['1', '2', '3', '4', '5']\n"
     ]
    }
   ],
   "source": [
    "s = \"12345\"\n",
    "print(\"Matches :\", re.findall(\"\\d\", s))"
   ]
  },
  {
   "cell_type": "code",
   "execution_count": 16,
   "metadata": {
    "collapsed": false
   },
   "outputs": [
    {
     "name": "stdout",
     "output_type": "stream",
     "text": [
      "Matches : ['a', 'b', 'f']\n"
     ]
    }
   ],
   "source": [
    "s = \"a1b3f4\"\n",
    "print(\"Matches :\", re.findall(\"\\D\", s))"
   ]
  },
  {
   "cell_type": "markdown",
   "metadata": {},
   "source": [
    "## Matching Any Single Letter, Number or Underscore\n",
    "- <b> '\\w' can be used instead of [0-9a-zA-Z_]\n",
    "- <b> '\\W' is the same as [^0-9a-zA-Z_]"
   ]
  },
  {
   "cell_type": "code",
   "execution_count": 20,
   "metadata": {
    "collapsed": false
   },
   "outputs": [
    {
     "name": "stdout",
     "output_type": "stream",
     "text": [
      "Not a valid number\n"
     ]
    }
   ],
   "source": [
    "phNum = \"412-555-12125\"\n",
    " \n",
    "# Check if it is a phone number\n",
    "if re.search(\"^\\w\\w\\w-\\w\\w\\w-\\w\\w\\w\\w$\", phNum):\n",
    "    print(\"It is a phone number\")\n",
    "else:\n",
    "    print(\"Not a valid number\")"
   ]
  },
  {
   "cell_type": "markdown",
   "metadata": {},
   "source": [
    "### Alternatively\n",
    "- Use the { }\n",
    "- Put the EXPECTED length of the word/number in the brackets \n",
    "- Quantifier"
   ]
  },
  {
   "cell_type": "code",
   "execution_count": 24,
   "metadata": {
    "collapsed": false
   },
   "outputs": [
    {
     "name": "stdout",
     "output_type": "stream",
     "text": [
      "It is a phone number\n"
     ]
    }
   ],
   "source": [
    "phNum = \"412-555-1214\"\n",
    " \n",
    "# Check if it is a phone number\n",
    "if re.search(\"^\\w{3}-\\w{3}-\\w{4}$\", phNum):\n",
    "    print(\"It is a phone number\")\n",
    "else:\n",
    "    print(\"Not a valid number\")"
   ]
  },
  {
   "cell_type": "code",
   "execution_count": 26,
   "metadata": {
    "collapsed": false
   },
   "outputs": [
    {
     "name": "stdout",
     "output_type": "stream",
     "text": [
      "It is a valid full name\n"
     ]
    }
   ],
   "source": [
    "# Ranges of word length - Use {lower bound, upper bound}\n",
    "# Check for valid first and last name with a space between 2 and 20 characters\n",
    "if re.search(\"\\w{2,20}\\s\\w{2,20}\", \"Natarajan Mahalingam\"):\n",
    "    print(\"It is a valid full name\")"
   ]
  },
  {
   "cell_type": "markdown",
   "metadata": {},
   "source": [
    "## Other Quantifiers\n",
    "- '+' : Match ONE or more of the preceding expression\n",
    "- '*' : Match ZERO or more of the preceding expression"
   ]
  },
  {
   "cell_type": "code",
   "execution_count": 92,
   "metadata": {
    "collapsed": false
   },
   "outputs": [
    {
     "name": "stdout",
     "output_type": "stream",
     "text": [
      "Matches : ['cat', 'caaat', 'caaaaaaaat']\n"
     ]
    }
   ],
   "source": [
    "print(\"Matches :\", re.findall(\"ca+t\", \" ct cat caaat caaaaaaaat\"))"
   ]
  },
  {
   "cell_type": "code",
   "execution_count": 93,
   "metadata": {
    "collapsed": false
   },
   "outputs": [
    {
     "name": "stdout",
     "output_type": "stream",
     "text": [
      "Matches : ['ct', 'cat', 'caaat', 'caaaaaaaat']\n"
     ]
    }
   ],
   "source": [
    "print(\"Matches :\", re.findall(\"ca*t\", \"ct cat caaat caaaaaaaat\"))"
   ]
  },
  {
   "cell_type": "markdown",
   "metadata": {},
   "source": [
    "## The Optional modifier\n",
    "- '?' : makes the previous expression optional"
   ]
  },
  {
   "cell_type": "code",
   "execution_count": 115,
   "metadata": {
    "collapsed": false,
    "scrolled": true
   },
   "outputs": [
    {
     "name": "stdout",
     "output_type": "stream",
     "text": [
      "Matches : ['ct', 'cat', 'caaat', 'caaaaaaaat', 'cats', 'cat']\n"
     ]
    }
   ],
   "source": [
    "print(\"Matches :\", re.findall(\"ca*ts?\", \"ct cat caaat caaaaaaaat cats cato\"))"
   ]
  },
  {
   "cell_type": "markdown",
   "metadata": {},
   "source": [
    "## Greedy & Lazy Matching\n",
    "- Use the ? operator again"
   ]
  },
  {
   "cell_type": "code",
   "execution_count": 166,
   "metadata": {
    "collapsed": false
   },
   "outputs": [
    {
     "name": "stdout",
     "output_type": "stream",
     "text": [
      "Matches : ['<name>Nate</name><name>Sam</name><name>Morgan</name><name>Joyce</name><name>Monica</name>']\n"
     ]
    }
   ],
   "source": [
    "# Greedy matching - get the largest possible match\n",
    "randStr = \"\"\"<name>Nate</name><name>Sam</name><name>Morgan</name><name>Joyce</name><name>Monica</name>\"\"\"\n",
    "regex = re.compile(r\"<name>.*</name>\")\n",
    "matches = re.findall(regex, randStr)\n",
    "print(\"Matches :\", matches)"
   ]
  },
  {
   "cell_type": "code",
   "execution_count": 163,
   "metadata": {
    "collapsed": false
   },
   "outputs": [
    {
     "name": "stdout",
     "output_type": "stream",
     "text": [
      "Matches : ['<name>Nate</name>', '<name>Sam</name>', '<name>Morgan</name>', '<name>Joyce</name>', '<name>Monica</name>']\n"
     ]
    }
   ],
   "source": [
    "# Lazy matching - get the smallest possible match\n",
    "randStr = \"\"\"<name>Nate</name><name>Sam</name><name>Morgan</name><name>Joyce</name><name>Monica</name>\"\"\"\n",
    "regex = re.compile(r\"<name>.*?</name>\")\n",
    "matches = re.findall(regex, randStr)\n",
    "print(\"Matches :\", matches)"
   ]
  },
  {
   "cell_type": "markdown",
   "metadata": {},
   "source": [
    "## Word Boundaries\n",
    "- Use to match whole words\n",
    "- \\b matches beginning and end of a word\n",
    "- \\B matches everything EXCEPT beginning and end of word"
   ]
  },
  {
   "cell_type": "code",
   "execution_count": 149,
   "metadata": {
    "collapsed": false
   },
   "outputs": [
    {
     "name": "stdout",
     "output_type": "stream",
     "text": [
      "Matches with word boundaries: ['foo', 'foo', 'foo']\n"
     ]
    }
   ],
   "source": [
    "s = \"\"\"foo foo. (foo) foobar foo123 fooxyz\"\"\"\n",
    "pat = re.compile(r'\\bfoo\\b')\n",
    "matches = re.findall(pat, s)\n",
    "print(\"Matches with word boundaries:\", matches)"
   ]
  },
  {
   "cell_type": "code",
   "execution_count": 153,
   "metadata": {
    "collapsed": false
   },
   "outputs": [
    {
     "name": "stdout",
     "output_type": "stream",
     "text": [
      "Matches without word boundaries: ['foo', 'foo', 'foo', 'foo']\n"
     ]
    }
   ],
   "source": [
    "s1 = \"\"\"foo foo. (foo) foobar foo123 fooxyz abcfooxyz\"\"\"\n",
    "pat = re.compile(r'foo\\B')\n",
    "matches = re.findall(pat, s1)\n",
    "print(\"Matches without word boundaries:\", matches)"
   ]
  },
  {
   "cell_type": "markdown",
   "metadata": {},
   "source": [
    "## Subexpressions\n",
    "- If you want to match for a large block, but only want to return part of it\n",
    "- Splits the match based on ( )"
   ]
  },
  {
   "cell_type": "code",
   "execution_count": 160,
   "metadata": {
    "collapsed": false
   },
   "outputs": [
    {
     "name": "stdout",
     "output_type": "stream",
     "text": [
      "Matches : ['555-1212']\n"
     ]
    }
   ],
   "source": [
    "randStr = \"My number is 412-555-1212\" \n",
    "regex = re.compile(r\"412-(.*)\") \n",
    "matches = re.findall(regex, randStr) \n",
    "print(\"Matches :\", matches)"
   ]
  },
  {
   "cell_type": "code",
   "execution_count": 169,
   "metadata": {
    "collapsed": false
   },
   "outputs": [
    {
     "name": "stdout",
     "output_type": "stream",
     "text": [
      "[('555', '1212')]\n",
      "First 3 digits: 555\n",
      "Last 4 digits: 1212\n"
     ]
    }
   ],
   "source": [
    "randStr = \"My number is 412-555-1212\"\n",
    "regex = re.compile(r\"412-(.*)-(.*)\")\n",
    "matches = re.findall(regex, randStr) # Creates a list of subexpression tuples\n",
    "print(matches)  \n",
    "print('First 3 digits:',matches[0][0])\n",
    "print('Last 4 digits:',matches[0][1])"
   ]
  },
  {
   "cell_type": "markdown",
   "metadata": {
    "collapsed": true
   },
   "source": [
    "## Backreferences\n",
    "- A back reference allows you to to reuse the expression that proceeds it"
   ]
  },
  {
   "cell_type": "code",
   "execution_count": 13,
   "metadata": {
    "collapsed": false
   },
   "outputs": [
    {
     "name": "stdout",
     "output_type": "stream",
     "text": [
      "<a href='#'>Link 1</a>\n",
      "(412)555-1212\n"
     ]
    }
   ],
   "source": [
    "s = \"<a href='#'><b>Link 1</b></a>\"\n",
    " \n",
    "# Regex matches bold tags and grabs the text between them to be used by the back reference\n",
    "pat = re.compile(r\"<b>(.*?)</b>\")\n",
    " \n",
    "# Replace the tags with just the text between them\n",
    "s = re.sub(pat, r\"\\1\", s)\n",
    " \n",
    "print(s)\n",
    " \n",
    "# Another Back Reference example\n",
    " \n",
    "# Receive this string\n",
    "phnum = \"412-555-1212\"\n",
    " \n",
    "# Match the phone number using multiple subexpressions\n",
    "pat = re.compile(r\"([\\d]{3})-([\\d]{3}-[\\d]{4})\")\n",
    " \n",
    "# Output (412)555-1212\n",
    "s = re.sub(pat, r\"(\\1)\\2\", phnum)\n",
    " \n",
    "print(s)"
   ]
  },
  {
   "cell_type": "markdown",
   "metadata": {},
   "source": [
    "# Named Groups\n",
    "- Refer to a specific group by name\n",
    "- Syntax : (?P< Name >expression)"
   ]
  },
  {
   "cell_type": "code",
   "execution_count": 10,
   "metadata": {
    "collapsed": false
   },
   "outputs": [
    {
     "name": "stdout",
     "output_type": "stream",
     "text": [
      "Month : Februray\n",
      "Day : 8\n",
      "Year : 2018\n"
     ]
    }
   ],
   "source": [
    "randStr = \"Februray 8, 2018\"\n",
    " \n",
    "regex = r\"^(?P<month>\\w+)\\s(?P<day>\\d+),\\s(?P<year>\\d+)\"\n",
    " \n",
    "matches = re.search(regex, randStr)\n",
    " \n",
    "print(\"Month :\", matches.group('month'))\n",
    "print(\"Day :\", matches.group('day'))\n",
    "print(\"Year :\", matches.group('year'))"
   ]
  },
  {
   "cell_type": "markdown",
   "metadata": {},
   "source": [
    "# OR conditional\n",
    "- Use the | (pipe) operator\n",
    "- Checks for multiple conditions"
   ]
  },
  {
   "cell_type": "code",
   "execution_count": 7,
   "metadata": {
    "collapsed": false
   },
   "outputs": [
    {
     "name": "stdout",
     "output_type": "stream",
     "text": [
      "['Dog', 'Cat']\n"
     ]
    }
   ],
   "source": [
    "randStr = \"1. Dog 2. Cat 3. Turtle\"\n",
    "regex = re.compile(r\"\\d\\.\\s(Dog|Cat)\") \n",
    "matches = re.findall(regex, randStr)\n",
    "print(matches)"
   ]
  },
  {
   "cell_type": "markdown",
   "metadata": {},
   "source": [
    "# Problems"
   ]
  },
  {
   "cell_type": "markdown",
   "metadata": {},
   "source": [
    "### 1. Create a regex that will match for 5 digit zip codes or zip codes with 5 digits a dash and then 4 digits"
   ]
  },
  {
   "cell_type": "code",
   "execution_count": 14,
   "metadata": {
    "collapsed": false
   },
   "outputs": [
    {
     "name": "stdout",
     "output_type": "stream",
     "text": [
      "['12345 ', '12345-1234']\n"
     ]
    }
   ],
   "source": [
    "# Answer\n",
    "randStr = \"12345 12345-1234 1234 12346-333\"\n",
    "regex = re.compile(r\"(\\d{5}-\\d{4}|\\d{5}\\s)\")\n",
    "matches = re.findall(regex, randStr)\n",
    "print(matches)"
   ]
  },
  {
   "cell_type": "markdown",
   "metadata": {},
   "source": [
    "### 2. Find all of the following email addresses\n",
    " \n",
    "- d+b@aol.com \n",
    "- a_1@yahoo.co.uk \n",
    "- A-100@m-b.INTERNATIONAL\""
   ]
  },
  {
   "cell_type": "code",
   "execution_count": 15,
   "metadata": {
    "collapsed": false
   },
   "outputs": [
    {
     "name": "stdout",
     "output_type": "stream",
     "text": [
      "['d+b@aol.com', 'a_1@yahoo.co.uk', 'A-100@m-b.INTERNATIONAL']\n"
     ]
    }
   ],
   "source": [
    "# Answer\n",
    "randStr = \"d+b@aol.com a_1@yahoo.co.uk A-100@m-b.INTERNATIONAL\"\n",
    "regex = re.compile(r\"[a-zA-Z0-9_.+-]+@[a-zA-Z0-9-]+\\.[a-zA-Z0-9-.]+\")\n",
    "matches = re.findall(regex, randStr)\n",
    "print(matches) "
   ]
  },
  {
   "cell_type": "markdown",
   "metadata": {},
   "source": [
    "### 3. Create HTML tags using backreference substitutions\n",
    "- Receive a string like this \"https://www.youtube.com\"\n",
    "- Convert to < a href='https://www.youtube.com'>www.youtube.com< /a>"
   ]
  },
  {
   "cell_type": "code",
   "execution_count": 19,
   "metadata": {
    "collapsed": false
   },
   "outputs": [
    {
     "name": "stdout",
     "output_type": "stream",
     "text": [
      "<a href='https://www.youtube.com'>www.youtube.com</a>\n",
      "\n"
     ]
    }
   ],
   "source": [
    "# Answer\n",
    "randStr = \"https://www.youtube.com\"\n",
    "regex = re.compile(r\"(https?://([\\w.]+))\")\n",
    "randStr = re.sub(regex, r\"<a href='\\1'>\\2</a>\\n\", randStr)\n",
    "print(randStr)"
   ]
  },
  {
   "cell_type": "markdown",
   "metadata": {},
   "source": [
    "### 4. Create a regex to match phone numbers"
   ]
  },
  {
   "cell_type": "code",
   "execution_count": 16,
   "metadata": {
    "collapsed": false
   },
   "outputs": [
    {
     "name": "stdout",
     "output_type": "stream",
     "text": [
      "14125551212\n",
      "4125551212\n",
      "(412)5551212\n",
      "412 555 1212\n",
      "412-555-1212\n",
      "1-412-555-1212\n",
      "1 412 555 1212\n",
      "+919500632152\n"
     ]
    }
   ],
   "source": [
    "# Answer\n",
    "randStr = \"\"\"14125551212 4125551212 (412)5551212 412 555 1212 412-555-1212 1-412-555-1212 1 412 555 1212\n",
    "             +919500632152\"\"\"\n",
    " \n",
    "regex = re.compile(r\"((\\+\\d{1,2})?((1?)(-|\\s?)(\\()?(\\d{3})(\\)|-|\\s|\\)-|\\)\\s)?(\\d{3})(-|\\s)?(\\d{4}|\\d{4})))\")\n",
    " \n",
    "matches = re.findall(regex, randStr)\n",
    "matches \n",
    "for i in matches:\n",
    "    print(i[0].lstrip())"
   ]
  },
  {
   "cell_type": "markdown",
   "metadata": {},
   "source": [
    "# Final tips\n",
    "- 1) Do not try to do everything in one long regex\n",
    "- 2) Get a regular expression tool\n",
    "- 3) Don't reiinvent the wheel"
   ]
  },
  {
   "cell_type": "markdown",
   "metadata": {},
   "source": [
    "# Resources"
   ]
  },
  {
   "cell_type": "markdown",
   "metadata": {},
   "source": [
    "- regexr.com : my go to website for testing regex\n",
    "- debuggex.com : useful for visualising the structure of regex\n",
    "- Notepad++ : has a good regex engine\n",
    "- rexegg.com : very comprehensive look at regex\n",
    "- regular-expressions.info : More information on regex"
   ]
  }
 ],
 "metadata": {
  "anaconda-cloud": {},
  "kernelspec": {
   "display_name": "Python [default]",
   "language": "python",
   "name": "python3"
  },
  "language_info": {
   "codemirror_mode": {
    "name": "ipython",
    "version": 3
   },
   "file_extension": ".py",
   "mimetype": "text/x-python",
   "name": "python",
   "nbconvert_exporter": "python",
   "pygments_lexer": "ipython3",
   "version": "3.5.2"
  }
 },
 "nbformat": 4,
 "nbformat_minor": 1
}

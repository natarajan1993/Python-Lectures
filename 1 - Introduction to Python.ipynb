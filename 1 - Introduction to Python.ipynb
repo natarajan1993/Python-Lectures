{
 "cells": [
  {
   "cell_type": "code",
   "execution_count": 32,
   "metadata": {
    "collapsed": true
   },
   "outputs": [],
   "source": [
    "from IPython.display import Image, display, HTML\n",
    "import keyword"
   ]
  },
  {
   "cell_type": "markdown",
   "metadata": {},
   "source": [
    " # <center> Variables </center>\n",
    " ### <center><b> Any named location in memory to store a value</b></center>"
   ]
  },
  {
   "cell_type": "markdown",
   "metadata": {},
   "source": [
    "## Common types\n",
    "- Integer – whole numbers\n",
    "- Float/Double – decimals and fractions\n",
    "- String\n",
    "- Character\n",
    "- Boolean – True or False\n",
    "- Complex types – Dictionaries, lists, sets, tuples\n"
   ]
  },
  {
   "cell_type": "code",
   "execution_count": null,
   "metadata": {
    "collapsed": true
   },
   "outputs": [],
   "source": [
    "\"\"\"Valid Names\"\"\"\n",
    "a = 10 # Integer\n",
    "pi = 3.14159 # Double/float\n",
    "name = 'Nate' # String\n",
    "Male = True # Boolean\n",
    "Gender = 'M' # Character\n",
    "\n",
    "dictionary = {'one':1,'two':2}\n",
    "list1 = [1,2,'apple',True,8.5]\n",
    "tuple1 = (1,2,3)"
   ]
  },
  {
   "cell_type": "code",
   "execution_count": null,
   "metadata": {
    "collapsed": true
   },
   "outputs": [],
   "source": [
    "\"\"\"Invalid Names\"\"\"\n",
    "1a = 5\n",
    "a$c = 78\n",
    "l;c = 5.6"
   ]
  },
  {
   "cell_type": "markdown",
   "metadata": {},
   "source": [
    "## 1. Variables can ONLY contain letters, numbers and _\n",
    "## 2. Variables can ONLY start with _ and letters"
   ]
  },
  {
   "cell_type": "code",
   "execution_count": 5,
   "metadata": {
    "collapsed": false,
    "scrolled": true
   },
   "outputs": [
    {
     "data": {
      "text/plain": [
       "['False',\n",
       " 'None',\n",
       " 'True',\n",
       " 'and',\n",
       " 'as',\n",
       " 'assert',\n",
       " 'break',\n",
       " 'class',\n",
       " 'continue',\n",
       " 'def',\n",
       " 'del',\n",
       " 'elif',\n",
       " 'else',\n",
       " 'except',\n",
       " 'finally',\n",
       " 'for',\n",
       " 'from',\n",
       " 'global',\n",
       " 'if',\n",
       " 'import',\n",
       " 'in',\n",
       " 'is',\n",
       " 'lambda',\n",
       " 'nonlocal',\n",
       " 'not',\n",
       " 'or',\n",
       " 'pass',\n",
       " 'raise',\n",
       " 'return',\n",
       " 'try',\n",
       " 'while',\n",
       " 'with',\n",
       " 'yield']"
      ]
     },
     "execution_count": 5,
     "metadata": {},
     "output_type": "execute_result"
    }
   ],
   "source": [
    "                                                        \"\"\"Reserved Words\"\"\"                            \n",
    "sorted(keyword.kwlist)"
   ]
  },
  {
   "cell_type": "markdown",
   "metadata": {},
   "source": [
    "## Python IS case sensitive!"
   ]
  },
  {
   "cell_type": "markdown",
   "metadata": {},
   "source": [
    " # <center> Operators </center>\n",
    " ### <center><b> Anything that performs an operation on 1 or more variable(s)</b></center>"
   ]
  },
  {
   "cell_type": "markdown",
   "metadata": {},
   "source": [
    "<b>Math operators</b>\n",
    "- '+' : addition\n",
    "- '-' : subtraction\n",
    "- '*' : multiplication\n",
    "- / : division\n",
    "- ** : power\n",
    "- % : modulus or remainder"
   ]
  },
  {
   "cell_type": "code",
   "execution_count": 7,
   "metadata": {
    "collapsed": false,
    "scrolled": true
   },
   "outputs": [
    {
     "name": "stdout",
     "output_type": "stream",
     "text": [
      "a+b =  30\n",
      "a-b =  -10\n",
      "a*b =  200\n",
      "a/b =  0.5\n",
      "a**b =  100\n",
      "a%b =  10\n"
     ]
    }
   ],
   "source": [
    "a = 10\n",
    "b = 20\n",
    "\n",
    "print('a+b =',a+b)\n",
    "print('a-b =',a-b)\n",
    "print('a*b =',a*b)\n",
    "print('a/b =',a/b)\n",
    "print('a**b =',a**2)\n",
    "print('a%b =',a%b)"
   ]
  },
  {
   "cell_type": "markdown",
   "metadata": {},
   "source": [
    "<center><b>Comparison operators</b></center>\n",
    "- A > B : A is greater than B\n",
    "- A < B : A is lesser than B\n",
    "- A >= B : A is greater than or equal to B\n",
    "- A <= B : A is lesser than or equal to B\n",
    "- A == B : A is equal to B\n",
    "- A != B : A is not equal to B\n"
   ]
  },
  {
   "cell_type": "code",
   "execution_count": 8,
   "metadata": {
    "collapsed": false
   },
   "outputs": [
    {
     "name": "stdout",
     "output_type": "stream",
     "text": [
      "a>b = False\n",
      "a<b = True\n",
      "a>=b = False\n",
      "a<=b = True\n",
      "a==b = False\n",
      "a!=b = True\n"
     ]
    }
   ],
   "source": [
    "a = 10\n",
    "b = 20\n",
    "\n",
    "print('a>b =',a>b)\n",
    "print('a<b =',a<b)\n",
    "print('a>=b =',a>=b)\n",
    "print('a<=b =',a<=b)\n",
    "print('a==b =',a==2)\n",
    "print('a!=b =',a!=b)"
   ]
  },
  {
   "cell_type": "markdown",
   "metadata": {},
   "source": [
    "<center><b>Logical operators</b></center>\n",
    "\n",
    "<b>Common examples</b>\n",
    "- A and B : True if both  A and B are true\n",
    "- A or B : True if either A or B is true\n",
    "- not A : Flips true to false and false to true\n",
    "\n"
   ]
  },
  {
   "cell_type": "code",
   "execution_count": 11,
   "metadata": {
    "collapsed": false
   },
   "outputs": [
    {
     "name": "stdout",
     "output_type": "stream",
     "text": [
      "'and' example: A and B - False\n",
      "'or' example: A or B - True\n",
      "'not' example: not A - False\n"
     ]
    }
   ],
   "source": [
    "A = True\n",
    "B = False\n",
    "\n",
    "print(\"'and' example: A and B -\", A and B)\n",
    "print(\"'or' example: A or B -\", A or B)\n",
    "print(\"'not' example: not A -\", not A)"
   ]
  },
  {
   "cell_type": "markdown",
   "metadata": {},
   "source": [
    "<center><b>Identity operators</b></center>\n",
    "\n",
    "- <b>is</b> keyword\n",
    "- <b>is not</b> keyword\n",
    "\n",
    "<b>Common examples</b>\n",
    "- A is B : True if both A and B are the same object\n",
    "- A is not B : True if either A or B are not the same object"
   ]
  },
  {
   "cell_type": "code",
   "execution_count": 24,
   "metadata": {
    "collapsed": false
   },
   "outputs": [
    {
     "name": "stdout",
     "output_type": "stream",
     "text": [
      "True\n",
      "True\n",
      "False\n"
     ]
    }
   ],
   "source": [
    "# Example 1\n",
    "x1 = 5\n",
    "x2 = 5\n",
    "print(x1 is x2)\n",
    "\n",
    "# Example 2\n",
    "x1 = 5\n",
    "x2 = 4\n",
    "print(x1 is not x2)\n",
    "\n",
    "x1 = [1,2,3] \n",
    "x2 = [1,2,3]\n",
    "print(x1 is x2)"
   ]
  },
  {
   "cell_type": "markdown",
   "metadata": {},
   "source": [
    "<center><b>Membership operators</b></center>\n",
    "\n",
    "- <b>in</b> keyword\n",
    "- <b>not in</b> keyword\n",
    "\n",
    "<b>Common examples</b>\n",
    "- A in B : True if B contains A\n",
    "- A is not B : True if B does not contain A"
   ]
  },
  {
   "cell_type": "code",
   "execution_count": 25,
   "metadata": {
    "collapsed": false
   },
   "outputs": [
    {
     "name": "stdout",
     "output_type": "stream",
     "text": [
      "True\n",
      "False\n",
      "False\n"
     ]
    }
   ],
   "source": [
    "a = [1,2,3,4,5]\n",
    "print(1 in a)\n",
    "print(6 in a)\n",
    "print(4 not in a)"
   ]
  },
  {
   "cell_type": "markdown",
   "metadata": {},
   "source": [
    " # <center> Strings </center>\n",
    " ### <center><b> One or more characters enclosed by single or double quotes</b></center>"
   ]
  },
  {
   "cell_type": "code",
   "execution_count": 30,
   "metadata": {
    "collapsed": false
   },
   "outputs": [
    {
     "name": "stdout",
     "output_type": "stream",
     "text": [
      "Example of a new line\n",
      "This is on the next line\n"
     ]
    }
   ],
   "source": [
    "# Examples\n",
    "a = 'abc'\n",
    "b = 'Hello World'\n",
    "c = 'True'\n",
    "d = 'You can have anything in this except some special characters'\n",
    "\n",
    "\"\"\"Special (escape) characters\"\"\"                            \n",
    "# \\n - new line\n",
    "# \\t - tab\n",
    "# \\b - backspace\n",
    "# \\a - alert\n",
    "e = 'Example of a new line\\nThis is on the next line'\n",
    "print(e)"
   ]
  },
  {
   "cell_type": "markdown",
   "metadata": {},
   "source": [
    "<center><b>String Operations</b></center>"
   ]
  },
  {
   "cell_type": "code",
   "execution_count": 34,
   "metadata": {
    "collapsed": false,
    "scrolled": false
   },
   "outputs": [
    {
     "name": "stdout",
     "output_type": "stream",
     "text": [
      "helloworld\n",
      "hellohellohello\n",
      "e\n",
      "el\n",
      "o\n",
      "True\n",
      "True\n"
     ]
    }
   ],
   "source": [
    "# Concatenation\n",
    "a = 'hello'\n",
    "b = 'world'\n",
    "print(a+b)\n",
    "\n",
    "# Multiplication\n",
    "print(a*3)\n",
    "\n",
    "# Slicing\n",
    "print(a[1]) # Character at position 1\n",
    "print(a[1:3]) # Characters 1 to 3\n",
    "print(a[-1]) # Character at the last position\n",
    "\n",
    "# Contains\n",
    "print('l' in a)\n",
    "print('e' not in b)"
   ]
  },
  {
   "cell_type": "markdown",
   "metadata": {},
   "source": [
    "<center><b>Useful Functions</b></center>\n",
    "\n",
    "- len() – length of string\n",
    "- upper() – converts lowercase to upper\n",
    "- lower() - converts uppercase to lower\n",
    "- join() - joins characters together\n",
    "- lstrip(), rstrip() and strip() – Strips characters on the left, right or both sides of string\n"
   ]
  },
  {
   "cell_type": "code",
   "execution_count": 10,
   "metadata": {
    "collapsed": false
   },
   "outputs": [
    {
     "name": "stdout",
     "output_type": "stream",
     "text": [
      "Length: 30\n",
      "Uppercase:        THIS IS A TEST STRING  \n",
      "Lowercase:        this is a test string  \n",
      "Joined list using join(): abcde\n",
      "Stripping whitespace from the left: This is a test string  \n",
      "Stripping whitespace from the right:        This is a test string\n",
      "Stripping whitespace from both sides: This is a test string\n"
     ]
    }
   ],
   "source": [
    "test_string = '       This is a test string  '\n",
    "print('Length:',len(test_string))\n",
    "print('Uppercase:',test_string.upper())\n",
    "print('Lowercase:',test_string.lower())\n",
    "test_list = ['a','b','c','d','e']\n",
    "print('Joined list using join():',''.join(test_list))\n",
    "print('Stripping whitespace from the left:',test_string.lstrip())\n",
    "print('Stripping whitespace from the right:',test_string.rstrip())\n",
    "print('Stripping whitespace from both sides:',test_string.strip())"
   ]
  },
  {
   "cell_type": "markdown",
   "metadata": {},
   "source": [
    "<center><b>format() Function</b></center>"
   ]
  },
  {
   "cell_type": "code",
   "execution_count": 62,
   "metadata": {
    "collapsed": false
   },
   "outputs": [
    {
     "name": "stdout",
     "output_type": "stream",
     "text": [
      "This is a formatted string test\n",
      "There are 48 out of 50 states in the mainland\n"
     ]
    }
   ],
   "source": [
    "a = 'This is a formatted string {}'.format('test')\n",
    "print(a)\n",
    "b = 'There are {} out of {} states in the mainland'.format(48,50)\n",
    "print(b)"
   ]
  },
  {
   "cell_type": "markdown",
   "metadata": {},
   "source": [
    " # <center> Control Flow </center>\n",
    " ### <center><b> Skip certain lines if conditions are met</b></center>"
   ]
  },
  {
   "cell_type": "markdown",
   "metadata": {},
   "source": [
    "## if statement"
   ]
  },
  {
   "cell_type": "code",
   "execution_count": 11,
   "metadata": {
    "collapsed": false,
    "scrolled": true
   },
   "outputs": [
    {
     "name": "stdout",
     "output_type": "stream",
     "text": [
      "You can legally drink\n"
     ]
    }
   ],
   "source": [
    "age  = 21\n",
    "if age >= 21:\n",
    "    print('You can legally drink')"
   ]
  },
  {
   "cell_type": "markdown",
   "metadata": {},
   "source": [
    "## else statement"
   ]
  },
  {
   "cell_type": "code",
   "execution_count": 13,
   "metadata": {
    "collapsed": false
   },
   "outputs": [
    {
     "name": "stdout",
     "output_type": "stream",
     "text": [
      "You are under arrest\n"
     ]
    }
   ],
   "source": [
    "age  = 20\n",
    "if age >= 21:\n",
    "    print('You can legally drink')\n",
    "else:\n",
    "    print('You are under arrest')"
   ]
  },
  {
   "cell_type": "markdown",
   "metadata": {},
   "source": [
    "## elif statement"
   ]
  },
  {
   "cell_type": "code",
   "execution_count": 14,
   "metadata": {
    "collapsed": false
   },
   "outputs": [
    {
     "name": "stdout",
     "output_type": "stream",
     "text": [
      "Here is your gun. But you can’t drink\n"
     ]
    }
   ],
   "source": [
    "age  = 20\n",
    "if age >= 21:\n",
    "    print('You can legally drink')\n",
    "elif age >=18 and age < 21:\n",
    "    print('Here is your gun. But you can’t drink')\n",
    "else:\n",
    "    print('You are under arrest')"
   ]
  },
  {
   "cell_type": "markdown",
   "metadata": {},
   "source": [
    "## Nested Statements"
   ]
  },
  {
   "cell_type": "code",
   "execution_count": 15,
   "metadata": {
    "collapsed": false
   },
   "outputs": [
    {
     "name": "stdout",
     "output_type": "stream",
     "text": [
      "Positive number\n"
     ]
    }
   ],
   "source": [
    "num = 45\n",
    "if num >= 0:\n",
    "    if num == 0:\n",
    "        print(\"Zero\")\n",
    "    else:\n",
    "        print(\"Positive number\")\n",
    "else:\n",
    "    print(\"Negative number\")"
   ]
  },
  {
   "cell_type": "markdown",
   "metadata": {},
   "source": [
    " # <center>Looping</center>\n",
    " ### <center><b> Repeat certain lines for a specific amount of times</b></center>"
   ]
  },
  {
   "cell_type": "markdown",
   "metadata": {},
   "source": [
    "## for loop\n",
    "\n",
    "- range() - creates an iterator with numbers of elements\n",
    "\n",
    "- Any object that can be looped over is called an iterator\n"
   ]
  },
  {
   "cell_type": "code",
   "execution_count": 19,
   "metadata": {
    "collapsed": false
   },
   "outputs": [
    {
     "name": "stdout",
     "output_type": "stream",
     "text": [
      "it is iterable\n"
     ]
    }
   ],
   "source": [
    "# How to check if an object can be iterated over\n",
    "try:\n",
    "    iterator = iter(range(10))\n",
    "    print('it is iterable')\n",
    "except TypeError:\n",
    "    print('Not iterable')"
   ]
  },
  {
   "cell_type": "code",
   "execution_count": 20,
   "metadata": {
    "collapsed": false
   },
   "outputs": [
    {
     "name": "stdout",
     "output_type": "stream",
     "text": [
      "0 1 2 3 4 5 6 7 8 9 "
     ]
    }
   ],
   "source": [
    "for i in range(10):\n",
    "    print(i,end = ' ')"
   ]
  },
  {
   "cell_type": "code",
   "execution_count": 25,
   "metadata": {
    "collapsed": false
   },
   "outputs": [
    {
     "name": "stdout",
     "output_type": "stream",
     "text": [
      "1\n",
      "2\n",
      "5\n",
      "7\n",
      "2.4\n",
      "True\n",
      "abcs\n"
     ]
    }
   ],
   "source": [
    "l = [1,2,5,7,2.4,True,'abcs']\n",
    "for i in l:\n",
    "    print(i)"
   ]
  },
  {
   "cell_type": "markdown",
   "metadata": {},
   "source": [
    "## while loop"
   ]
  },
  {
   "cell_type": "code",
   "execution_count": 26,
   "metadata": {
    "collapsed": false
   },
   "outputs": [
    {
     "name": "stdout",
     "output_type": "stream",
     "text": [
      "1\n",
      "2\n",
      "3\n",
      "4\n",
      "5\n",
      "6\n",
      "7\n",
      "8\n",
      "9\n",
      "10\n"
     ]
    }
   ],
   "source": [
    "i = 1\n",
    "while i<=10:\n",
    "    print(i)\n",
    "    i += 1"
   ]
  },
  {
   "cell_type": "markdown",
   "metadata": {},
   "source": [
    "## break and continue statements"
   ]
  },
  {
   "cell_type": "code",
   "execution_count": 3,
   "metadata": {
    "collapsed": false
   },
   "outputs": [
    {
     "name": "stdout",
     "output_type": "stream",
     "text": [
      "2 is a prime number\n",
      "3 is a prime number\n",
      "4 equals 2 * 2.0\n",
      "5 is a prime number\n",
      "6 equals 2 * 3.0\n",
      "7 is a prime number\n",
      "8 equals 2 * 4.0\n",
      "9 equals 3 * 3.0\n"
     ]
    }
   ],
   "source": [
    "#break is used to break out of a loop\n",
    "for n in range(2, 10):\n",
    "     for x in range(2, n):\n",
    "        if n % x == 0:\n",
    "            print(n, 'equals', x, '*', n/x)\n",
    "            break\n",
    "     else: # Use else in a loop as the default condition \n",
    "        print(n, 'is a prime number')"
   ]
  },
  {
   "cell_type": "code",
   "execution_count": 4,
   "metadata": {
    "collapsed": false,
    "scrolled": true
   },
   "outputs": [
    {
     "name": "stdout",
     "output_type": "stream",
     "text": [
      "Found an even number 2\n",
      "Not an even number 3\n",
      "Found an even number 4\n",
      "Not an even number 5\n",
      "Found an even number 6\n",
      "Not an even number 7\n",
      "Found an even number 8\n",
      "Not an even number 9\n"
     ]
    }
   ],
   "source": [
    "# Continue statement goes to the next iteration of the loop skipping every subsequent line\n",
    "for num in range(2, 10):\n",
    "     if num % 2 == 0:\n",
    "        print (\"Found an even number\", num)\n",
    "        continue\n",
    "     print(\"Not an even number\", num)"
   ]
  },
  {
   "cell_type": "markdown",
   "metadata": {},
   "source": [
    " # <center>Data Structures</center>"
   ]
  },
  {
   "cell_type": "markdown",
   "metadata": {},
   "source": [
    "## Lists\n",
    "\n",
    "Collection of data in one place\n",
    "\n",
    "<b>Common functions</b>\n",
    "- append(x) – add x to end of list\n",
    "- pop() – return last element and delete it\n",
    "- remove(x) – remove first item whose value is x\n",
    "- count(x) – count occurrences of x\n",
    "- sorted(x) – sorts the list x"
   ]
  },
  {
   "cell_type": "code",
   "execution_count": 28,
   "metadata": {
    "collapsed": false,
    "scrolled": true
   },
   "outputs": [
    {
     "name": "stdout",
     "output_type": "stream",
     "text": [
      "[9, 2, 1, 3, 4, 5, 6, 6, 4] <class 'list'>\n"
     ]
    }
   ],
   "source": [
    "a = [9,2,1,3,4,5,6,6,4]\n",
    "print(a,type(a))\n",
    "# a.append(7)\n",
    "# print(a)\n",
    "# print(a.pop())\n",
    "# a.remove(4)\n",
    "# print(a)\n",
    "# print(a.count(6))\n",
    "# print(sorted(a))"
   ]
  },
  {
   "cell_type": "markdown",
   "metadata": {},
   "source": [
    "## Dictionaries\n",
    "\n",
    "Key-value pairs of data\n",
    "\n",
    "<b>Common functions</b>\n",
    "- keys() – returns the keys of the dictionary\n",
    "- values() – returns the values of the dictionary"
   ]
  },
  {
   "cell_type": "code",
   "execution_count": 27,
   "metadata": {
    "collapsed": false
   },
   "outputs": [
    {
     "name": "stdout",
     "output_type": "stream",
     "text": [
      "{1: 'One', 'list': [1, 2, 3], 'first': 1, 'third': 3, 'dict': True, 'second': 2} <class 'dict'>\n"
     ]
    }
   ],
   "source": [
    "d = {'first':1,'second':2,'third':3,'dict':True,1:'One','list':[1,2,3]}\n",
    "print(d,type(d))\n",
    "# print('Keys:',d.keys())\n",
    "# print('Values:',d.values())\n",
    "# print(d['first'])\n",
    "# print(d['dict'])\n",
    "# print(d[1])\n",
    "# print(d['list'])"
   ]
  },
  {
   "cell_type": "markdown",
   "metadata": {},
   "source": [
    "## Sets\n",
    "\n",
    "List with only unique data"
   ]
  },
  {
   "cell_type": "code",
   "execution_count": 26,
   "metadata": {
    "collapsed": false
   },
   "outputs": [
    {
     "name": "stdout",
     "output_type": "stream",
     "text": [
      "{'t', 'j', 'n', 'r', 'N', 'a'} <class 'set'>\n"
     ]
    }
   ],
   "source": [
    "s = set('Natarajan')\n",
    "print(s,type(s))"
   ]
  },
  {
   "cell_type": "markdown",
   "metadata": {},
   "source": [
    "## Tuples\n",
    "\n",
    "List with with <b>immutable</b> data"
   ]
  },
  {
   "cell_type": "code",
   "execution_count": 30,
   "metadata": {
    "collapsed": false
   },
   "outputs": [
    {
     "name": "stdout",
     "output_type": "stream",
     "text": [
      "(1, 2, 3, 4, 5) <class 'tuple'>\n"
     ]
    }
   ],
   "source": [
    "a = (1,2,3,4,5)\n",
    "print(a,type(a))\n",
    "# a.append(6)\n",
    "# Useful for situations where the values should not be changed"
   ]
  },
  {
   "cell_type": "markdown",
   "metadata": {},
   "source": [
    "## Comprehensions\n",
    "\n",
    "Shorthand way of iterating through data structures"
   ]
  },
  {
   "cell_type": "code",
   "execution_count": 37,
   "metadata": {
    "collapsed": false
   },
   "outputs": [
    {
     "name": "stdout",
     "output_type": "stream",
     "text": [
      "[0, 1, 4, 9, 16, 25, 36, 49, 64, 81]\n",
      "[0, 1, 4, 9, 16, 25, 36, 49, 64, 81]\n"
     ]
    }
   ],
   "source": [
    "squares = []\n",
    "for i in range(10):\n",
    "    squares.append(i**2)\n",
    "print(squares)\n",
    "\n",
    "# is the same as writing\n",
    "squares2 = [i**2 for i in range(10)]\n",
    "print(squares2)"
   ]
  },
  {
   "cell_type": "markdown",
   "metadata": {},
   "source": [
    "### A more complicated example"
   ]
  },
  {
   "cell_type": "code",
   "execution_count": 39,
   "metadata": {
    "collapsed": false
   },
   "outputs": [
    {
     "name": "stdout",
     "output_type": "stream",
     "text": [
      "[(1, 3), (1, 4), (1, 5), (2, 3), (2, 4), (2, 5), (3, 4), (3, 5)]\n"
     ]
    }
   ],
   "source": [
    "out = [(x,y) for x in [1,2,3] for y in [3,4,5] if x!=y] # Create a pair of x and y if they are not equal\n",
    "print(out)"
   ]
  },
  {
   "cell_type": "code",
   "execution_count": 45,
   "metadata": {
    "collapsed": false,
    "scrolled": true
   },
   "outputs": [
    {
     "name": "stdout",
     "output_type": "stream",
     "text": [
      "['THE', 'the', 3]\n",
      "['QUICK', 'quick', 5]\n",
      "['BROWN', 'brown', 5]\n",
      "['FOX', 'fox', 3]\n",
      "['JUMPS', 'jumps', 5]\n",
      "['OVER', 'over', 4]\n",
      "['THE', 'the', 3]\n",
      "['LAZY', 'lazy', 4]\n",
      "['DOG', 'dog', 3]\n"
     ]
    }
   ],
   "source": [
    "# Nested comprehensions\n",
    "words = 'The quick brown fox jumps over the lazy dog'.split()\n",
    "stuff = [[w.upper(), w.lower(), len(w)] for w in words]\n",
    "for i in stuff:\n",
    "    print(i)"
   ]
  },
  {
   "cell_type": "code",
   "execution_count": 34,
   "metadata": {
    "collapsed": false,
    "scrolled": true
   },
   "outputs": [
    {
     "data": {
      "image/png": "[encoded data removed]",
      "text/plain": [
       "<IPython.core.display.Image object>"
      ]
     },
     "execution_count": 34,
     "metadata": {},
     "output_type": "execute_result"
    }
   ],
   "source": [
    "Image(filename=\"D:\\Programming\\Jupyter notebooks\\Python Lectures\\pics\\comprehension.png\")"
   ]
  },
  {
   "cell_type": "markdown",
   "metadata": {},
   "source": [
    "# <center>Functions </center>\n",
    "\n",
    "\n",
    "- Block of code that can be called to run any time\n",
    "\n",
    "- Create using the <b>def</b> keyword \n",
    "\n",
    "- Useful when running large programs\n",
    "\n",
    "- Prevents code repetition"
   ]
  },
  {
   "cell_type": "code",
   "execution_count": 46,
   "metadata": {
    "collapsed": false
   },
   "outputs": [
    {
     "name": "stdout",
     "output_type": "stream",
     "text": [
      "This is a dummy function\n"
     ]
    }
   ],
   "source": [
    "def dummy_func():\n",
    "    print('This is a dummy function')\n",
    "dummy_func()"
   ]
  },
  {
   "cell_type": "code",
   "execution_count": 48,
   "metadata": {
    "collapsed": false
   },
   "outputs": [
    {
     "name": "stdout",
     "output_type": "stream",
     "text": [
      "This is a dummy function with an input argument 5\n"
     ]
    }
   ],
   "source": [
    "def dummy_func2(a):\n",
    "    print('This is a dummy function with an input argument',a)\n",
    "dummy_func2(5)"
   ]
  },
  {
   "cell_type": "code",
   "execution_count": 50,
   "metadata": {
    "collapsed": false
   },
   "outputs": [
    {
     "name": "stdout",
     "output_type": "stream",
     "text": [
      "The sum of the 2 numbers is: 11\n"
     ]
    }
   ],
   "source": [
    "def sum_two_numbers(a,b):\n",
    "    print('The sum of the 2 numbers is:',(a+b))\n",
    "sum_two_numbers(5,6)"
   ]
  },
  {
   "cell_type": "code",
   "execution_count": 51,
   "metadata": {
    "collapsed": false
   },
   "outputs": [
    {
     "name": "stdout",
     "output_type": "stream",
     "text": [
      "11\n"
     ]
    }
   ],
   "source": [
    "def func_with_return(a,b):\n",
    "    return a+b\n",
    "ans = func_with_return(5,6)\n",
    "print(ans)"
   ]
  },
  {
   "cell_type": "code",
   "execution_count": 53,
   "metadata": {
    "collapsed": false
   },
   "outputs": [
    {
     "name": "stdout",
     "output_type": "stream",
     "text": [
      "6\n",
      "17\n"
     ]
    }
   ],
   "source": [
    "def func_with_default(a,b = 1):\n",
    "    return a+b\n",
    "\n",
    "add_one = func_with_default(5)\n",
    "print(add_one)\n",
    "\n",
    "add_random = func_with_default(8,9)\n",
    "print(add_random)"
   ]
  },
  {
   "cell_type": "markdown",
   "metadata": {},
   "source": [
    "# <center>Functions </center>\n",
    "\n",
    "<b>Common functions</b>\n",
    "- open()\n",
    "- read() - read the file as one big string\n",
    "- readline() - read the file line by line\n",
    "- readlines() - read the file as a list of strings\n",
    "- write() - write one line\n",
    "- writelines() - write a list of strings"
   ]
  },
  {
   "cell_type": "markdown",
   "metadata": {},
   "source": [
    "<b>Reading modes</b>\n",
    "- ‘r’ – read\n",
    "- ‘w’ – write\n",
    "- ‘a’ – append\n"
   ]
  },
  {
   "cell_type": "code",
   "execution_count": 58,
   "metadata": {
    "collapsed": false
   },
   "outputs": [],
   "source": [
    "# Reading from a file\n",
    "f = open(r'D:\\Programming\\Jupyter notebooks\\Python Lectures\\test_file.txt','r') # f is the FILE HANDLE\n",
    "# print(f.read())\n",
    "# print(f.readline())\n",
    "# print(f.readlines())\n",
    "f.close()"
   ]
  },
  {
   "cell_type": "code",
   "execution_count": 59,
   "metadata": {
    "collapsed": true
   },
   "outputs": [],
   "source": [
    "f = open(r'D:\\Programming\\Jupyter notebooks\\Python Lectures\\test_file.txt','w') # f is the FILE HANDLE\n",
    "f.write('This is an example line for writing to a file')\n",
    "f.close()"
   ]
  },
  {
   "cell_type": "code",
   "execution_count": 51,
   "metadata": {
    "collapsed": false,
    "scrolled": true
   },
   "outputs": [
    {
     "name": "stdout",
     "output_type": "stream",
     "text": [
      "H A N G M A N\n",
      "\n",
      "\n",
      "  +---+\n",
      "  |   |\n",
      "      |\n",
      "      |\n",
      "      |\n",
      "      |\n",
      "=========\n",
      "\n",
      "Missed letters: \n",
      "_ _ _ _ _ _ \n",
      "Guess a letter.\n",
      "a\n",
      "\n",
      "\n",
      "  +---+\n",
      "  |   |\n",
      "  O   |\n",
      "      |\n",
      "      |\n",
      "      |\n",
      "=========\n",
      "\n",
      "Missed letters: a \n",
      "_ _ _ _ _ _ \n",
      "Guess a letter.\n",
      "c\n",
      "\n",
      "\n",
      "  +---+\n",
      "  |   |\n",
      "  O   |\n",
      "  |   |\n",
      "      |\n",
      "      |\n",
      "=========\n",
      "\n",
      "Missed letters: a c \n",
      "_ _ _ _ _ _ \n",
      "Guess a letter.\n",
      "f\n",
      "\n",
      "\n",
      "  +---+\n",
      "  |   |\n",
      "  O   |\n",
      " /|   |\n",
      "      |\n",
      "      |\n",
      "=========\n",
      "\n",
      "Missed letters: a c f \n",
      "_ _ _ _ _ _ \n",
      "Guess a letter.\n",
      "we\n",
      "Please enter a single letter.\n",
      "Guess a letter.\n",
      "f\n",
      "You have already guessed that letter. Choose again.\n",
      "Guess a letter.\n",
      "s\n",
      "\n",
      "\n",
      "  +---+\n",
      "  |   |\n",
      "  O   |\n",
      " /|\\  |\n",
      "      |\n",
      "      |\n",
      "=========\n",
      "\n",
      "Missed letters: a c f s \n",
      "_ _ _ _ _ _ \n",
      "Guess a letter.\n",
      "v\n",
      "\n",
      "\n",
      "  +---+\n",
      "  |   |\n",
      "  O   |\n",
      " /|\\  |\n",
      " /    |\n",
      "      |\n",
      "=========\n",
      "\n",
      "Missed letters: a c f s v \n",
      "_ _ _ _ _ _ \n",
      "Guess a letter.\n",
      "b\n",
      "\n",
      "\n",
      "  +---+\n",
      "  |   |\n",
      "  O   |\n",
      " /|\\  |\n",
      " / \\  |\n",
      "      |\n",
      "=========\n",
      "\n",
      "Missed letters: a c f s v b \n",
      "_ _ _ _ _ _ \n",
      "You have run out of guesses!\n",
      "After 6 missed guesses and 0 correct guesses, the word was \"mother\"\n",
      "Do you want to play again? (yes or no)\n",
      "no\n"
     ]
    }
   ],
   "source": [
    "\n",
    "\"\"\"https://github.com/asweigart/inventwithpython3rded/tree/master/src\"\"\"\n",
    "\n",
    "import random # Import the random module we will be using for doing random rolls\n",
    "# This is a list of strings of the various states of the hangman\n",
    "HANGMANPICS = ['''\n",
    "\n",
    "  +---+\n",
    "  |   |\n",
    "      |\n",
    "      |\n",
    "      |\n",
    "      |\n",
    "=========''', '''\n",
    "\n",
    "  +---+\n",
    "  |   |\n",
    "  O   |\n",
    "      |\n",
    "      |\n",
    "      |\n",
    "=========''', '''\n",
    "\n",
    "  +---+\n",
    "  |   |\n",
    "  O   |\n",
    "  |   |\n",
    "      |\n",
    "      |\n",
    "=========''', '''\n",
    "\n",
    "  +---+\n",
    "  |   |\n",
    "  O   |\n",
    " /|   |\n",
    "      |\n",
    "      |\n",
    "=========''', '''\n",
    "\n",
    "  +---+\n",
    "  |   |\n",
    "  O   |\n",
    " /|\\  |\n",
    "      |\n",
    "      |\n",
    "=========''', '''\n",
    "\n",
    "  +---+\n",
    "  |   |\n",
    "  O   |\n",
    " /|\\  |\n",
    " /    |\n",
    "      |\n",
    "=========''', '''\n",
    "\n",
    "  +---+\n",
    "  |   |\n",
    "  O   |\n",
    " /|\\  |\n",
    " / \\  |\n",
    "      |\n",
    "=========''']\n",
    "# This is the list of valid words that the game knows\n",
    "with open(r'D:\\Programming\\Jupyter notebooks\\Python Lectures\\words.txt') as f:\n",
    "    words = f.read().split('\\n')\n",
    "\n",
    "# This function returns a random string from the passed list of strings.\n",
    "def getRandomWord(wordList): # pass in the list of words as an argument\n",
    "    wordIndex = random.randint(0, len(wordList) - 1) # This returns a number between 0 and the length of the list of words\n",
    "    return wordList[wordIndex] # Return the word at that random index\n",
    "\n",
    "def displayBoard(HANGMANPICS, missedLetters, correctLetters, secretWord):\n",
    "    print(HANGMANPICS[len(missedLetters)]) # Display the correct state of the board\n",
    "    print()\n",
    "\n",
    "    print('Missed letters:', end=' ')\n",
    "    for letter in missedLetters: # Print the missing letters\n",
    "        print(letter, end=' ')\n",
    "    print()\n",
    "\n",
    "    blanks = '_' * len(secretWord) # Create blanks equal to the number of letters\n",
    "\n",
    "    for i in range(len(secretWord)): # replace blanks with correctly guessed letters\n",
    "        if secretWord[i] in correctLetters: \n",
    "            blanks = blanks[:i] + secretWord[i] + blanks[i+1:]\n",
    "\n",
    "    for letter in blanks: # show the secret word with spaces in between each letter\n",
    "        print(letter, end=' ')\n",
    "    print()\n",
    "\n",
    "def getGuess(alreadyGuessed):\n",
    "    # Returns the letter the player entered. This function makes sure the player entered a single letter, and not something else.\n",
    "    while True: # Infinite loop with a break condition\n",
    "        print('Guess a letter.')\n",
    "        guess = input() # Get the input from the user\n",
    "        guess = guess.lower() # Convert to lowercase to prevent ambiguity\n",
    "        if len(guess) != 1: # Make sure its only one letter\n",
    "            print('Please enter a single letter.')\n",
    "        elif guess in alreadyGuessed: # Make sure that it hasnt been said already\n",
    "            print('You have already guessed that letter. Choose again.')\n",
    "        elif guess not in 'abcdefghijklmnopqrstuvwxyz': # Make sure its in the alphabet\n",
    "            print('Please enter a LETTER.')\n",
    "        else:\n",
    "            return guess\n",
    "\n",
    "def playAgain():\n",
    "    # This function returns True if the player wants to play again, otherwise it returns False.\n",
    "    print('Do you want to play again? (yes or no)')\n",
    "    return input().lower().startswith('y')\n",
    "\n",
    "\n",
    "print('H A N G M A N')\n",
    "missedLetters = ''\n",
    "correctLetters = ''\n",
    "secretWord = getRandomWord(words) # Get a random word from our list of words\n",
    "gameIsDone = False # Game state\n",
    "\n",
    "while True: # Another infinite loop\n",
    "    displayBoard(HANGMANPICS, missedLetters, correctLetters, secretWord) # This will update the game each turn\n",
    "\n",
    "    # Let the player type in a letter.\n",
    "    guess = getGuess(missedLetters + correctLetters)\n",
    "\n",
    "    if guess in secretWord:\n",
    "        correctLetters = correctLetters + guess\n",
    "\n",
    "        # Check if the player has won at each stage\n",
    "        foundAllLetters = True\n",
    "        for i in range(len(secretWord)):\n",
    "            if secretWord[i] not in correctLetters: # If the \n",
    "                foundAllLetters = False\n",
    "                break\n",
    "        if foundAllLetters:\n",
    "            print('Yes! The secret word is \"' + secretWord + '\"! You have won!')\n",
    "            gameIsDone = True\n",
    "    else:\n",
    "        missedLetters = missedLetters + guess\n",
    "\n",
    "        # Check if player has guessed too many times and lost\n",
    "        if len(missedLetters) == len(HANGMANPICS) - 1:\n",
    "            displayBoard(HANGMANPICS, missedLetters, correctLetters, secretWord)\n",
    "            print('You have run out of guesses!\\nAfter ' + str(len(missedLetters)) + ' missed guesses and ' + str(len(correctLetters)) + ' correct guesses, the word was \"' + secretWord + '\"')\n",
    "            gameIsDone = True\n",
    "\n",
    "    # Ask the player if they want to play again (but only if the game is done).\n",
    "    if gameIsDone:\n",
    "        if playAgain():\n",
    "            missedLetters = ''\n",
    "            correctLetters = ''\n",
    "            gameIsDone = False\n",
    "            secretWord = getRandomWord(words)\n",
    "        else: # If they dont want to play again, exit the game loop\n",
    "            break"
   ]
  }
 ],
 "metadata": {
  "anaconda-cloud": {},
  "kernelspec": {
   "display_name": "Python [conda root]",
   "language": "python",
   "name": "conda-root-py"
  },
  "language_info": {
   "codemirror_mode": {
    "name": "ipython",
    "version": 3
   },
   "file_extension": ".py",
   "mimetype": "text/x-python",
   "name": "python",
   "nbconvert_exporter": "python",
   "pygments_lexer": "ipython3",
   "version": "3.5.2"
  }
 },
 "nbformat": 4,
 "nbformat_minor": 1
}

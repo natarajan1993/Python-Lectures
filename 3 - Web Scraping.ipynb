{
 "cells": [
  {
   "cell_type": "markdown",
   "metadata": {},
   "source": [
    "# <center> Web Scraping </center> "
   ]
  },
  {
   "cell_type": "markdown",
   "metadata": {},
   "source": [
    "## Basic HTML\n",
    "- Hyper Text Markup Language\n",
    "- <b>NOT</b> a \"real\" programming language\n",
    "- Ways to design or \"markup\" text\n",
    "- Text and other things are enclosed in 'tags' which define the behaviour of the text at that point"
   ]
  },
  {
   "cell_type": "markdown",
   "metadata": {},
   "source": [
    "#### Detour - What is a real programming language"
   ]
  },
  {
   "cell_type": "markdown",
   "metadata": {},
   "source": [
    "A 'real' programming language is something that simulate a Turing Maching\n",
    "- Also known as Turing complete"
   ]
  },
  {
   "cell_type": "markdown",
   "metadata": {},
   "source": [
    "Ok... what's a Turing Machine"
   ]
  },
  {
   "cell_type": "code",
   "execution_count": 27,
   "metadata": {
    "scrolled": true
   },
   "outputs": [
    {
     "data": {
      "image/jpeg": "[encoded data removed]",
      "text/plain": [
       "<IPython.core.display.Image object>"
      ]
     },
     "execution_count": 27,
     "metadata": {},
     "output_type": "execute_result"
    }
   ],
   "source": [
    "from IPython.display import Image\n",
    "Image(r'https://www.cl.cam.ac.uk/projects/raspberrypi/tutorials/turing-machine/example_turing_tape.jpg')"
   ]
  },
  {
   "cell_type": "markdown",
   "metadata": {},
   "source": [
    "A Turing Machine can\n",
    "1. Read the symbol on the square under the head.\n",
    "2. Edit the symbol by writing a new symbol or erasing it.\n",
    "3. Move the tape left of right by one square so that the machine can read and edit the symbol on a neighbouring square.\n",
    "4. Track the state of the program"
   ]
  },
  {
   "cell_type": "markdown",
   "metadata": {},
   "source": [
    "### In practical terms - When is a language a 'real' programming languge\n",
    "- Able to read and write data\n",
    "- Able to refer to other variables using the head - loops, conditionals, etc\n",
    "- Able to keep track of states of the program\n",
    "- Able to eventually conclude"
   ]
  },
  {
   "cell_type": "markdown",
   "metadata": {},
   "source": [
    "# <center> ----- HTML does <b> NONE </b> of those ----- </center> "
   ]
  },
  {
   "cell_type": "markdown",
   "metadata": {},
   "source": [
    "## Turing complete languages\n",
    "- Python\n",
    "- C\n",
    "- C++\n",
    "- Java\n",
    "- Matlab\n",
    "- R\n",
    "- And many more"
   ]
  },
  {
   "cell_type": "markdown",
   "metadata": {},
   "source": [
    "## Languages that are NOT Turing complete\n",
    "- HTML\n",
    "- SQL\n",
    "- XML\n",
    "- Latex\n",
    "- Regex"
   ]
  },
  {
   "cell_type": "markdown",
   "metadata": {},
   "source": [
    "### Back to HTML"
   ]
  },
  {
   "cell_type": "code",
   "execution_count": null,
   "metadata": {},
   "outputs": [],
   "source": [
    "## Common tags\n",
    "# <a> : defines a link\n",
    "# <b> : bold text\n",
    "# <center>\n",
    "# <table>,<tbody>,<tr>,<td> : Table components\n",
    "# <span>, <div>: Defines a section in a document\n",
    "# <p>: paragraph"
   ]
  },
  {
   "cell_type": "markdown",
   "metadata": {},
   "source": [
    "## Examples"
   ]
  },
  {
   "cell_type": "code",
   "execution_count": 38,
   "metadata": {},
   "outputs": [
    {
     "data": {
      "text/html": [
       "<body>\n",
       "  <p> This is first Paragraphs </p>\n",
       "  <p> This is Second Paragraphs </p>\n",
       "</body>"
      ],
      "text/plain": [
       "<IPython.core.display.HTML object>"
      ]
     },
     "metadata": {},
     "output_type": "display_data"
    }
   ],
   "source": [
    "%%html\n",
    "<body>\n",
    "  <p> This is first Paragraphs </p>\n",
    "  <p> This is Second Paragraphs </p>\n",
    "</body>"
   ]
  },
  {
   "cell_type": "code",
   "execution_count": 39,
   "metadata": {},
   "outputs": [
    {
     "data": {
      "text/html": [
       "<body>\n",
       "    <h1>Heading h1</h1>\n",
       "    <h2>Heading h2</h2>\n",
       "    <h3>Heading h3</h3>\n",
       "    <h4>Heading h4</h4>\n",
       "    <h5>Heading h5</h5>\n",
       "    <h6>Heading h6</h6>\n",
       "</body>"
      ],
      "text/plain": [
       "<IPython.core.display.HTML object>"
      ]
     },
     "metadata": {},
     "output_type": "display_data"
    }
   ],
   "source": [
    "%%html\n",
    "<body>\n",
    "    <h1>Heading h1</h1>\n",
    "    <h2>Heading h2</h2>\n",
    "    <h3>Heading h3</h3>\n",
    "    <h4>Heading h4</h4>\n",
    "    <h5>Heading h5</h5>\n",
    "    <h6>Heading h6</h6>\n",
    "</body>"
   ]
  },
  {
   "cell_type": "code",
   "execution_count": 40,
   "metadata": {},
   "outputs": [
    {
     "data": {
      "text/html": [
       "<body>\n",
       "    <a href=\"https://github.com/natarajan1993\">Nate&apos;s github page</a>\n",
       "</body>"
      ],
      "text/plain": [
       "<IPython.core.display.HTML object>"
      ]
     },
     "metadata": {},
     "output_type": "display_data"
    }
   ],
   "source": [
    "%%html\n",
    "<body>\n",
    "    <a href=\"https://github.com/natarajan1993\">Nate&apos;s github page</a>\n",
    "</body>"
   ]
  },
  {
   "cell_type": "markdown",
   "metadata": {},
   "source": [
    "# <center> Our Objective is to get meaningful data from the code </center> "
   ]
  },
  {
   "cell_type": "markdown",
   "metadata": {},
   "source": [
    " # <center> What is Beautiful Soup</center>\n",
    "- A tool for efficiently getting data off websites - aka Web Scraping"
   ]
  },
  {
   "cell_type": "code",
   "execution_count": 41,
   "metadata": {
    "scrolled": true
   },
   "outputs": [
    {
     "name": "stdout",
     "output_type": "stream",
     "text": [
      "Start tag: body\n",
      "Data     : \n",
      "  \n",
      "Start tag: p\n",
      "Data     :  This is first Paragraphs \n",
      "End tag  : p\n",
      "Data     : \n",
      "  \n",
      "Start tag: p\n",
      "Data     :  This is Second Paragraphs \n",
      "End tag  : p\n",
      "Data     : \n",
      "  \n",
      "End tag  : body\n"
     ]
    }
   ],
   "source": [
    "# Without beautifulsoup\n",
    "from html.parser import HTMLParser\n",
    "from html.entities import name2codepoint\n",
    "\n",
    "class MyHTMLParser(HTMLParser):\n",
    "    def handle_starttag(self, tag, attrs):\n",
    "        print(\"Start tag:\", tag)\n",
    "        for attr in attrs:\n",
    "            print(\"     attr:\", attr)\n",
    "\n",
    "    def handle_endtag(self, tag):\n",
    "        print(\"End tag  :\", tag)\n",
    "\n",
    "    def handle_data(self, data):\n",
    "        print(\"Data     :\", data)\n",
    "\n",
    "    def handle_comment(self, data):\n",
    "        print(\"Comment  :\", data)\n",
    "\n",
    "    def handle_entityref(self, name):\n",
    "        c = chr(name2codepoint[name])\n",
    "        print(\"Named ent:\", c)\n",
    "\n",
    "    def handle_charref(self, name):\n",
    "        if name.startswith('x'):\n",
    "            c = chr(int(name[1:], 16))\n",
    "        else:\n",
    "            c = chr(int(name))\n",
    "        print(\"Num ent  :\", c)\n",
    "\n",
    "    def handle_decl(self, data):\n",
    "        print(\"Decl     :\", data)\n",
    "\n",
    "parser = MyHTMLParser()\n",
    "parser.feed('''<body>\n",
    "  <p> This is first Paragraphs </p>\n",
    "  <p> This is Second Paragraphs </p>\n",
    "  </body>''')"
   ]
  },
  {
   "cell_type": "code",
   "execution_count": 42,
   "metadata": {},
   "outputs": [
    {
     "name": "stdout",
     "output_type": "stream",
     "text": [
      "\n",
      "This is first Paragraphs\n",
      "This is Second Paragraphs\n",
      "\n"
     ]
    }
   ],
   "source": [
    "# With beautifulsoup\n",
    "from bs4 import BeautifulSoup\n",
    "soup = BeautifulSoup('''<body>\n",
    "  <p>This is first Paragraphs</p>\n",
    "  <p>This is Second Paragraphs</p>\n",
    "</body>''','lxml')\n",
    "print(soup.get_text())"
   ]
  },
  {
   "cell_type": "markdown",
   "metadata": {},
   "source": [
    "## Basic Framework"
   ]
  },
  {
   "cell_type": "code",
   "execution_count": 44,
   "metadata": {},
   "outputs": [
    {
     "data": {
      "text/plain": [
       "<!DOCTYPE html>\n",
       "<html class=\"client-nojs\" dir=\"ltr\" lang=\"en\">\n",
       "<head>\n",
       "<meta charset=\"utf-8\"/>\n",
       "<title>Wikipedia, the free encyclopedia</title>\n",
       "<script>document.documentElement.className = document.documentElement.className.replace( /(^|\\s)client-nojs(\\s|$)/, \"$1client-js$2\" );</script>\n",
       "<script>(window.RLQ=window.RLQ||[]).push(function(){mw.config.set({\"wgCanonicalNamespace\":\"\",\"wgCanonicalSpecialPageName\":false,\"wgNamespaceNumber\":0,\"wgPageName\":\"Main_Page\",\"wgTitle\":\"Main Page\",\"wgCurRevisionId\":807996266,\"wgRevisionId\":807996266,\"wgArticleId\":15580374,\"wgIsArticle\":true,\"wgIsRedirect\":false,\"wgAction\":\"view\",\"wgUserName\":null,\"wgUserGroups\":[\"*\"],\"wgCategories\":[],\"wgBreakFrames\":false,\"wgPageContentLanguage\":\"en\",\"wgPageContentModel\":\"wikitext\",\"wgSeparatorTransformTable\":[\"\",\"\"],\"wgDigitTransformTable\":[\"\",\"\"],\"wgDefaultDateFormat\":\"dmy\",\"wgMonthNames\":[\"\",\"January\",\"February\",\"March\",\"April\",\"May\",\"June\",\"July\",\"August\",\"September\",\"October\",\"November\",\"December\"],\"wgMonthNamesShort\":[\"\",\"Jan\",\"Feb\",\"Mar\",\"Apr\",\"May\",\"Jun\",\"Jul\",\"Aug\",\"Sep\",\"Oct\",\"Nov\",\"Dec\"],\"wgRelevantPageName\":\"Main_Page\",\"wgRelevantArticleId\":15580374,\"wgRequestId\":\"Wo8tAgpAICsAAF43sF0AAAAU\",\"wgIsProbablyEditable\":false,\"wgRelevantPageIsProbablyEditable\":false,\"wgRestrictionEdit\":[\"sysop\"],\"wgRestrictionMove\":[\"sysop\"],\"wgIsMainPage\":true,\"wgFlaggedRevsParams\":{\"tags\":{}},\"wgStableRevisionId\":null,\"wgWikiEditorEnabledModules\":[],\"wgBetaFeaturesFeatures\":[],\"wgMediaViewerOnClick\":true,\"wgMediaViewerEnabledByDefault\":true,\"wgPopupsShouldSendModuleToUser\":true,\"wgPopupsConflictsWithNavPopupGadget\":false,\"wgVisualEditor\":{\"pageLanguageCode\":\"en\",\"pageLanguageDir\":\"ltr\",\"pageVariantFallbacks\":\"en\",\"usePageImages\":true,\"usePageDescriptions\":true},\"wgPreferredVariant\":\"en\",\"wgMFExpandAllSectionsUserOption\":true,\"wgMFEnableFontChanger\":true,\"wgMFDisplayWikibaseDescriptions\":{\"search\":false,\"nearby\":false,\"watchlist\":false,\"tagline\":false},\"wgRelatedArticles\":null,\"wgRelatedArticlesUseCirrusSearch\":true,\"wgRelatedArticlesOnlyUseCirrusSearch\":false,\"wgULSCurrentAutonym\":\"English\",\"wgNoticeProject\":\"wikipedia\",\"wgCentralNoticeCookiesToDelete\":[],\"wgCentralNoticeCategoriesUsingLegacy\":[\"Fundraising\",\"fundraising\"],\"wgCategoryTreePageCategoryOptions\":\"{\\\"mode\\\":0,\\\"hideprefix\\\":20,\\\"showcount\\\":true,\\\"namespaces\\\":false}\",\"wgWikibaseItemId\":\"Q5296\",\"wgScoreNoteLanguages\":{\"arabic\":\"العربية\",\"catalan\":\"català\",\"deutsch\":\"Deutsch\",\"english\":\"English\",\"espanol\":\"español\",\"italiano\":\"italiano\",\"nederlands\":\"Nederlands\",\"norsk\":\"norsk\",\"portugues\":\"português\",\"suomi\":\"suomi\",\"svenska\":\"svenska\",\"vlaams\":\"West-Vlams\"},\"wgScoreDefaultNoteLanguage\":\"nederlands\",\"wgCentralAuthMobileDomain\":false,\"wgCodeMirrorEnabled\":false,\"wgVisualEditorToolbarScrollOffset\":0,\"wgVisualEditorUnsupportedEditParams\":[\"undo\",\"undoafter\",\"veswitched\"],\"wgEditSubmitButtonLabelPublish\":true});mw.loader.state({\"ext.gadget.charinsert-styles\":\"ready\",\"ext.globalCssJs.user.styles\":\"ready\",\"ext.globalCssJs.site.styles\":\"ready\",\"site.styles\":\"ready\",\"noscript\":\"ready\",\"user.styles\":\"ready\",\"user\":\"ready\",\"user.options\":\"ready\",\"user.tokens\":\"loading\",\"ext.visualEditor.desktopArticleTarget.noscript\":\"ready\",\"ext.uls.interlanguage\":\"ready\",\"ext.wikimediaBadges\":\"ready\",\"mediawiki.legacy.shared\":\"ready\",\"mediawiki.legacy.commonPrint\":\"ready\",\"mediawiki.sectionAnchor\":\"ready\",\"mediawiki.skinning.interface\":\"ready\",\"skins.vector.styles\":\"ready\",\"ext.globalCssJs.user\":\"ready\",\"ext.globalCssJs.site\":\"ready\"});mw.loader.implement(\"user.tokens@1dqfd7l\",function($,jQuery,require,module){/*@nomin*/mw.user.tokens.set({\"editToken\":\"+\\\\\",\"patrolToken\":\"+\\\\\",\"watchToken\":\"+\\\\\",\"csrfToken\":\"+\\\\\"});\n",
       "});mw.loader.load([\"site\",\"mediawiki.page.startup\",\"mediawiki.user\",\"mediawiki.hidpi\",\"mediawiki.page.ready\",\"mediawiki.searchSuggest\",\"ext.gadget.teahouse\",\"ext.gadget.ReferenceTooltips\",\"ext.gadget.watchlist-notice\",\"ext.gadget.DRN-wizard\",\"ext.gadget.charinsert\",\"ext.gadget.refToolbar\",\"ext.gadget.extra-toolbar-buttons\",\"ext.gadget.switcher\",\"ext.centralauth.centralautologin\",\"mmv.head\",\"mmv.bootstrap.autostart\",\"ext.popups\",\"ext.visualEditor.desktopArticleTarget.init\",\"ext.visualEditor.targetLoader\",\"ext.eventLogging.subscriber\",\"ext.wikimediaEvents\",\"ext.navigationTiming\",\"ext.uls.eventlogger\",\"ext.uls.init\",\"ext.uls.interface\",\"ext.3d\",\"ext.centralNotice.geoIP\",\"ext.centralNotice.startUp\",\"skins.vector.js\"]);});</script>\n",
       "<link href=\"/w/load.php?debug=false&amp;lang=en&amp;modules=ext.uls.interlanguage%7Cext.visualEditor.desktopArticleTarget.noscript%7Cext.wikimediaBadges%7Cmediawiki.legacy.commonPrint%2Cshared%7Cmediawiki.sectionAnchor%7Cmediawiki.skinning.interface%7Cskins.vector.styles&amp;only=styles&amp;skin=vector\" rel=\"stylesheet\"/>\n",
       "<script async=\"\" src=\"/w/load.php?debug=false&amp;lang=en&amp;modules=startup&amp;only=scripts&amp;skin=vector\"></script>\n",
       "<meta content=\"\" name=\"ResourceLoaderDynamicStyles\"/>\n",
       "<link href=\"/w/load.php?debug=false&amp;lang=en&amp;modules=ext.gadget.charinsert-styles&amp;only=styles&amp;skin=vector\" rel=\"stylesheet\"/>\n",
       "<link href=\"/w/load.php?debug=false&amp;lang=en&amp;modules=site.styles&amp;only=styles&amp;skin=vector\" rel=\"stylesheet\"/>\n",
       "<meta content=\"MediaWiki 1.31.0-wmf.21\" name=\"generator\"/>\n",
       "<meta content=\"origin\" name=\"referrer\"/>\n",
       "<meta content=\"origin-when-crossorigin\" name=\"referrer\"/>\n",
       "<meta content=\"origin-when-cross-origin\" name=\"referrer\"/>\n",
       "<meta content=\"https://upload.wikimedia.org/wikipedia/commons/thumb/7/75/General_George_Washington_Resigning_his_Commission.jpg/1200px-General_George_Washington_Resigning_his_Commission.jpg\" property=\"og:image\"/>\n",
       "<link href=\"android-app://org.wikipedia/http/en.m.wikipedia.org/wiki/Main_Page\" rel=\"alternate\"/>\n",
       "<link href=\"/w/api.php?action=featuredfeed&amp;feed=potd&amp;feedformat=atom\" rel=\"alternate\" title=\"Wikipedia picture of the day feed\" type=\"application/atom+xml\"/>\n",
       "<link href=\"/w/api.php?action=featuredfeed&amp;feed=featured&amp;feedformat=atom\" rel=\"alternate\" title=\"Wikipedia featured articles feed\" type=\"application/atom+xml\"/>\n",
       "<link href=\"/w/api.php?action=featuredfeed&amp;feed=onthisday&amp;feedformat=atom\" rel=\"alternate\" title='Wikipedia \"On this day...\" feed' type=\"application/atom+xml\"/>\n",
       "<link href=\"/static/apple-touch/wikipedia.png\" rel=\"apple-touch-icon\"/>\n",
       "<link href=\"/static/favicon/wikipedia.ico\" rel=\"shortcut icon\"/>\n",
       "<link href=\"/w/opensearch_desc.php\" rel=\"search\" title=\"Wikipedia (en)\" type=\"application/opensearchdescription+xml\"/>\n",
       "<link href=\"//en.wikipedia.org/w/api.php?action=rsd\" rel=\"EditURI\" type=\"application/rsd+xml\"/>\n",
       "<link href=\"//creativecommons.org/licenses/by-sa/3.0/\" rel=\"license\"/>\n",
       "<link href=\"https://en.wikipedia.org/wiki/Main_Page\" rel=\"canonical\"/>\n",
       "<link href=\"//login.wikimedia.org\" rel=\"dns-prefetch\"/>\n",
       "<link href=\"//meta.wikimedia.org\" rel=\"dns-prefetch\"/>\n",
       "<!--[if lt IE 9]><script src=\"/w/load.php?debug=false&amp;lang=en&amp;modules=html5shiv&amp;only=scripts&amp;skin=vector&amp;sync=1\"></script><![endif]-->\n",
       "</head>\n",
       "<body class=\"mediawiki ltr sitedir-ltr mw-hide-empty-elt ns-0 ns-subject page-Main_Page rootpage-Main_Page skin-vector action-view\"> <div class=\"noprint\" id=\"mw-page-base\"></div>\n",
       "<div class=\"noprint\" id=\"mw-head-base\"></div>\n",
       "<div class=\"mw-body\" id=\"content\" role=\"main\">\n",
       "<a id=\"top\"></a>\n",
       "<div class=\"mw-body-content\" id=\"siteNotice\"><!-- CentralNotice --></div><div class=\"mw-indicators mw-body-content\">\n",
       "</div>\n",
       "<h1 class=\"firstHeading\" id=\"firstHeading\" lang=\"en\">Main Page</h1> <div class=\"mw-body-content\" id=\"bodyContent\">\n",
       "<div class=\"noprint\" id=\"siteSub\">From Wikipedia, the free encyclopedia</div> <div id=\"contentSub\"></div>\n",
       "<div class=\"mw-jump\" id=\"jump-to-nav\">\n",
       "\t\t\t\t\tJump to:\t\t\t\t\t<a href=\"#mw-head\">navigation</a>, \t\t\t\t\t<a href=\"#p-search\">search</a>\n",
       "</div>\n",
       "<div class=\"mw-content-ltr\" dir=\"ltr\" id=\"mw-content-text\" lang=\"en\"><div class=\"mw-parser-output\"><div id=\"mp-topbanner\" style=\"clear:both; position:relative; box-sizing:border-box; width:100%; margin:1.2em 0 6px; min-width:47em; border:1px solid #ddd; background-color:#f9f9f9; color:#000; white-space:nowrap;\">\n",
       "<div style=\"margin:0.4em; width:22em; text-align:center;\">\n",
       "<div style=\"font-size:162%; padding:.1em;\">Welcome to <a href=\"/wiki/Wikipedia\" title=\"Wikipedia\">Wikipedia</a>,</div>\n",
       "<div style=\"font-size:95%;\">the <a href=\"/wiki/Free_content\" title=\"Free content\">free</a> <a href=\"/wiki/Encyclopedia\" title=\"Encyclopedia\">encyclopedia</a> that <a href=\"/wiki/Wikipedia:Introduction\" title=\"Wikipedia:Introduction\">anyone can edit</a>.</div>\n",
       "<div id=\"articlecount\" style=\"font-size:85%;\"><a href=\"/wiki/Special:Statistics\" title=\"Special:Statistics\">5,576,265</a> articles in <a href=\"/wiki/English_language\" title=\"English language\">English</a></div>\n",
       "</div>\n",
       "<ul style=\"position:absolute; right:-1em; top:50%; margin-top:-2.4em; width:38%; min-width:25em; font-size:95%;\">\n",
       "<li style=\"position:absolute; left:0; top:0;\"><a href=\"/wiki/Portal:Arts\" title=\"Portal:Arts\">Arts</a></li>\n",
       "<li style=\"position:absolute; left:0; top:1.6em;\"><a href=\"/wiki/Portal:Biography\" title=\"Portal:Biography\">Biography</a></li>\n",
       "<li style=\"position:absolute; left:0; top:3.2em;\"><a href=\"/wiki/Portal:Geography\" title=\"Portal:Geography\">Geography</a></li>\n",
       "<li style=\"position:absolute; left:33%; top:0;\"><a href=\"/wiki/Portal:History\" title=\"Portal:History\">History</a></li>\n",
       "<li style=\"position:absolute; left:33%; top:1.6em;\"><a href=\"/wiki/Portal:Mathematics\" title=\"Portal:Mathematics\">Mathematics</a></li>\n",
       "<li style=\"position:absolute; left:33%; top:3.2em;\"><a href=\"/wiki/Portal:Science\" title=\"Portal:Science\">Science</a></li>\n",
       "<li style=\"position:absolute; left:66%; top:0;\"><a href=\"/wiki/Portal:Society\" title=\"Portal:Society\">Society</a></li>\n",
       "<li style=\"position:absolute; left:66%; top:1.6em;\"><a href=\"/wiki/Portal:Technology\" title=\"Portal:Technology\">Technology</a></li>\n",
       "<li style=\"position:absolute; left:66%; top:3.2em;\"><strong><a href=\"/wiki/Portal:Contents/Portals\" title=\"Portal:Contents/Portals\">All portals</a></strong></li>\n",
       "</ul>\n",
       "</div>\n",
       "<table id=\"mp-upper\" role=\"presentation\" style=\"width: 100%; margin-top:4px; border-spacing: 0px;\">\n",
       "<tr>\n",
       "<td class=\"MainPageBG\" id=\"mp-left\" style=\"width:55%; border:1px solid #cef2e0; padding:0; background:#f5fffa; vertical-align:top; color:#000;\">\n",
       "<h2 id=\"mp-tfa-h2\" style=\"margin:0.5em; background:#cef2e0; font-family:inherit; font-size:120%; font-weight:bold; border:1px solid #a3bfb1; color:#000; padding:0.2em 0.4em;\"><span id=\"From_today.27s_featured_article\"></span><span class=\"mw-headline\" id=\"From_today's_featured_article\">From today's featured article</span></h2>\n",
       "<div id=\"mp-tfa\" style=\"padding:0.1em 0.6em;\">\n",
       "<div id=\"mp-tfa-img\" style=\"float: left; margin: 0.5em 0.9em 0.4em 0em;\"><a class=\"image\" href=\"/wiki/File:%C3%86thelfl%C3%A6d_as_depicted_in_the_cartulary_of_Abingdon_Abbey.png\" title=\"Æthelflæd (from The Cartulary and Customs of Abingdon Abbey, c. 1220)\"><img alt=\"Æthelflæd (from The Cartulary and Customs of Abingdon Abbey, c. 1220)\" data-file-height=\"284\" data-file-width=\"189\" height=\"150\" src=\"//upload.wikimedia.org/wikipedia/commons/thumb/3/34/%C3%86thelfl%C3%A6d_as_depicted_in_the_cartulary_of_Abingdon_Abbey.png/100px-%C3%86thelfl%C3%A6d_as_depicted_in_the_cartulary_of_Abingdon_Abbey.png\" srcset=\"//upload.wikimedia.org/wikipedia/commons/thumb/3/34/%C3%86thelfl%C3%A6d_as_depicted_in_the_cartulary_of_Abingdon_Abbey.png/150px-%C3%86thelfl%C3%A6d_as_depicted_in_the_cartulary_of_Abingdon_Abbey.png 1.5x, //upload.wikimedia.org/wikipedia/commons/3/34/%C3%86thelfl%C3%A6d_as_depicted_in_the_cartulary_of_Abingdon_Abbey.png 2x\" width=\"100\"/></a></div>\n",
       "<p><b><a href=\"/wiki/%C3%86thelfl%C3%A6d\" title=\"Æthelflæd\">Æthelflæd</a></b>, Lady of the Mercians (<a href=\"/wiki/Circa\" title=\"Circa\">c.</a> 870 – 918), ruled <a href=\"/wiki/Mercia\" title=\"Mercia\">Mercia</a> in the <a class=\"mw-redirect\" href=\"/wiki/English_Midlands\" title=\"English Midlands\">English Midlands</a> from 911 until her death. The oldest daughter of King <a href=\"/wiki/Alfred_the_Great\" title=\"Alfred the Great\">Alfred the Great</a> of <a href=\"/wiki/Wessex\" title=\"Wessex\">Wessex</a>, she married <a href=\"/wiki/%C3%86thelred,_Lord_of_the_Mercians\" title=\"Æthelred, Lord of the Mercians\">Æthelred, Lord of the Mercians</a>, who ruled western Mercia when the eastern part was occupied by the <a href=\"/wiki/Vikings\" title=\"Vikings\">Vikings</a>. After her husband's death, she ruled Mercia and played a leading role in recovering southern England from the Vikings in cooperation with her brother, King <a href=\"/wiki/Edward_the_Elder\" title=\"Edward the Elder\">Edward the Elder</a>. She fortified many towns, sent an army to capture <a href=\"/wiki/Derby\" title=\"Derby\">Derby</a>, and secured the surrender of <a href=\"/wiki/Leicester\" title=\"Leicester\">Leicester</a> without a fight. The Viking leaders of <a href=\"/wiki/York\" title=\"York\">York</a> offered her their loyalty, but she died before she could take up the offer. Her daughter <a href=\"/wiki/%C3%86lfwynn\" title=\"Ælfwynn\">Ælfwynn</a> briefly ruled Mercia, but was seized by Edward, who took her into Wessex and brought Mercia under his direct rule. Historians disagree whether Mercia was an independent kingdom under Æthelred and Æthelflæd, but they agree that Æthelflæd played an important part in ending Viking rule in England. As a rare English warrior queen, and a successful one, she has captivated Medieval and modern writers. (<a href=\"/wiki/%C3%86thelfl%C3%A6d\" title=\"Æthelflæd\"><b>Full article...</b></a>)</p>\n",
       "<div class=\"tfa-recent\" style=\"text-align: right;\">Recently featured:\n",
       "<div class=\"hlist inline\">\n",
       "<ul>\n",
       "<li><a href=\"/wiki/North_Ronaldsay_sheep\" title=\"North Ronaldsay sheep\">North Ronaldsay sheep</a></li>\n",
       "<li><i><a href=\"/wiki/Maxinquaye\" title=\"Maxinquaye\">Maxinquaye</a></i></li>\n",
       "<li><i><a href=\"/wiki/Dungeon_Siege\" title=\"Dungeon Siege\">Dungeon Siege</a></i></li>\n",
       "</ul>\n",
       "</div>\n",
       "</div>\n",
       "<div class=\"tfa-footer hlist noprint\" style=\"text-align: right;\">\n",
       "<ul>\n",
       "<li><b><a href=\"/wiki/Wikipedia:Today%27s_featured_article/February_2018\" title=\"Wikipedia:Today's featured article/February 2018\">Archive</a></b></li>\n",
       "<li><b><a class=\"extiw\" href=\"https://lists.wikimedia.org/mailman/listinfo/daily-article-l\" title=\"mail:daily-article-l\">By email</a></b></li>\n",
       "<li><b><a href=\"/wiki/Wikipedia:Featured_articles\" title=\"Wikipedia:Featured articles\">More featured articles</a></b></li>\n",
       "</ul>\n",
       "</div>\n",
       "</div>\n",
       "<h2 id=\"mp-dyk-h2\" style=\"clear:both; margin:0.5em; background:#cef2e0; font-family:inherit; font-size:120%; font-weight:bold; border:1px solid #a3bfb1; color:#000; padding:0.2em 0.4em;\"><span class=\"mw-headline\" id=\"Did_you_know...\">Did you know...</span></h2>\n",
       "<div id=\"mp-dyk\" style=\"padding:0.1em 0.6em 0.5em;\">\n",
       "<div id=\"mp-dyk-img\" style=\"float:right; margin-left:0.5em;\">\n",
       "<div class=\"thumbinner mp-thumb\" style=\"background: transparent; border: none; padding: 0; max-width: px;\"><a class=\"image\" href=\"/wiki/File:General_George_Washington_Resigning_his_Commission.jpg\" title=\"General George Washington Resigning His Commission\"><img alt=\"General George Washington Resigning His Commission\" data-file-height=\"1962\" data-file-width=\"3000\" height=\"100\" src=\"//upload.wikimedia.org/wikipedia/commons/thumb/7/75/General_George_Washington_Resigning_his_Commission.jpg/153px-General_George_Washington_Resigning_his_Commission.jpg\" srcset=\"//upload.wikimedia.org/wikipedia/commons/thumb/7/75/General_George_Washington_Resigning_his_Commission.jpg/230px-General_George_Washington_Resigning_his_Commission.jpg 1.5x, //upload.wikimedia.org/wikipedia/commons/thumb/7/75/General_George_Washington_Resigning_his_Commission.jpg/306px-General_George_Washington_Resigning_his_Commission.jpg 2x\" width=\"153\"/></a>\n",
       "<div class=\"thumbcaption\" style=\"padding: 0.25em 0; word-wrap: break-word;\"><i>General George Washington<br/>\n",
       "Resigning His Commission</i></div>\n",
       "</div>\n",
       "</div>\n",
       "<ul>\n",
       "<li>... that <a href=\"/wiki/John_Trumbull\" title=\"John Trumbull\">John Trumbull</a>, the painter of <i><b><a href=\"/wiki/General_George_Washington_Resigning_His_Commission\" title=\"General George Washington Resigning His Commission\">General George Washington Resigning His Commission</a></b></i> <i>(pictured)</i>, considered <b><a href=\"/wiki/George_Washington%27s_resignation_as_commander-in-chief\" title=\"George Washington's resignation as commander-in-chief\">Washington's resignation</a></b> \"one of the highest moral lessons ever given to the world\"?</li>\n",
       "<li>... that in <a href=\"/wiki/Sumerian_religion\" title=\"Sumerian religion\">Sumerian mythology</a>, a group of gods known as the <b><a href=\"/wiki/Anunnaki\" title=\"Anunnaki\">Anunnaki</a></b> put the goddess <a href=\"/wiki/Inanna\" title=\"Inanna\">Inanna</a> on trial for her attempt to conquer the <a href=\"/wiki/Kur\" title=\"Kur\">Underworld</a>?</li>\n",
       "<li>... that <a href=\"/wiki/Jean-Jack_Queyranne\" title=\"Jean-Jack Queyranne\">Jean-Jack Queyranne</a> proposed that the <b><a href=\"/wiki/Regional_council_of_Auvergne-Rh%C3%B4ne-Alpes\" title=\"Regional council of Auvergne-Rhône-Alpes\">regional council of Auvergne-Rhône-Alpes</a></b>, like the European Parliament, hold alternating sessions in two cities?</li>\n",
       "<li>... that in 1910, <b><a href=\"/wiki/Monroe_Morton\" title=\"Monroe Morton\">Monroe Morton</a></b> constructed the <a href=\"/wiki/Morton_Theatre\" title=\"Morton Theatre\">Morton Theatre</a> in the \"Hot Corner\", a center of African American business and culture in <a href=\"/wiki/Athens,_Georgia\" title=\"Athens, Georgia\">Athens, Georgia</a>?</li>\n",
       "<li>... that the proposed <b><a href=\"/wiki/Major_Road_Network\" title=\"Major Road Network\">Major Road Network</a></b> designation would comprise just 4 percent of England's road length but carry 43 percent of its traffic?</li>\n",
       "<li>... that <a href=\"/wiki/Indianapolis_Colts\" title=\"Indianapolis Colts\">Indianapolis Colts</a> <a href=\"/wiki/Defensive_back\" title=\"Defensive back\">defensive back</a> <b><a href=\"/wiki/D._J._White_(American_football)\" title=\"D. J. White (American football)\">D. J. White</a></b> forced at least one <a href=\"/wiki/Fumble\" title=\"Fumble\">fumble</a> in each of his four years at <a href=\"/wiki/Georgia_Tech_Yellow_Jackets_football\" title=\"Georgia Tech Yellow Jackets football\">Georgia Tech</a>?</li>\n",
       "<li>... that the <b><a href=\"/wiki/Taiwan_bush_warbler\" title=\"Taiwan bush warbler\">Taiwan bush warbler</a></b> was described in 1917, but was not named as a distinct species until 2000?</li>\n",
       "</ul>\n",
       "<div class=\"dyk-footer hlist noprint\" style=\"margin-top: 0.5em; text-align: right;\">\n",
       "<ul>\n",
       "<li><b><a href=\"/wiki/Wikipedia:Recent_additions\" title=\"Wikipedia:Recent additions\">Recent additions</a></b></li>\n",
       "<li><b><a href=\"/wiki/Wikipedia:Your_first_article\" title=\"Wikipedia:Your first article\">Start a new article</a></b></li>\n",
       "<li><b><a href=\"/wiki/Template_talk:Did_you_know\" title=\"Template talk:Did you know\">Nominate an article</a></b></li>\n",
       "</ul>\n",
       "</div>\n",
       "</div>\n",
       "</td>\n",
       "<td style=\"border:1px solid transparent;\"></td>\n",
       "<td class=\"MainPageBG\" id=\"mp-right\" style=\"width:45%; border:1px solid #cedff2; padding:0; background:#f5faff; vertical-align:top;\">\n",
       "<h2 id=\"mp-itn-h2\" style=\"margin:0.5em; background:#cedff2; font-family:inherit; font-size:120%; font-weight:bold; border:1px solid #a3b0bf; color:#000; padding:0.2em 0.4em;\"><span class=\"mw-headline\" id=\"In_the_news\">In the news</span></h2>\n",
       "<div id=\"mp-itn\" style=\"padding:0.1em 0.6em;\">\n",
       "<div class=\"itn-img\" role=\"figure\" style=\"float: right; margin-left: 0.5em;\">\n",
       "<div class=\"thumbinner mp-thumb\" style=\"background: transparent; border: none; padding: 0; max-width: 100px;\"><a class=\"image\" href=\"/wiki/File:Billy_Graham_bw_photo,_April_11,_1966_(cropped).jpg\" title=\"Billy Graham in 1966\"><img alt=\"Billy Graham in 1966\" data-file-height=\"2241\" data-file-width=\"1796\" height=\"125\" src=\"//upload.wikimedia.org/wikipedia/commons/thumb/4/4f/Billy_Graham_bw_photo%2C_April_11%2C_1966_%28cropped%29.jpg/100px-Billy_Graham_bw_photo%2C_April_11%2C_1966_%28cropped%29.jpg\" srcset=\"//upload.wikimedia.org/wikipedia/commons/thumb/4/4f/Billy_Graham_bw_photo%2C_April_11%2C_1966_%28cropped%29.jpg/150px-Billy_Graham_bw_photo%2C_April_11%2C_1966_%28cropped%29.jpg 1.5x, //upload.wikimedia.org/wikipedia/commons/thumb/4/4f/Billy_Graham_bw_photo%2C_April_11%2C_1966_%28cropped%29.jpg/200px-Billy_Graham_bw_photo%2C_April_11%2C_1966_%28cropped%29.jpg 2x\" width=\"100\"/></a>\n",
       "<div class=\"thumbcaption\" style=\"padding: 0.25em 0; word-wrap: break-word;\">Billy Graham</div>\n",
       "</div>\n",
       "</div>\n",
       "<ul>\n",
       "<li>American <a href=\"/wiki/Evangelicalism\" title=\"Evangelicalism\">evangelical</a> <a href=\"/wiki/Preacher\" title=\"Preacher\">preacher</a> <b><a href=\"/wiki/Billy_Graham\" title=\"Billy Graham\">Billy Graham</a></b> <i>(pictured)</i> dies at the age of 99.</li>\n",
       "<li><i><a href=\"/wiki/Three_Billboards_Outside_Ebbing,_Missouri\" title=\"Three Billboards Outside Ebbing, Missouri\">Three Billboards Outside Ebbing, Missouri</a></i> wins five awards, including <a href=\"/wiki/BAFTA_Award_for_Best_Film\" title=\"BAFTA Award for Best Film\">Best Film</a>, at the <b><a href=\"/wiki/71st_British_Academy_Film_Awards\" title=\"71st British Academy Film Awards\">British Academy Film Awards</a></b>.</li>\n",
       "<li><b><a href=\"/wiki/Iran_Aseman_Airlines_Flight_3704\" title=\"Iran Aseman Airlines Flight 3704\">Iran Aseman Airlines Flight 3704</a></b> crashes in the <a href=\"/wiki/Zagros_Mountains\" title=\"Zagros Mountains\">Zagros Mountains</a>, killing all 65 people on board.</li>\n",
       "<li>South African president <b><a href=\"/wiki/Jacob_Zuma\" title=\"Jacob Zuma\">Jacob Zuma</a></b> resigns amid corruption claims, and is succeeded by <a href=\"/wiki/Cyril_Ramaphosa\" title=\"Cyril Ramaphosa\">Cyril Ramaphosa</a>.</li>\n",
       "<li><b><a href=\"/wiki/Stoneman_Douglas_High_School_shooting\" title=\"Stoneman Douglas High School shooting\">A gunman kills</a></b> 17 people and injures 15 others at <a href=\"/wiki/Marjory_Stoneman_Douglas_High_School\" title=\"Marjory Stoneman Douglas High School\">a school</a> in <a href=\"/wiki/Parkland,_Florida\" title=\"Parkland, Florida\">Parkland, Florida</a>, United States.</li>\n",
       "</ul>\n",
       "<div class=\"itn-footer\" style=\"margin-top: 0.5em;\">\n",
       "<div><b><a href=\"/wiki/Portal:Current_events\" title=\"Portal:Current events\">Ongoing</a></b>:\n",
       "<div class=\"hlist inline\"><a href=\"/wiki/Chronological_summary_of_the_2018_Winter_Olympics\" title=\"Chronological summary of the 2018 Winter Olympics\">Winter Olympics</a></div>\n",
       "</div>\n",
       "<div><b><a href=\"/wiki/Deaths_in_2018\" title=\"Deaths in 2018\">Recent deaths</a></b>:\n",
       "<div class=\"hlist inline\">\n",
       "<ul>\n",
       "<li><a href=\"/wiki/Sergey_Litvinov_(athlete,_born_1958)\" title=\"Sergey Litvinov (athlete, born 1958)\">Sergey Litvinov</a></li>\n",
       "<li><a href=\"/wiki/Peggy_Cooper_Cafritz\" title=\"Peggy Cooper Cafritz\">Peggy Cooper Cafritz</a></li>\n",
       "</ul>\n",
       "</div>\n",
       "</div>\n",
       "</div>\n",
       "<div class=\"itn-footer hlist noprint\" style=\"text-align: right;\">\n",
       "<ul>\n",
       "<li><b><a href=\"/wiki/Wikipedia:In_the_news/Candidates\" title=\"Wikipedia:In the news/Candidates\">Nominate an article</a></b></li>\n",
       "</ul>\n",
       "</div>\n",
       "</div>\n",
       "<h2 id=\"mp-otd-h2\" style=\"clear:both; margin:0.5em; background:#cedff2; font-family:inherit; font-size:120%; font-weight:bold; border:1px solid #a3b0bf; color:#000; padding:0.2em 0.4em;\"><span class=\"mw-headline\" id=\"On_this_day...\">On this day...</span></h2>\n",
       "<div id=\"mp-otd\" style=\"padding:0.1em 0.6em 0.5em;\">\n",
       "<p><b><a href=\"/wiki/February_22\" title=\"February 22\">February 22</a></b></p>\n",
       "<div id=\"mp-otd-img\" style=\"float:right;margin-left:0.5em;\">\n",
       "<div class=\"thumbinner mp-thumb\" style=\"background: transparent; border: none; padding: 0; max-width: 120px;\"><a class=\"image\" href=\"/wiki/File:Hopkins_hospital.jpg\" title=\"Johns Hopkins Hospital\"><img alt=\"Johns Hopkins Hospital\" data-file-height=\"600\" data-file-width=\"800\" height=\"90\" src=\"//upload.wikimedia.org/wikipedia/en/thumb/d/d4/Hopkins_hospital.jpg/120px-Hopkins_hospital.jpg\" srcset=\"//upload.wikimedia.org/wikipedia/en/thumb/d/d4/Hopkins_hospital.jpg/180px-Hopkins_hospital.jpg 1.5x, //upload.wikimedia.org/wikipedia/en/thumb/d/d4/Hopkins_hospital.jpg/240px-Hopkins_hospital.jpg 2x\" width=\"120\"/></a>\n",
       "<div class=\"thumbcaption\" style=\"padding: 0.25em 0; word-wrap: break-word;\">Johns Hopkins Hospital</div>\n",
       "</div>\n",
       "</div>\n",
       "<ul>\n",
       "<li><a href=\"/wiki/1316\" title=\"1316\">1316</a> – The forces of the <i><a href=\"/wiki/Infante\" title=\"Infante\">infante</a></i> <a href=\"/wiki/Ferdinand_of_Majorca\" title=\"Ferdinand of Majorca\">Ferdinand of Majorca</a> fought against those loyal to Princess <a href=\"/wiki/Matilda_of_Hainaut\" title=\"Matilda of Hainaut\">Matilda of Hainaut</a> in the <b><a href=\"/wiki/Battle_of_Picotin\" title=\"Battle of Picotin\">Battle of Picotin</a></b> on the <a href=\"/wiki/Peloponnese\" title=\"Peloponnese\">Peloponnese</a> peninsula in Greece.</li>\n",
       "<li><a href=\"/wiki/1876\" title=\"1876\">1876</a> – The <b><a href=\"/wiki/Johns_Hopkins_University\" title=\"Johns Hopkins University\">Johns Hopkins University</a></b> in <a href=\"/wiki/Baltimore\" title=\"Baltimore\">Baltimore</a>, Maryland <i>(pictured)</i>, named after <a href=\"/wiki/Philanthropy\" title=\"Philanthropy\">philanthropist</a> <a href=\"/wiki/Johns_Hopkins\" title=\"Johns Hopkins\">Johns Hopkins</a>, opened.</li>\n",
       "<li><a href=\"/wiki/1921\" title=\"1921\">1921</a> – After <a href=\"/wiki/White_movement\" title=\"White movement\">White Russian</a> forces under Baron <b><a href=\"/wiki/Roman_von_Ungern-Sternberg\" title=\"Roman von Ungern-Sternberg\">Roman von Ungern-Sternberg</a></b> drove the Chinese out of Mongolia, the <a href=\"/wiki/Bogd_Khan\" title=\"Bogd Khan\">Bogd Khan</a> was reinstalled as emperor.</li>\n",
       "<li><a href=\"/wiki/1957\" title=\"1957\">1957</a> – The President of South Vietnam <b><a href=\"/wiki/Ngo_Dinh_Diem\" title=\"Ngo Dinh Diem\">Ngo Dinh Diem</a></b> survived a <a href=\"/wiki/Viet_Cong\" title=\"Viet Cong\">Viet Cong</a> assassination attempt by a gunman in <a href=\"/wiki/Bu%C3%B4n_Ma_Thu%E1%BB%99t\" title=\"Buôn Ma Thuột\">Buôn Ma Thuột</a>.</li>\n",
       "<li><a href=\"/wiki/2002\" title=\"2002\">2002</a> – <b><a href=\"/wiki/Jonas_Savimbi\" title=\"Jonas Savimbi\">Jonas Savimbi</a></b>, leader of the Angolan <a href=\"/wiki/Anti-communism\" title=\"Anti-communism\">anti-Communist</a> rebel and political party <a href=\"/wiki/UNITA\" title=\"UNITA\">UNITA</a>, was killed in a battle with Angolan government troops.</li>\n",
       "</ul>\n",
       "<p><b><a href=\"/wiki/Peder_Syv\" title=\"Peder Syv\">Peder Syv</a></b> (b. 1631) <b>·</b> <b><a href=\"/wiki/Charles_Blondin\" title=\"Charles Blondin\">Charles Blondin</a></b> (d. 1897) <b>·</b> <b><a href=\"/wiki/Elizabeth_Keawepo%CA%BBo%CA%BBole_Sumner\" title=\"Elizabeth Keawepoʻoʻole Sumner\">Elizabeth Keawepoʻoʻole Sumner</a></b> (d. 1911)</p>\n",
       "<div style=\"margin-top: 0.5em;\">More anniversaries:\n",
       "<div class=\"hlist inline nowraplinks\">\n",
       "<ul>\n",
       "<li><a href=\"/wiki/February_21\" title=\"February 21\">February 21</a></li>\n",
       "<li><b><a href=\"/wiki/February_22\" title=\"February 22\">February 22</a></b></li>\n",
       "<li><a href=\"/wiki/February_23\" title=\"February 23\">February 23</a></li>\n",
       "</ul>\n",
       "</div>\n",
       "</div>\n",
       "<div class=\"otd-footer hlist noprint\" style=\"text-align: right;\">\n",
       "<ul>\n",
       "<li><b><a href=\"/wiki/Wikipedia:Selected_anniversaries/February\" title=\"Wikipedia:Selected anniversaries/February\">Archive</a></b></li>\n",
       "<li><b><a class=\"extiw\" href=\"https://lists.wikimedia.org/mailman/listinfo/daily-article-l\" title=\"mail:daily-article-l\">By email</a></b></li>\n",
       "<li><b><a href=\"/wiki/List_of_historical_anniversaries\" title=\"List of historical anniversaries\">List of historical anniversaries</a></b></li>\n",
       "</ul>\n",
       "</div>\n",
       "</div>\n",
       "</td>\n",
       "</tr>\n",
       "</table>\n",
       "<div class=\"MainPageBG\" id=\"mp-lower\" style=\"margin-top:4px; border:1px solid #ddcef2; background:#faf5ff; overflow:auto;\">\n",
       "<div id=\"mp-bottom\">\n",
       "<h2 id=\"mp-tfp-h2\" style=\"margin:0.5em; background:#ddcef2; font-family:inherit; font-size:120%; font-weight:bold; border:1px solid #afa3bf; color:#000; padding:0.2em 0.4em\"><span id=\"Today.27s_featured_picture\"></span><span class=\"mw-headline\" id=\"Today's_featured_picture\">Today's featured picture</span></h2>\n",
       "<div id=\"mp-tfp\" style=\"margin:0.1em 0.4em 0.6em;\">\n",
       "<table role=\"presentation\" style=\"margin:0 3px 3px; width:100%; text-align:left; background-color:transparent; border-collapse: collapse;\">\n",
       "<tr>\n",
       "<td style=\"padding:0 0.9em 0 0;\"><a class=\"image\" href=\"/wiki/File:Vincent_van_Gogh_-_The_yellow_house_(%27The_street%27).jpg\" title=\"The Yellow House\"><img alt=\"The Yellow House\" data-file-height=\"5366\" data-file-width=\"6917\" height=\"295\" src=\"//upload.wikimedia.org/wikipedia/commons/thumb/7/7b/Vincent_van_Gogh_-_The_yellow_house_%28%27The_street%27%29.jpg/380px-Vincent_van_Gogh_-_The_yellow_house_%28%27The_street%27%29.jpg\" srcset=\"//upload.wikimedia.org/wikipedia/commons/thumb/7/7b/Vincent_van_Gogh_-_The_yellow_house_%28%27The_street%27%29.jpg/570px-Vincent_van_Gogh_-_The_yellow_house_%28%27The_street%27%29.jpg 1.5x, //upload.wikimedia.org/wikipedia/commons/thumb/7/7b/Vincent_van_Gogh_-_The_yellow_house_%28%27The_street%27%29.jpg/760px-Vincent_van_Gogh_-_The_yellow_house_%28%27The_street%27%29.jpg 2x\" width=\"380\"/></a></td>\n",
       "<td style=\"padding:0 6px 0 0\">\n",
       "<p><i><b><a href=\"/wiki/The_Yellow_House\" title=\"The Yellow House\">The Yellow House</a></b></i> is an 1888 <a href=\"/wiki/Oil_painting\" title=\"Oil painting\">oil painting</a> by the 19th-century Dutch <a href=\"/wiki/Post-Impressionism\" title=\"Post-Impressionism\">Post-Impressionist</a> painter <a href=\"/wiki/Vincent_van_Gogh\" title=\"Vincent van Gogh\">Vincent van Gogh</a>. It depicts 2 Place Lamartine, <a href=\"/wiki/Arles\" title=\"Arles\">Arles</a>, France, where Van Gogh rented four rooms in 1888, as well as a restaurant where he had his meals. This painting is now part of the permanent collection of the <a href=\"/wiki/Van_Gogh_Museum\" title=\"Van Gogh Museum\">Van Gogh Museum</a> in Amsterdam.</p>\n",
       "<p><small>Painting: <a href=\"/wiki/Vincent_van_Gogh\" title=\"Vincent van Gogh\">Vincent van Gogh</a></small></p>\n",
       "<div class=\"potd-recent\" style=\"text-align:right;\">Recently featured:\n",
       "<div class=\"hlist inline\">\n",
       "<ul>\n",
       "<li><a href=\"/wiki/Template:POTD/2018-02-21\" title=\"Template:POTD/2018-02-21\">Amplang</a></li>\n",
       "<li><a href=\"/wiki/Template:POTD/2018-02-20\" title=\"Template:POTD/2018-02-20\"><i>Acanthaster brevispinus</i></a></li>\n",
       "<li><a href=\"/wiki/Template:POTD/2018-02-19\" title=\"Template:POTD/2018-02-19\">William III of the Netherlands</a></li>\n",
       "</ul>\n",
       "</div>\n",
       "</div>\n",
       "<div class=\"potd-footer hlist noprint\" style=\"text-align:right;\">\n",
       "<ul>\n",
       "<li><b><a href=\"/wiki/Wikipedia:Picture_of_the_day/February_2018\" title=\"Wikipedia:Picture of the day/February 2018\">Archive</a></b></li>\n",
       "<li><b><a href=\"/wiki/Wikipedia:Featured_pictures\" title=\"Wikipedia:Featured pictures\">More featured pictures</a></b></li>\n",
       "</ul>\n",
       "</div>\n",
       "</td>\n",
       "</tr>\n",
       "</table>\n",
       "</div>\n",
       "</div>\n",
       "</div>\n",
       "<div id=\"mp-other\" style=\"padding-top:4px; padding-bottom:2px;\">\n",
       "<h2><span class=\"mw-headline\" id=\"Other_areas_of_Wikipedia\">Other areas of Wikipedia</span></h2>\n",
       "<ul>\n",
       "<li><b><a href=\"/wiki/Wikipedia:Community_portal\" title=\"Wikipedia:Community portal\">Community portal</a></b> – Bulletin board, projects, resources and activities covering a wide range of Wikipedia areas.</li>\n",
       "<li><b><a href=\"/wiki/Wikipedia:Help_desk\" title=\"Wikipedia:Help desk\">Help desk</a></b> – Ask questions about using Wikipedia.</li>\n",
       "<li><b><a href=\"/wiki/Wikipedia:Local_Embassy\" title=\"Wikipedia:Local Embassy\">Local embassy</a></b> – For Wikipedia-related communication in languages other than English.</li>\n",
       "<li><b><a href=\"/wiki/Wikipedia:Reference_desk\" title=\"Wikipedia:Reference desk\">Reference desk</a></b> – Serving as virtual librarians, Wikipedia volunteers tackle your questions on a wide range of subjects.</li>\n",
       "<li><b><a href=\"/wiki/Wikipedia:News\" title=\"Wikipedia:News\">Site news</a></b> – Announcements, updates, articles and press releases on Wikipedia and the Wikimedia Foundation.</li>\n",
       "<li><b><a href=\"/wiki/Wikipedia:Village_pump\" title=\"Wikipedia:Village pump\">Village pump</a></b> – For discussions about Wikipedia itself, including areas for technical issues and policies.</li>\n",
       "</ul>\n",
       "</div>\n",
       "<div id=\"mp-sister\">\n",
       "<h2><span id=\"Wikipedia.27s_sister_projects\"></span><span class=\"mw-headline\" id=\"Wikipedia's_sister_projects\">Wikipedia's sister projects</span></h2>\n",
       "<p>Wikipedia is hosted by the <a href=\"/wiki/Wikimedia_Foundation\" title=\"Wikimedia Foundation\">Wikimedia Foundation</a>, a non-profit organization that also hosts a range of other <a class=\"extiw\" href=\"https://wikimediafoundation.org/wiki/Our_projects\" title=\"wmf:Our projects\">projects</a>:</p>\n",
       "<table class=\"layout plainlinks\" style=\"width:100%; margin:auto; text-align:left; background:transparent;\">\n",
       "<tr>\n",
       "<td style=\"min-width: 50px; text-align:center; padding:4px;\"><a href=\"https://commons.wikimedia.org/wiki/\" title=\"Commons\"><img alt=\"Commons\" data-file-height=\"1376\" data-file-width=\"1024\" height=\"42\" src=\"//upload.wikimedia.org/wikipedia/en/thumb/4/4a/Commons-logo.svg/31px-Commons-logo.svg.png\" srcset=\"//upload.wikimedia.org/wikipedia/en/thumb/4/4a/Commons-logo.svg/47px-Commons-logo.svg.png 1.5x, //upload.wikimedia.org/wikipedia/en/thumb/4/4a/Commons-logo.svg/62px-Commons-logo.svg.png 2x\" width=\"31\"/></a></td>\n",
       "<td style=\"width:33%; padding:4px;\"><b><a class=\"external text\" href=\"//commons.wikimedia.org/\">Commons</a></b><br/>\n",
       "Free media repository</td>\n",
       "<td style=\"min-width: 50px; text-align:center; padding:4px;\"><a href=\"https://www.mediawiki.org/wiki/\" title=\"MediaWiki\"><img alt=\"MediaWiki\" data-file-height=\"102\" data-file-width=\"135\" height=\"26\" src=\"//upload.wikimedia.org/wikipedia/commons/thumb/3/3d/Mediawiki-logo.png/35px-Mediawiki-logo.png\" srcset=\"//upload.wikimedia.org/wikipedia/commons/thumb/3/3d/Mediawiki-logo.png/53px-Mediawiki-logo.png 1.5x, //upload.wikimedia.org/wikipedia/commons/thumb/3/3d/Mediawiki-logo.png/70px-Mediawiki-logo.png 2x\" width=\"35\"/></a></td>\n",
       "<td style=\"width:33%; padding:4px;\"><b><a class=\"external text\" href=\"//mediawiki.org/\">MediaWiki</a></b><br/>\n",
       "Wiki software development</td>\n",
       "<td style=\"min-width: 50px; text-align:center; padding:4px;\"><a href=\"https://meta.wikimedia.org/wiki/\" title=\"Meta-Wiki\"><img alt=\"Meta-Wiki\" data-file-height=\"900\" data-file-width=\"900\" height=\"35\" src=\"//upload.wikimedia.org/wikipedia/commons/thumb/7/75/Wikimedia_Community_Logo.svg/35px-Wikimedia_Community_Logo.svg.png\" srcset=\"//upload.wikimedia.org/wikipedia/commons/thumb/7/75/Wikimedia_Community_Logo.svg/53px-Wikimedia_Community_Logo.svg.png 1.5x, //upload.wikimedia.org/wikipedia/commons/thumb/7/75/Wikimedia_Community_Logo.svg/70px-Wikimedia_Community_Logo.svg.png 2x\" width=\"35\"/></a></td>\n",
       "<td style=\"width:33%; padding:4px;\"><b><a class=\"external text\" href=\"//meta.wikimedia.org/\">Meta-Wiki</a></b><br/>\n",
       "Wikimedia project coordination</td>\n",
       "</tr>\n",
       "<tr>\n",
       "<td style=\"min-width: 50px; text-align:center; padding:4px;\"><a href=\"https://en.wikibooks.org/wiki/\" title=\"Wikibooks\"><img alt=\"Wikibooks\" data-file-height=\"300\" data-file-width=\"300\" height=\"35\" src=\"//upload.wikimedia.org/wikipedia/commons/thumb/f/fa/Wikibooks-logo.svg/35px-Wikibooks-logo.svg.png\" srcset=\"//upload.wikimedia.org/wikipedia/commons/thumb/f/fa/Wikibooks-logo.svg/53px-Wikibooks-logo.svg.png 1.5x, //upload.wikimedia.org/wikipedia/commons/thumb/f/fa/Wikibooks-logo.svg/70px-Wikibooks-logo.svg.png 2x\" width=\"35\"/></a></td>\n",
       "<td style=\"padding:4px;\"><b><a class=\"external text\" href=\"//en.wikibooks.org/\">Wikibooks</a></b><br/>\n",
       "Free textbooks and manuals</td>\n",
       "<td style=\"min-width: 50px; text-align:center; padding:3px;\"><a href=\"https://www.wikidata.org/wiki/\" title=\"Wikidata\"><img alt=\"Wikidata\" data-file-height=\"590\" data-file-width=\"1050\" height=\"26\" src=\"//upload.wikimedia.org/wikipedia/commons/thumb/f/ff/Wikidata-logo.svg/47px-Wikidata-logo.svg.png\" srcset=\"//upload.wikimedia.org/wikipedia/commons/thumb/f/ff/Wikidata-logo.svg/71px-Wikidata-logo.svg.png 1.5x, //upload.wikimedia.org/wikipedia/commons/thumb/f/ff/Wikidata-logo.svg/94px-Wikidata-logo.svg.png 2x\" width=\"47\"/></a></td>\n",
       "<td style=\"padding:4px;\"><b><a class=\"external text\" href=\"//www.wikidata.org/\">Wikidata</a></b><br/>\n",
       "Free knowledge base</td>\n",
       "<td style=\"min-width: 50px; text-align:center; padding:4px;\"><a href=\"https://en.wikinews.org/wiki/\" title=\"Wikinews\"><img alt=\"Wikinews\" data-file-height=\"415\" data-file-width=\"759\" height=\"28\" src=\"//upload.wikimedia.org/wikipedia/commons/thumb/2/24/Wikinews-logo.svg/51px-Wikinews-logo.svg.png\" srcset=\"//upload.wikimedia.org/wikipedia/commons/thumb/2/24/Wikinews-logo.svg/77px-Wikinews-logo.svg.png 1.5x, //upload.wikimedia.org/wikipedia/commons/thumb/2/24/Wikinews-logo.svg/102px-Wikinews-logo.svg.png 2x\" width=\"51\"/></a></td>\n",
       "<td style=\"padding:4px;\"><b><a class=\"external text\" href=\"//en.wikinews.org/\">Wikinews</a></b><br/>\n",
       "Free-content news</td>\n",
       "</tr>\n",
       "<tr>\n",
       "<td style=\"min-width: 50px; text-align:center; padding:4px;\"><a href=\"https://en.wikiquote.org/wiki/\" title=\"Wikiquote\"><img alt=\"Wikiquote\" data-file-height=\"355\" data-file-width=\"300\" height=\"41\" src=\"//upload.wikimedia.org/wikipedia/commons/thumb/f/fa/Wikiquote-logo.svg/35px-Wikiquote-logo.svg.png\" srcset=\"//upload.wikimedia.org/wikipedia/commons/thumb/f/fa/Wikiquote-logo.svg/53px-Wikiquote-logo.svg.png 1.5x, //upload.wikimedia.org/wikipedia/commons/thumb/f/fa/Wikiquote-logo.svg/70px-Wikiquote-logo.svg.png 2x\" width=\"35\"/></a></td>\n",
       "<td style=\"padding:4px;\"><b><a class=\"external text\" href=\"//en.wikiquote.org/\">Wikiquote</a></b><br/>\n",
       "Collection of quotations</td>\n",
       "<td style=\"min-width: 50px; text-align:center; padding:4px;\"><a href=\"https://en.wikisource.org/wiki/\" title=\"Wikisource\"><img alt=\"Wikisource\" data-file-height=\"430\" data-file-width=\"410\" height=\"37\" src=\"//upload.wikimedia.org/wikipedia/commons/thumb/4/4c/Wikisource-logo.svg/35px-Wikisource-logo.svg.png\" srcset=\"//upload.wikimedia.org/wikipedia/commons/thumb/4/4c/Wikisource-logo.svg/53px-Wikisource-logo.svg.png 1.5x, //upload.wikimedia.org/wikipedia/commons/thumb/4/4c/Wikisource-logo.svg/70px-Wikisource-logo.svg.png 2x\" width=\"35\"/></a></td>\n",
       "<td style=\"padding:4px;\"><b><a class=\"external text\" href=\"//en.wikisource.org/\">Wikisource</a></b><br/>\n",
       "Free-content library</td>\n",
       "<td style=\"min-width: 50px; text-align:center; padding:4px;\"><a href=\"https://species.wikimedia.org/wiki/\" title=\"Wikispecies\"><img alt=\"Wikispecies\" data-file-height=\"1103\" data-file-width=\"941\" height=\"41\" src=\"//upload.wikimedia.org/wikipedia/commons/thumb/d/df/Wikispecies-logo.svg/35px-Wikispecies-logo.svg.png\" srcset=\"//upload.wikimedia.org/wikipedia/commons/thumb/d/df/Wikispecies-logo.svg/53px-Wikispecies-logo.svg.png 1.5x, //upload.wikimedia.org/wikipedia/commons/thumb/d/df/Wikispecies-logo.svg/70px-Wikispecies-logo.svg.png 2x\" width=\"35\"/></a></td>\n",
       "<td style=\"padding:4px;\"><b><a class=\"external text\" href=\"//species.wikimedia.org/\">Wikispecies</a></b><br/>\n",
       "Directory of species</td>\n",
       "</tr>\n",
       "<tr>\n",
       "<td style=\"min-width: 50px; text-align:center; padding:4px;\"><a href=\"https://en.wikiversity.org/wiki/\" title=\"Wikiversity\"><img alt=\"Wikiversity\" data-file-height=\"512\" data-file-width=\"626\" height=\"34\" src=\"//upload.wikimedia.org/wikipedia/commons/thumb/0/0b/Wikiversity_logo_2017.svg/41px-Wikiversity_logo_2017.svg.png\" srcset=\"//upload.wikimedia.org/wikipedia/commons/thumb/0/0b/Wikiversity_logo_2017.svg/62px-Wikiversity_logo_2017.svg.png 1.5x, //upload.wikimedia.org/wikipedia/commons/thumb/0/0b/Wikiversity_logo_2017.svg/82px-Wikiversity_logo_2017.svg.png 2x\" width=\"41\"/></a></td>\n",
       "<td style=\"padding:4px;\"><b><a class=\"external text\" href=\"//en.wikiversity.org/\">Wikiversity</a></b><br/>\n",
       "Free learning materials and activities</td>\n",
       "<td style=\"min-width: 50px; text-align:center; padding:4px;\"><a href=\"https://en.wikivoyage.org/wiki/\" title=\"Wikivoyage\"><img alt=\"Wikivoyage\" data-file-height=\"193\" data-file-width=\"193\" height=\"35\" src=\"//upload.wikimedia.org/wikipedia/commons/thumb/d/dd/Wikivoyage-Logo-v3-icon.svg/35px-Wikivoyage-Logo-v3-icon.svg.png\" srcset=\"//upload.wikimedia.org/wikipedia/commons/thumb/d/dd/Wikivoyage-Logo-v3-icon.svg/53px-Wikivoyage-Logo-v3-icon.svg.png 1.5x, //upload.wikimedia.org/wikipedia/commons/thumb/d/dd/Wikivoyage-Logo-v3-icon.svg/70px-Wikivoyage-Logo-v3-icon.svg.png 2x\" width=\"35\"/></a></td>\n",
       "<td style=\"padding:4px;\"><b><a class=\"external text\" href=\"//en.wikivoyage.org/\">Wikivoyage</a></b><br/>\n",
       "Free travel guide</td>\n",
       "<td style=\"min-width: 50px; text-align:center; padding:4px;\"><a href=\"https://en.wiktionary.org/wiki/\" title=\"Wiktionary\"><img alt=\"Wiktionary\" data-file-height=\"391\" data-file-width=\"391\" height=\"35\" src=\"//upload.wikimedia.org/wikipedia/en/thumb/0/06/Wiktionary-logo-v2.svg/35px-Wiktionary-logo-v2.svg.png\" srcset=\"//upload.wikimedia.org/wikipedia/en/thumb/0/06/Wiktionary-logo-v2.svg/53px-Wiktionary-logo-v2.svg.png 1.5x, //upload.wikimedia.org/wikipedia/en/thumb/0/06/Wiktionary-logo-v2.svg/70px-Wiktionary-logo-v2.svg.png 2x\" width=\"35\"/></a></td>\n",
       "<td style=\"padding:4px;\"><b><a class=\"external text\" href=\"//en.wiktionary.org/\">Wiktionary</a></b><br/>\n",
       "Dictionary and thesaurus</td>\n",
       "</tr>\n",
       "</table>\n",
       "</div>\n",
       "<div id=\"mp-lang\">\n",
       "<h2><span class=\"mw-headline\" id=\"Wikipedia_languages\">Wikipedia languages</span></h2>\n",
       "<div class=\"nowraplinks nourlexpansion plainlinks\" id=\"lang\">\n",
       "<p>This Wikipedia is written in <a href=\"/wiki/English_language\" title=\"English language\">English</a>. Started in 2001<span style=\"display:none\"> (<span class=\"bday dtstart published updated\">2001</span>)</span>, it currently contains <a href=\"/wiki/Special:Statistics\" title=\"Special:Statistics\">5,576,265</a> articles.  Many other Wikipedias are available; some of the largest are listed below.</p>\n",
       "<ul>\n",
       "<li id=\"lang-3\">More than 1,000,000 articles:\n",
       "<div class=\"hlist inline\">\n",
       "<ul>\n",
       "<li><a class=\"external text\" href=\"https://de.wikipedia.org/wiki/\"><span class=\"autonym\" lang=\"de\" title=\"German (de:)\" xml:lang=\"de\">Deutsch</span></a></li>\n",
       "<li><a class=\"external text\" href=\"https://es.wikipedia.org/wiki/\"><span class=\"autonym\" lang=\"es\" title=\"Spanish (es:)\" xml:lang=\"es\">Español</span></a></li>\n",
       "<li><a class=\"external text\" href=\"https://fr.wikipedia.org/wiki/\"><span class=\"autonym\" lang=\"fr\" title=\"French (fr:)\" xml:lang=\"fr\">Français</span></a></li>\n",
       "<li><a class=\"external text\" href=\"https://it.wikipedia.org/wiki/\"><span class=\"autonym\" lang=\"it\" title=\"Italian (it:)\" xml:lang=\"it\">Italiano</span></a></li>\n",
       "<li><a class=\"external text\" href=\"https://nl.wikipedia.org/wiki/\"><span class=\"autonym\" lang=\"nl\" title=\"Dutch (nl:)\" xml:lang=\"nl\">Nederlands</span></a></li>\n",
       "<li><a class=\"external text\" href=\"https://ja.wikipedia.org/wiki/\"><span class=\"autonym\" lang=\"ja\" title=\"Japanese (ja:)\" xml:lang=\"ja\">日本語</span></a></li>\n",
       "<li><a class=\"external text\" href=\"https://pl.wikipedia.org/wiki/\"><span class=\"autonym\" lang=\"pl\" title=\"Polish (pl:)\" xml:lang=\"pl\">Polski</span></a></li>\n",
       "<li><a class=\"external text\" href=\"https://ru.wikipedia.org/wiki/\"><span class=\"autonym\" lang=\"ru\" title=\"Russian (ru:)\" xml:lang=\"ru\">Русский</span></a></li>\n",
       "<li><a class=\"external text\" href=\"https://sv.wikipedia.org/wiki/\"><span class=\"autonym\" lang=\"sv\" title=\"Swedish (sv:)\" xml:lang=\"sv\">Svenska</span></a></li>\n",
       "<li><a class=\"external text\" href=\"https://vi.wikipedia.org/wiki/\"><span class=\"autonym\" lang=\"vi\" title=\"Vietnamese (vi:)\" xml:lang=\"vi\">Tiếng Việt</span></a></li>\n",
       "</ul>\n",
       "</div>\n",
       "</li>\n",
       "<li id=\"lang-2\">More than 250,000 articles:\n",
       "<div class=\"hlist inline\">\n",
       "<ul>\n",
       "<li><a class=\"external text\" href=\"https://ar.wikipedia.org/wiki/\"><span class=\"autonym\" lang=\"ar\" title=\"Arabic (ar:)\" xml:lang=\"ar\">العربية</span></a></li>\n",
       "<li><a class=\"external text\" href=\"https://id.wikipedia.org/wiki/\"><span class=\"autonym\" lang=\"id\" title=\"Indonesian (id:)\" xml:lang=\"id\">Bahasa Indonesia</span></a></li>\n",
       "<li><a class=\"external text\" href=\"https://ms.wikipedia.org/wiki/\"><span class=\"autonym\" lang=\"ms\" title=\"Malay (ms:)\" xml:lang=\"ms\">Bahasa Melayu</span></a></li>\n",
       "<li><a class=\"external text\" href=\"https://ca.wikipedia.org/wiki/\"><span class=\"autonym\" lang=\"ca\" title=\"Catalan (ca:)\" xml:lang=\"ca\">Català</span></a></li>\n",
       "<li><a class=\"external text\" href=\"https://cs.wikipedia.org/wiki/\"><span class=\"autonym\" lang=\"cs\" title=\"Czech (cs:)\" xml:lang=\"cs\">Čeština</span></a></li>\n",
       "<li><a class=\"external text\" href=\"https://eu.wikipedia.org/wiki/\"><span class=\"autonym\" lang=\"eu\" title=\"Basque (eu:)\" xml:lang=\"eu\">Euskara</span></a></li>\n",
       "<li><a class=\"external text\" href=\"https://fa.wikipedia.org/wiki/\"><span class=\"autonym\" lang=\"fa\" title=\"Persian (fa:)\" xml:lang=\"fa\">فارسی</span></a></li>\n",
       "<li><a class=\"external text\" href=\"https://ko.wikipedia.org/wiki/\"><span class=\"autonym\" lang=\"ko\" title=\"Korean (ko:)\" xml:lang=\"ko\">한국어</span></a></li>\n",
       "<li><a class=\"external text\" href=\"https://hu.wikipedia.org/wiki/\"><span class=\"autonym\" lang=\"hu\" title=\"Hungarian (hu:)\" xml:lang=\"hu\">Magyar</span></a></li>\n",
       "<li><a class=\"external text\" href=\"https://no.wikipedia.org/wiki/\"><span class=\"autonym\" lang=\"no\" title=\"Norwegian (no:)\" xml:lang=\"no\">Norsk</span></a></li>\n",
       "<li><a class=\"external text\" href=\"https://pt.wikipedia.org/wiki/\"><span class=\"autonym\" lang=\"pt\" title=\"Portuguese (pt:)\" xml:lang=\"pt\">Português</span></a></li>\n",
       "<li><a class=\"external text\" href=\"https://ro.wikipedia.org/wiki/\"><span class=\"autonym\" lang=\"ro\" title=\"Romanian (ro:)\" xml:lang=\"ro\">Română</span></a></li>\n",
       "<li><a class=\"external text\" href=\"https://sr.wikipedia.org/wiki/\"><span class=\"autonym\" lang=\"sr\" title=\"Serbian (sr:)\" xml:lang=\"sr\">Srpski</span></a></li>\n",
       "<li><a class=\"external text\" href=\"https://sh.wikipedia.org/wiki/\"><span class=\"autonym\" lang=\"sh\" title=\"Serbo-Croatian (sh:)\" xml:lang=\"sh\">Srpskohrvatski</span></a></li>\n",
       "<li><a class=\"external text\" href=\"https://fi.wikipedia.org/wiki/\"><span class=\"autonym\" lang=\"fi\" title=\"Finnish (fi:)\" xml:lang=\"fi\">Suomi</span></a></li>\n",
       "<li><a class=\"external text\" href=\"https://tr.wikipedia.org/wiki/\"><span class=\"autonym\" lang=\"tr\" title=\"Turkish (tr:)\" xml:lang=\"tr\">Türkçe</span></a></li>\n",
       "<li><a class=\"external text\" href=\"https://uk.wikipedia.org/wiki/\"><span class=\"autonym\" lang=\"uk\" title=\"Ukrainian (uk:)\" xml:lang=\"uk\">Українська</span></a></li>\n",
       "<li><a class=\"external text\" href=\"https://zh.wikipedia.org/wiki/\"><span class=\"autonym\" lang=\"zh\" title=\"Chinese (zh:)\" xml:lang=\"zh\">中文</span></a></li>\n",
       "</ul>\n",
       "</div>\n",
       "</li>\n",
       "<li id=\"lang-1\">More than 50,000 articles:\n",
       "<div class=\"hlist inline\">\n",
       "<ul>\n",
       "<li><a class=\"external text\" href=\"https://bs.wikipedia.org/wiki/\"><span class=\"autonym\" lang=\"bs\" title=\"Bosnian (bs:)\" xml:lang=\"bs\">Bosanski</span></a></li>\n",
       "<li><a class=\"external text\" href=\"https://bg.wikipedia.org/wiki/\"><span class=\"autonym\" lang=\"bg\" title=\"Bulgarian (bg:)\" xml:lang=\"bg\">Български</span></a></li>\n",
       "<li><a class=\"external text\" href=\"https://da.wikipedia.org/wiki/\"><span class=\"autonym\" lang=\"da\" title=\"Danish (da:)\" xml:lang=\"da\">Dansk</span></a></li>\n",
       "<li><a class=\"external text\" href=\"https://et.wikipedia.org/wiki/\"><span class=\"autonym\" lang=\"et\" title=\"Estonian (et:)\" xml:lang=\"et\">Eesti</span></a></li>\n",
       "<li><a class=\"external text\" href=\"https://el.wikipedia.org/wiki/\"><span class=\"autonym\" lang=\"el\" title=\"Greek (el:)\" xml:lang=\"el\">Ελληνικά</span></a></li>\n",
       "<li><a class=\"external text\" href=\"https://simple.wikipedia.org/wiki/\"><span class=\"autonym\" lang=\"simple\" title=\"Simple English (simple:)\" xml:lang=\"simple\">English (simple form)</span></a></li>\n",
       "<li><a class=\"external text\" href=\"https://eo.wikipedia.org/wiki/\"><span class=\"autonym\" lang=\"eo\" title=\"Esperanto (eo:)\" xml:lang=\"eo\">Esperanto</span></a></li>\n",
       "<li><a class=\"external text\" href=\"https://gl.wikipedia.org/wiki/\"><span class=\"autonym\" lang=\"gl\" title=\"Galician (gl:)\" xml:lang=\"gl\">Galego</span></a></li>\n",
       "<li><a class=\"external text\" href=\"https://he.wikipedia.org/wiki/\"><span class=\"autonym\" lang=\"he\" title=\"Hebrew (he:)\" xml:lang=\"he\">עברית</span></a></li>\n",
       "<li><a class=\"external text\" href=\"https://hr.wikipedia.org/wiki/\"><span class=\"autonym\" lang=\"hr\" title=\"Croatian (hr:)\" xml:lang=\"hr\">Hrvatski</span></a></li>\n",
       "<li><a class=\"external text\" href=\"https://lv.wikipedia.org/wiki/\"><span class=\"autonym\" lang=\"lv\" title=\"Latvian (lv:)\" xml:lang=\"lv\">Latviešu</span></a></li>\n",
       "<li><a class=\"external text\" href=\"https://lt.wikipedia.org/wiki/\"><span class=\"autonym\" lang=\"lt\" title=\"Lithuanian (lt:)\" xml:lang=\"lt\">Lietuvių</span></a></li>\n",
       "<li><a class=\"external text\" href=\"https://nn.wikipedia.org/wiki/\"><span class=\"autonym\" lang=\"nn\" title=\"Norwegian Nynorsk (nn:)\" xml:lang=\"nn\">Norsk nynorsk</span></a></li>\n",
       "<li><a class=\"external text\" href=\"https://sk.wikipedia.org/wiki/\"><span class=\"autonym\" lang=\"sk\" title=\"Slovak (sk:)\" xml:lang=\"sk\">Slovenčina</span></a></li>\n",
       "<li><a class=\"external text\" href=\"https://sl.wikipedia.org/wiki/\"><span class=\"autonym\" lang=\"sl\" title=\"Slovenian (sl:)\" xml:lang=\"sl\">Slovenščina</span></a></li>\n",
       "<li><a class=\"external text\" href=\"https://th.wikipedia.org/wiki/\"><span class=\"autonym\" lang=\"th\" title=\"Thai (th:)\" xml:lang=\"th\">ไทย</span></a></li>\n",
       "</ul>\n",
       "</div>\n",
       "</li>\n",
       "</ul>\n",
       "</div>\n",
       "<div class=\"plainlinks\" id=\"metalink\" style=\"text-align:center;\"><strong><a class=\"extiw\" href=\"https://meta.wikimedia.org/wiki/List_of_Wikipedias\" title=\"meta:List of Wikipedias\">Complete list of Wikipedias</a></strong></div>\n",
       "</div>\n",
       "<!-- \n",
       "NewPP limit report\n",
       "Parsed by mw1337\n",
       "Cached time: 20180222205005\n",
       "Cache expiry: 3600\n",
       "Dynamic content: true\n",
       "CPU time usage: 0.284 seconds\n",
       "Real time usage: 1.174 seconds\n",
       "Preprocessor visited node count: 3078/1000000\n",
       "Preprocessor generated node count: 0/1500000\n",
       "Post‐expand include size: 112280/2097152 bytes\n",
       "Template argument size: 6262/2097152 bytes\n",
       "Highest expansion depth: 16/40\n",
       "Expensive parser function count: 6/500\n",
       "Lua time usage: 0.056/10.000 seconds\n",
       "Lua memory usage: 1.91 MB/50 MB\n",
       "-->\n",
       "<!--\n",
       "Transclusion expansion time report (%,ms,calls,template)\n",
       "100.00%  271.657      1 -total\n",
       " 44.35%  120.474      1 Wikipedia:Main_Page/Tomorrow\n",
       " 27.01%   73.374      6 Template:Main_page_image\n",
       " 16.15%   43.883      2 Template:Wikipedia_languages\n",
       " 15.53%   42.190      8 Template:Remove_file_prefix\n",
       " 15.49%   42.089      1 Template:Did_you_know/Queue/3\n",
       " 15.07%   40.950      1 User:DYKUpdateBot/REMOVE_THIS_LINE\n",
       " 12.13%   32.961      1 Wikipedia:Today's_featured_article/February_22,_2018\n",
       " 11.23%   30.496      1 Template:Mbox\n",
       " 10.33%   28.065      2 Template:TFAIMAGE\n",
       "-->\n",
       "</div>\n",
       "<!-- Saved in parser cache with key enwiki:pcache:idhash:15580374-0!canonical and timestamp 20180222205004 and revision id 807996266\n",
       " -->\n",
       "<noscript><img alt=\"\" height=\"1\" src=\"//en.wikipedia.org/wiki/Special:CentralAutoLogin/start?type=1x1\" style=\"border: none; position: absolute;\" title=\"\" width=\"1\"/></noscript></div> <div class=\"printfooter\">\n",
       "\t\t\t\t\t\tRetrieved from \"<a dir=\"ltr\" href=\"https://en.wikipedia.org/w/index.php?title=Main_Page&amp;oldid=807996266\">https://en.wikipedia.org/w/index.php?title=Main_Page&amp;oldid=807996266</a>\"\t\t\t\t\t</div>\n",
       "<div class=\"catlinks catlinks-allhidden\" data-mw=\"interface\" id=\"catlinks\"></div> <div class=\"visualClear\"></div>\n",
       "</div>\n",
       "</div>\n",
       "<div id=\"mw-navigation\">\n",
       "<h2>Navigation menu</h2>\n",
       "<div id=\"mw-head\">\n",
       "<div aria-labelledby=\"p-personal-label\" class=\"\" id=\"p-personal\" role=\"navigation\">\n",
       "<h3 id=\"p-personal-label\">Personal tools</h3>\n",
       "<ul>\n",
       "<li id=\"pt-anonuserpage\">Not logged in</li><li id=\"pt-anontalk\"><a accesskey=\"n\" href=\"/wiki/Special:MyTalk\" title=\"Discussion about edits from this IP address [n]\">Talk</a></li><li id=\"pt-anoncontribs\"><a accesskey=\"y\" href=\"/wiki/Special:MyContributions\" title=\"A list of edits made from this IP address [y]\">Contributions</a></li><li id=\"pt-createaccount\"><a href=\"/w/index.php?title=Special:CreateAccount&amp;returnto=Main+Page\" title=\"You are encouraged to create an account and log in; however, it is not mandatory\">Create account</a></li><li id=\"pt-login\"><a accesskey=\"o\" href=\"/w/index.php?title=Special:UserLogin&amp;returnto=Main+Page\" title=\"You're encouraged to log in; however, it's not mandatory. [o]\">Log in</a></li> </ul>\n",
       "</div>\n",
       "<div id=\"left-navigation\">\n",
       "<div aria-labelledby=\"p-namespaces-label\" class=\"vectorTabs\" id=\"p-namespaces\" role=\"navigation\">\n",
       "<h3 id=\"p-namespaces-label\">Namespaces</h3>\n",
       "<ul>\n",
       "<li class=\"selected\" id=\"ca-nstab-main\"><span><a accesskey=\"c\" href=\"/wiki/Main_Page\" title=\"View the content page [c]\">Main Page</a></span></li><li id=\"ca-talk\"><span><a accesskey=\"t\" href=\"/wiki/Talk:Main_Page\" rel=\"discussion\" title=\"Discussion about the content page [t]\">Talk</a></span></li> </ul>\n",
       "</div>\n",
       "<div aria-labelledby=\"p-variants-label\" class=\"vectorMenu emptyPortlet\" id=\"p-variants\" role=\"navigation\">\n",
       "<input aria-labelledby=\"p-variants-label\" class=\"vectorMenuCheckbox\" type=\"checkbox\"/>\n",
       "<h3 id=\"p-variants-label\">\n",
       "<span>Variants</span>\n",
       "</h3>\n",
       "<div class=\"menu\">\n",
       "<ul>\n",
       "</ul>\n",
       "</div>\n",
       "</div>\n",
       "</div>\n",
       "<div id=\"right-navigation\">\n",
       "<div aria-labelledby=\"p-views-label\" class=\"vectorTabs\" id=\"p-views\" role=\"navigation\">\n",
       "<h3 id=\"p-views-label\">Views</h3>\n",
       "<ul>\n",
       "<li class=\"collapsible selected\" id=\"ca-view\"><span><a href=\"/wiki/Main_Page\">Read</a></span></li><li class=\"collapsible\" id=\"ca-viewsource\"><span><a accesskey=\"e\" href=\"/w/index.php?title=Main_Page&amp;action=edit\" title=\"This page is protected.\n",
       "You can view its source [e]\">View source</a></span></li><li class=\"collapsible\" id=\"ca-history\"><span><a accesskey=\"h\" href=\"/w/index.php?title=Main_Page&amp;action=history\" title=\"Past revisions of this page [h]\">View history</a></span></li> </ul>\n",
       "</div>\n",
       "<div aria-labelledby=\"p-cactions-label\" class=\"vectorMenu emptyPortlet\" id=\"p-cactions\" role=\"navigation\">\n",
       "<input aria-labelledby=\"p-cactions-label\" class=\"vectorMenuCheckbox\" type=\"checkbox\"/>\n",
       "<h3 id=\"p-cactions-label\"><span>More</span></h3>\n",
       "<div class=\"menu\">\n",
       "<ul>\n",
       "</ul>\n",
       "</div>\n",
       "</div>\n",
       "<div id=\"p-search\" role=\"search\">\n",
       "<h3>\n",
       "<label for=\"searchInput\">Search</label>\n",
       "</h3>\n",
       "<form action=\"/w/index.php\" id=\"searchform\">\n",
       "<div id=\"simpleSearch\">\n",
       "<input accesskey=\"f\" id=\"searchInput\" name=\"search\" placeholder=\"Search Wikipedia\" title=\"Search Wikipedia [f]\" type=\"search\"/><input name=\"title\" type=\"hidden\" value=\"Special:Search\"/><input class=\"searchButton mw-fallbackSearchButton\" id=\"mw-searchButton\" name=\"fulltext\" title=\"Search Wikipedia for this text\" type=\"submit\" value=\"Search\"/><input class=\"searchButton\" id=\"searchButton\" name=\"go\" title=\"Go to a page with this exact name if it exists\" type=\"submit\" value=\"Go\"/> </div>\n",
       "</form>\n",
       "</div>\n",
       "</div>\n",
       "</div>\n",
       "<div id=\"mw-panel\">\n",
       "<div id=\"p-logo\" role=\"banner\"><a class=\"mw-wiki-logo\" href=\"/wiki/Main_Page\" title=\"Visit the main page\"></a></div>\n",
       "<div aria-labelledby=\"p-navigation-label\" class=\"portal\" id=\"p-navigation\" role=\"navigation\">\n",
       "<h3 id=\"p-navigation-label\">Navigation</h3>\n",
       "<div class=\"body\">\n",
       "<ul>\n",
       "<li id=\"n-mainpage-description\"><a accesskey=\"z\" href=\"/wiki/Main_Page\" title=\"Visit the main page [z]\">Main page</a></li><li id=\"n-contents\"><a href=\"/wiki/Portal:Contents\" title=\"Guides to browsing Wikipedia\">Contents</a></li><li id=\"n-featuredcontent\"><a href=\"/wiki/Portal:Featured_content\" title=\"Featured content – the best of Wikipedia\">Featured content</a></li><li id=\"n-currentevents\"><a href=\"/wiki/Portal:Current_events\" title=\"Find background information on current events\">Current events</a></li><li id=\"n-randompage\"><a accesskey=\"x\" href=\"/wiki/Special:Random\" title=\"Load a random article [x]\">Random article</a></li><li id=\"n-sitesupport\"><a href=\"https://donate.wikimedia.org/wiki/Special:FundraiserRedirector?utm_source=donate&amp;utm_medium=sidebar&amp;utm_campaign=C13_en.wikipedia.org&amp;uselang=en\" title=\"Support us\">Donate to Wikipedia</a></li><li id=\"n-shoplink\"><a href=\"//shop.wikimedia.org\" title=\"Visit the Wikipedia store\">Wikipedia store</a></li> </ul>\n",
       "</div>\n",
       "</div>\n",
       "<div aria-labelledby=\"p-interaction-label\" class=\"portal\" id=\"p-interaction\" role=\"navigation\">\n",
       "<h3 id=\"p-interaction-label\">Interaction</h3>\n",
       "<div class=\"body\">\n",
       "<ul>\n",
       "<li id=\"n-help\"><a href=\"/wiki/Help:Contents\" title=\"Guidance on how to use and edit Wikipedia\">Help</a></li><li id=\"n-aboutsite\"><a href=\"/wiki/Wikipedia:About\" title=\"Find out about Wikipedia\">About Wikipedia</a></li><li id=\"n-portal\"><a href=\"/wiki/Wikipedia:Community_portal\" title=\"About the project, what you can do, where to find things\">Community portal</a></li><li id=\"n-recentchanges\"><a accesskey=\"r\" href=\"/wiki/Special:RecentChanges\" title=\"A list of recent changes in the wiki [r]\">Recent changes</a></li><li id=\"n-contactpage\"><a href=\"//en.wikipedia.org/wiki/Wikipedia:Contact_us\" title=\"How to contact Wikipedia\">Contact page</a></li> </ul>\n",
       "</div>\n",
       "</div>\n",
       "<div aria-labelledby=\"p-tb-label\" class=\"portal\" id=\"p-tb\" role=\"navigation\">\n",
       "<h3 id=\"p-tb-label\">Tools</h3>\n",
       "<div class=\"body\">\n",
       "<ul>\n",
       "<li id=\"t-whatlinkshere\"><a accesskey=\"j\" href=\"/wiki/Special:WhatLinksHere/Main_Page\" title=\"List of all English Wikipedia pages containing links to this page [j]\">What links here</a></li><li id=\"t-recentchangeslinked\"><a accesskey=\"k\" href=\"/wiki/Special:RecentChangesLinked/Main_Page\" rel=\"nofollow\" title=\"Recent changes in pages linked from this page [k]\">Related changes</a></li><li id=\"t-upload\"><a accesskey=\"u\" href=\"/wiki/Wikipedia:File_Upload_Wizard\" title=\"Upload files [u]\">Upload file</a></li><li id=\"t-specialpages\"><a accesskey=\"q\" href=\"/wiki/Special:SpecialPages\" title=\"A list of all special pages [q]\">Special pages</a></li><li id=\"t-permalink\"><a href=\"/w/index.php?title=Main_Page&amp;oldid=807996266\" title=\"Permanent link to this revision of the page\">Permanent link</a></li><li id=\"t-info\"><a href=\"/w/index.php?title=Main_Page&amp;action=info\" title=\"More information about this page\">Page information</a></li><li id=\"t-wikibase\"><a accesskey=\"g\" href=\"https://www.wikidata.org/wiki/Special:EntityPage/Q5296\" title=\"Link to connected data repository item [g]\">Wikidata item</a></li><li id=\"t-cite\"><a href=\"/w/index.php?title=Special:CiteThisPage&amp;page=Main_Page&amp;id=807996266\" title=\"Information on how to cite this page\">Cite this page</a></li> </ul>\n",
       "</div>\n",
       "</div>\n",
       "<div aria-labelledby=\"p-coll-print_export-label\" class=\"portal\" id=\"p-coll-print_export\" role=\"navigation\">\n",
       "<h3 id=\"p-coll-print_export-label\">Print/export</h3>\n",
       "<div class=\"body\">\n",
       "<ul>\n",
       "<li id=\"coll-create_a_book\"><a href=\"/w/index.php?title=Special:Book&amp;bookcmd=book_creator&amp;referer=Main+Page\">Create a book</a></li><li id=\"coll-download-as-rdf2latex\"><a href=\"/w/index.php?title=Special:ElectronPdf&amp;page=Main+Page&amp;action=show-download-screen\">Download as PDF</a></li><li id=\"t-print\"><a accesskey=\"p\" href=\"/w/index.php?title=Main_Page&amp;printable=yes\" title=\"Printable version of this page [p]\">Printable version</a></li> </ul>\n",
       "</div>\n",
       "</div>\n",
       "<div aria-labelledby=\"p-wikibase-otherprojects-label\" class=\"portal\" id=\"p-wikibase-otherprojects\" role=\"navigation\">\n",
       "<h3 id=\"p-wikibase-otherprojects-label\">In other projects</h3>\n",
       "<div class=\"body\">\n",
       "<ul>\n",
       "<li class=\"wb-otherproject-link wb-otherproject-commons\"><a href=\"https://commons.wikimedia.org/wiki/Main_Page\" hreflang=\"en\">Wikimedia Commons</a></li><li class=\"wb-otherproject-link wb-otherproject-mediawiki\"><a href=\"https://www.mediawiki.org/wiki/MediaWiki\" hreflang=\"en\">MediaWiki</a></li><li class=\"wb-otherproject-link wb-otherproject-meta\"><a href=\"https://meta.wikimedia.org/wiki/Main_Page\" hreflang=\"en\">Meta-Wiki</a></li><li class=\"wb-otherproject-link wb-otherproject-species\"><a href=\"https://species.wikimedia.org/wiki/Main_Page\" hreflang=\"en\">Wikispecies</a></li><li class=\"wb-otherproject-link wb-otherproject-wikibooks\"><a href=\"https://en.wikibooks.org/wiki/Main_Page\" hreflang=\"en\">Wikibooks</a></li><li class=\"wb-otherproject-link wb-otherproject-wikidata\"><a href=\"https://www.wikidata.org/wiki/Wikidata:Main_Page\" hreflang=\"en\">Wikidata</a></li><li class=\"wb-otherproject-link wb-otherproject-wikinews\"><a href=\"https://en.wikinews.org/wiki/Main_Page\" hreflang=\"en\">Wikinews</a></li><li class=\"wb-otherproject-link wb-otherproject-wikiquote\"><a href=\"https://en.wikiquote.org/wiki/Main_Page\" hreflang=\"en\">Wikiquote</a></li><li class=\"wb-otherproject-link wb-otherproject-wikisource\"><a href=\"https://en.wikisource.org/wiki/Main_Page\" hreflang=\"en\">Wikisource</a></li><li class=\"wb-otherproject-link wb-otherproject-wikiversity\"><a href=\"https://en.wikiversity.org/wiki/Wikiversity:Main_Page\" hreflang=\"en\">Wikiversity</a></li><li class=\"wb-otherproject-link wb-otherproject-wikivoyage\"><a href=\"https://en.wikivoyage.org/wiki/Main_Page\" hreflang=\"en\">Wikivoyage</a></li><li class=\"wb-otherproject-link wb-otherproject-wiktionary\"><a href=\"https://en.wiktionary.org/wiki/Wiktionary:Main_Page\" hreflang=\"en\">Wiktionary</a></li> </ul>\n",
       "</div>\n",
       "</div>\n",
       "<div aria-labelledby=\"p-lang-label\" class=\"portal\" id=\"p-lang\" role=\"navigation\">\n",
       "<h3 id=\"p-lang-label\">Languages</h3>\n",
       "<div class=\"body\">\n",
       "<ul>\n",
       "<li class=\"interlanguage-link interwiki-ar\"><a class=\"interlanguage-link-target\" href=\"https://ar.wikipedia.org/wiki/\" hreflang=\"ar\" lang=\"ar\" title=\"Arabic\">العربية</a></li><li class=\"interlanguage-link interwiki-bg\"><a class=\"interlanguage-link-target\" href=\"https://bg.wikipedia.org/wiki/\" hreflang=\"bg\" lang=\"bg\" title=\"Bulgarian\">Български</a></li><li class=\"interlanguage-link interwiki-bs\"><a class=\"interlanguage-link-target\" href=\"https://bs.wikipedia.org/wiki/\" hreflang=\"bs\" lang=\"bs\" title=\"Bosnian\">Bosanski</a></li><li class=\"interlanguage-link interwiki-ca\"><a class=\"interlanguage-link-target\" href=\"https://ca.wikipedia.org/wiki/\" hreflang=\"ca\" lang=\"ca\" title=\"Catalan\">Català</a></li><li class=\"interlanguage-link interwiki-cs\"><a class=\"interlanguage-link-target\" href=\"https://cs.wikipedia.org/wiki/\" hreflang=\"cs\" lang=\"cs\" title=\"Czech\">Čeština</a></li><li class=\"interlanguage-link interwiki-da\"><a class=\"interlanguage-link-target\" href=\"https://da.wikipedia.org/wiki/\" hreflang=\"da\" lang=\"da\" title=\"Danish\">Dansk</a></li><li class=\"interlanguage-link interwiki-de\"><a class=\"interlanguage-link-target\" href=\"https://de.wikipedia.org/wiki/\" hreflang=\"de\" lang=\"de\" title=\"German\">Deutsch</a></li><li class=\"interlanguage-link interwiki-et\"><a class=\"interlanguage-link-target\" href=\"https://et.wikipedia.org/wiki/\" hreflang=\"et\" lang=\"et\" title=\"Estonian\">Eesti</a></li><li class=\"interlanguage-link interwiki-el\"><a class=\"interlanguage-link-target\" href=\"https://el.wikipedia.org/wiki/\" hreflang=\"el\" lang=\"el\" title=\"Greek\">Ελληνικά</a></li><li class=\"interlanguage-link interwiki-es\"><a class=\"interlanguage-link-target\" href=\"https://es.wikipedia.org/wiki/\" hreflang=\"es\" lang=\"es\" title=\"Spanish\">Español</a></li><li class=\"interlanguage-link interwiki-eo\"><a class=\"interlanguage-link-target\" href=\"https://eo.wikipedia.org/wiki/\" hreflang=\"eo\" lang=\"eo\" title=\"Esperanto\">Esperanto</a></li><li class=\"interlanguage-link interwiki-eu\"><a class=\"interlanguage-link-target\" href=\"https://eu.wikipedia.org/wiki/\" hreflang=\"eu\" lang=\"eu\" title=\"Basque\">Euskara</a></li><li class=\"interlanguage-link interwiki-fa\"><a class=\"interlanguage-link-target\" href=\"https://fa.wikipedia.org/wiki/\" hreflang=\"fa\" lang=\"fa\" title=\"Persian\">فارسی</a></li><li class=\"interlanguage-link interwiki-fr\"><a class=\"interlanguage-link-target\" href=\"https://fr.wikipedia.org/wiki/\" hreflang=\"fr\" lang=\"fr\" title=\"French\">Français</a></li><li class=\"interlanguage-link interwiki-gl\"><a class=\"interlanguage-link-target\" href=\"https://gl.wikipedia.org/wiki/\" hreflang=\"gl\" lang=\"gl\" title=\"Galician\">Galego</a></li><li class=\"interlanguage-link interwiki-ko\"><a class=\"interlanguage-link-target\" href=\"https://ko.wikipedia.org/wiki/\" hreflang=\"ko\" lang=\"ko\" title=\"Korean\">한국어</a></li><li class=\"interlanguage-link interwiki-hr\"><a class=\"interlanguage-link-target\" href=\"https://hr.wikipedia.org/wiki/\" hreflang=\"hr\" lang=\"hr\" title=\"Croatian\">Hrvatski</a></li><li class=\"interlanguage-link interwiki-id\"><a class=\"interlanguage-link-target\" href=\"https://id.wikipedia.org/wiki/\" hreflang=\"id\" lang=\"id\" title=\"Indonesian\">Bahasa Indonesia</a></li><li class=\"interlanguage-link interwiki-it\"><a class=\"interlanguage-link-target\" href=\"https://it.wikipedia.org/wiki/\" hreflang=\"it\" lang=\"it\" title=\"Italian\">Italiano</a></li><li class=\"interlanguage-link interwiki-he\"><a class=\"interlanguage-link-target\" href=\"https://he.wikipedia.org/wiki/\" hreflang=\"he\" lang=\"he\" title=\"Hebrew\">עברית</a></li><li class=\"interlanguage-link interwiki-ka\"><a class=\"interlanguage-link-target\" href=\"https://ka.wikipedia.org/wiki/\" hreflang=\"ka\" lang=\"ka\" title=\"Georgian\">ქართული</a></li><li class=\"interlanguage-link interwiki-lv\"><a class=\"interlanguage-link-target\" href=\"https://lv.wikipedia.org/wiki/\" hreflang=\"lv\" lang=\"lv\" title=\"Latvian\">Latviešu</a></li><li class=\"interlanguage-link interwiki-lt\"><a class=\"interlanguage-link-target\" href=\"https://lt.wikipedia.org/wiki/\" hreflang=\"lt\" lang=\"lt\" title=\"Lithuanian\">Lietuvių</a></li><li class=\"interlanguage-link interwiki-hu\"><a class=\"interlanguage-link-target\" href=\"https://hu.wikipedia.org/wiki/\" hreflang=\"hu\" lang=\"hu\" title=\"Hungarian\">Magyar</a></li><li class=\"interlanguage-link interwiki-ms\"><a class=\"interlanguage-link-target\" href=\"https://ms.wikipedia.org/wiki/\" hreflang=\"ms\" lang=\"ms\" title=\"Malay\">Bahasa Melayu</a></li><li class=\"interlanguage-link interwiki-nl\"><a class=\"interlanguage-link-target\" href=\"https://nl.wikipedia.org/wiki/\" hreflang=\"nl\" lang=\"nl\" title=\"Dutch\">Nederlands</a></li><li class=\"interlanguage-link interwiki-ja\"><a class=\"interlanguage-link-target\" href=\"https://ja.wikipedia.org/wiki/\" hreflang=\"ja\" lang=\"ja\" title=\"Japanese\">日本語</a></li><li class=\"interlanguage-link interwiki-no\"><a class=\"interlanguage-link-target\" href=\"https://no.wikipedia.org/wiki/\" hreflang=\"no\" lang=\"no\" title=\"Norwegian\">Norsk</a></li><li class=\"interlanguage-link interwiki-nn\"><a class=\"interlanguage-link-target\" href=\"https://nn.wikipedia.org/wiki/\" hreflang=\"nn\" lang=\"nn\" title=\"Norwegian Nynorsk\">Norsk nynorsk</a></li><li class=\"interlanguage-link interwiki-pl\"><a class=\"interlanguage-link-target\" href=\"https://pl.wikipedia.org/wiki/\" hreflang=\"pl\" lang=\"pl\" title=\"Polish\">Polski</a></li><li class=\"interlanguage-link interwiki-pt\"><a class=\"interlanguage-link-target\" href=\"https://pt.wikipedia.org/wiki/\" hreflang=\"pt\" lang=\"pt\" title=\"Portuguese\">Português</a></li><li class=\"interlanguage-link interwiki-ro\"><a class=\"interlanguage-link-target\" href=\"https://ro.wikipedia.org/wiki/\" hreflang=\"ro\" lang=\"ro\" title=\"Romanian\">Română</a></li><li class=\"interlanguage-link interwiki-ru\"><a class=\"interlanguage-link-target\" href=\"https://ru.wikipedia.org/wiki/\" hreflang=\"ru\" lang=\"ru\" title=\"Russian\">Русский</a></li><li class=\"interlanguage-link interwiki-simple\"><a class=\"interlanguage-link-target\" href=\"https://simple.wikipedia.org/wiki/\" hreflang=\"simple\" lang=\"simple\" title=\"Simple English\">Simple English</a></li><li class=\"interlanguage-link interwiki-sk\"><a class=\"interlanguage-link-target\" href=\"https://sk.wikipedia.org/wiki/\" hreflang=\"sk\" lang=\"sk\" title=\"Slovak\">Slovenčina</a></li><li class=\"interlanguage-link interwiki-sl\"><a class=\"interlanguage-link-target\" href=\"https://sl.wikipedia.org/wiki/\" hreflang=\"sl\" lang=\"sl\" title=\"Slovenian\">Slovenščina</a></li><li class=\"interlanguage-link interwiki-sr\"><a class=\"interlanguage-link-target\" href=\"https://sr.wikipedia.org/wiki/\" hreflang=\"sr\" lang=\"sr\" title=\"Serbian\">Српски / srpski</a></li><li class=\"interlanguage-link interwiki-sh\"><a class=\"interlanguage-link-target\" href=\"https://sh.wikipedia.org/wiki/\" hreflang=\"sh\" lang=\"sh\" title=\"Serbo-Croatian\">Srpskohrvatski / српскохрватски</a></li><li class=\"interlanguage-link interwiki-fi\"><a class=\"interlanguage-link-target\" href=\"https://fi.wikipedia.org/wiki/\" hreflang=\"fi\" lang=\"fi\" title=\"Finnish\">Suomi</a></li><li class=\"interlanguage-link interwiki-sv\"><a class=\"interlanguage-link-target\" href=\"https://sv.wikipedia.org/wiki/\" hreflang=\"sv\" lang=\"sv\" title=\"Swedish\">Svenska</a></li><li class=\"interlanguage-link interwiki-th\"><a class=\"interlanguage-link-target\" href=\"https://th.wikipedia.org/wiki/\" hreflang=\"th\" lang=\"th\" title=\"Thai\">ไทย</a></li><li class=\"interlanguage-link interwiki-tr\"><a class=\"interlanguage-link-target\" href=\"https://tr.wikipedia.org/wiki/\" hreflang=\"tr\" lang=\"tr\" title=\"Turkish\">Türkçe</a></li><li class=\"interlanguage-link interwiki-uk\"><a class=\"interlanguage-link-target\" href=\"https://uk.wikipedia.org/wiki/\" hreflang=\"uk\" lang=\"uk\" title=\"Ukrainian\">Українська</a></li><li class=\"interlanguage-link interwiki-vi\"><a class=\"interlanguage-link-target\" href=\"https://vi.wikipedia.org/wiki/\" hreflang=\"vi\" lang=\"vi\" title=\"Vietnamese\">Tiếng Việt</a></li><li class=\"interlanguage-link interwiki-zh\"><a class=\"interlanguage-link-target\" href=\"https://zh.wikipedia.org/wiki/\" hreflang=\"zh\" lang=\"zh\" title=\"Chinese\">中文</a></li> </ul>\n",
       "</div>\n",
       "</div>\n",
       "</div>\n",
       "</div>\n",
       "<div id=\"footer\" role=\"contentinfo\">\n",
       "<ul id=\"footer-info\">\n",
       "<li id=\"footer-info-lastmod\"> This page was last edited on 31 October 2017, at 07:33.</li>\n",
       "<li id=\"footer-info-copyright\">Text is available under the <a href=\"//en.wikipedia.org/wiki/Wikipedia:Text_of_Creative_Commons_Attribution-ShareAlike_3.0_Unported_License\" rel=\"license\">Creative Commons Attribution-ShareAlike License</a><a href=\"//creativecommons.org/licenses/by-sa/3.0/\" rel=\"license\" style=\"display:none;\"></a>;\n",
       "additional terms may apply.  By using this site, you agree to the <a href=\"//wikimediafoundation.org/wiki/Terms_of_Use\">Terms of Use</a> and <a href=\"//wikimediafoundation.org/wiki/Privacy_policy\">Privacy Policy</a>. Wikipedia® is a registered trademark of the <a href=\"//www.wikimediafoundation.org/\">Wikimedia Foundation, Inc.</a>, a non-profit organization.</li>\n",
       "</ul>\n",
       "<ul id=\"footer-places\">\n",
       "<li id=\"footer-places-privacy\"><a class=\"extiw\" href=\"https://wikimediafoundation.org/wiki/Privacy_policy\" title=\"wmf:Privacy policy\">Privacy policy</a></li>\n",
       "<li id=\"footer-places-about\"><a href=\"/wiki/Wikipedia:About\" title=\"Wikipedia:About\">About Wikipedia</a></li>\n",
       "<li id=\"footer-places-disclaimer\"><a href=\"/wiki/Wikipedia:General_disclaimer\" title=\"Wikipedia:General disclaimer\">Disclaimers</a></li>\n",
       "<li id=\"footer-places-contact\"><a href=\"//en.wikipedia.org/wiki/Wikipedia:Contact_us\">Contact Wikipedia</a></li>\n",
       "<li id=\"footer-places-developers\"><a href=\"https://www.mediawiki.org/wiki/Special:MyLanguage/How_to_contribute\">Developers</a></li>\n",
       "<li id=\"footer-places-cookiestatement\"><a href=\"https://wikimediafoundation.org/wiki/Cookie_statement\">Cookie statement</a></li>\n",
       "<li id=\"footer-places-mobileview\"><a class=\"noprint stopMobileRedirectToggle\" href=\"//en.m.wikipedia.org/w/index.php?title=Main_Page&amp;mobileaction=toggle_view_mobile\">Mobile view</a></li>\n",
       "</ul>\n",
       "<ul class=\"noprint\" id=\"footer-icons\">\n",
       "<li id=\"footer-copyrightico\">\n",
       "<a href=\"https://wikimediafoundation.org/\"><img alt=\"Wikimedia Foundation\" height=\"31\" src=\"/static/images/wikimedia-button.png\" srcset=\"/static/images/wikimedia-button-1.5x.png 1.5x, /static/images/wikimedia-button-2x.png 2x\" width=\"88\"/></a> </li>\n",
       "<li id=\"footer-poweredbyico\">\n",
       "<a href=\"//www.mediawiki.org/\"><img alt=\"Powered by MediaWiki\" height=\"31\" src=\"/static/images/poweredby_mediawiki_88x31.png\" srcset=\"/static/images/poweredby_mediawiki_132x47.png 1.5x, /static/images/poweredby_mediawiki_176x62.png 2x\" width=\"88\"/></a> </li>\n",
       "</ul>\n",
       "<div style=\"clear: both;\"></div>\n",
       "</div>\n",
       "<script>(window.RLQ=window.RLQ||[]).push(function(){mw.config.set({\"wgPageParseReport\":{\"limitreport\":{\"cputime\":\"0.284\",\"walltime\":\"1.174\",\"ppvisitednodes\":{\"value\":3078,\"limit\":1000000},\"ppgeneratednodes\":{\"value\":0,\"limit\":1500000},\"postexpandincludesize\":{\"value\":112280,\"limit\":2097152},\"templateargumentsize\":{\"value\":6262,\"limit\":2097152},\"expansiondepth\":{\"value\":16,\"limit\":40},\"expensivefunctioncount\":{\"value\":6,\"limit\":500},\"entityaccesscount\":{\"value\":0,\"limit\":400},\"timingprofile\":[\"100.00%  271.657      1 -total\",\" 44.35%  120.474      1 Wikipedia:Main_Page/Tomorrow\",\" 27.01%   73.374      6 Template:Main_page_image\",\" 16.15%   43.883      2 Template:Wikipedia_languages\",\" 15.53%   42.190      8 Template:Remove_file_prefix\",\" 15.49%   42.089      1 Template:Did_you_know/Queue/3\",\" 15.07%   40.950      1 User:DYKUpdateBot/REMOVE_THIS_LINE\",\" 12.13%   32.961      1 Wikipedia:Today's_featured_article/February_22,_2018\",\" 11.23%   30.496      1 Template:Mbox\",\" 10.33%   28.065      2 Template:TFAIMAGE\"]},\"scribunto\":{\"limitreport-timeusage\":{\"value\":\"0.056\",\"limit\":\"10.000\"},\"limitreport-memusage\":{\"value\":2007128,\"limit\":52428800}},\"cachereport\":{\"origin\":\"mw1337\",\"timestamp\":\"20180222205005\",\"ttl\":3600,\"transientcontent\":true}}});});</script><script>(window.RLQ=window.RLQ||[]).push(function(){mw.config.set({\"wgBackendResponseTime\":79,\"wgHostname\":\"mw1322\"});});</script>\n",
       "</body>\n",
       "</html>"
      ]
     },
     "execution_count": 44,
     "metadata": {},
     "output_type": "execute_result"
    }
   ],
   "source": [
    "# Import the Beautifulsoup package\n",
    "from bs4 import BeautifulSoup\n",
    "# Import urlopen to open the website\n",
    "from urllib.request import urlopen, Request\n",
    "\n",
    "# We need to define the user agent so the server doesn't get suspicious\n",
    "req = Request(r'https://en.wikipedia.org/wiki/Main_Page', headers={ 'User-Agent': 'Chrome/63.0.3239.132' })\n",
    "# Open the page\n",
    "page = urlopen(req)\n",
    "# 'Soupify' the page and use a parser\n",
    "soup = BeautifulSoup(page,'lxml')\n",
    "# page\n",
    "soup\n",
    "# Do any and all further operations and data extraction after this"
   ]
  },
  {
   "cell_type": "markdown",
   "metadata": {},
   "source": [
    "### For example"
   ]
  },
  {
   "cell_type": "code",
   "execution_count": 47,
   "metadata": {
    "scrolled": true
   },
   "outputs": [
    {
     "data": {
      "text/plain": [
       "'Æthelflæd'"
      ]
     },
     "execution_count": 47,
     "metadata": {},
     "output_type": "execute_result"
    }
   ],
   "source": [
    "# We want the name of the featured article\n",
    "soup.find('p').b.text"
   ]
  },
  {
   "cell_type": "code",
   "execution_count": 48,
   "metadata": {},
   "outputs": [
    {
     "data": {
      "text/plain": [
       "['#mw-head',\n",
       " '#p-search',\n",
       " '/wiki/Wikipedia',\n",
       " '/wiki/Free_content',\n",
       " '/wiki/Encyclopedia',\n",
       " '/wiki/Wikipedia:Introduction',\n",
       " '/wiki/Special:Statistics',\n",
       " '/wiki/English_language',\n",
       " '/wiki/Portal:Arts',\n",
       " '/wiki/Portal:Biography',\n",
       " '/wiki/Portal:Geography',\n",
       " '/wiki/Portal:History',\n",
       " '/wiki/Portal:Mathematics',\n",
       " '/wiki/Portal:Science',\n",
       " '/wiki/Portal:Society',\n",
       " '/wiki/Portal:Technology',\n",
       " '/wiki/Portal:Contents/Portals',\n",
       " '/wiki/File:%C3%86thelfl%C3%A6d_as_depicted_in_the_cartulary_of_Abingdon_Abbey.png',\n",
       " '/wiki/%C3%86thelfl%C3%A6d',\n",
       " '/wiki/Circa',\n",
       " '/wiki/Mercia',\n",
       " '/wiki/English_Midlands',\n",
       " '/wiki/Alfred_the_Great',\n",
       " '/wiki/Wessex',\n",
       " '/wiki/%C3%86thelred,_Lord_of_the_Mercians',\n",
       " '/wiki/Vikings',\n",
       " '/wiki/Edward_the_Elder',\n",
       " '/wiki/Derby',\n",
       " '/wiki/Leicester',\n",
       " '/wiki/York',\n",
       " '/wiki/%C3%86lfwynn',\n",
       " '/wiki/%C3%86thelfl%C3%A6d',\n",
       " '/wiki/North_Ronaldsay_sheep',\n",
       " '/wiki/Maxinquaye',\n",
       " '/wiki/Dungeon_Siege',\n",
       " '/wiki/Wikipedia:Today%27s_featured_article/February_2018',\n",
       " 'https://lists.wikimedia.org/mailman/listinfo/daily-article-l',\n",
       " '/wiki/Wikipedia:Featured_articles',\n",
       " '/wiki/File:General_George_Washington_Resigning_his_Commission.jpg',\n",
       " '/wiki/John_Trumbull',\n",
       " '/wiki/General_George_Washington_Resigning_His_Commission',\n",
       " '/wiki/George_Washington%27s_resignation_as_commander-in-chief',\n",
       " '/wiki/Sumerian_religion',\n",
       " '/wiki/Anunnaki',\n",
       " '/wiki/Inanna',\n",
       " '/wiki/Kur',\n",
       " '/wiki/Jean-Jack_Queyranne',\n",
       " '/wiki/Regional_council_of_Auvergne-Rh%C3%B4ne-Alpes',\n",
       " '/wiki/Monroe_Morton',\n",
       " '/wiki/Morton_Theatre',\n",
       " '/wiki/Athens,_Georgia',\n",
       " '/wiki/Major_Road_Network',\n",
       " '/wiki/Indianapolis_Colts',\n",
       " '/wiki/Defensive_back',\n",
       " '/wiki/D._J._White_(American_football)',\n",
       " '/wiki/Fumble',\n",
       " '/wiki/Georgia_Tech_Yellow_Jackets_football',\n",
       " '/wiki/Taiwan_bush_warbler',\n",
       " '/wiki/Wikipedia:Recent_additions',\n",
       " '/wiki/Wikipedia:Your_first_article',\n",
       " '/wiki/Template_talk:Did_you_know',\n",
       " '/wiki/File:Billy_Graham_bw_photo,_April_11,_1966_(cropped).jpg',\n",
       " '/wiki/Evangelicalism',\n",
       " '/wiki/Preacher',\n",
       " '/wiki/Billy_Graham',\n",
       " '/wiki/Three_Billboards_Outside_Ebbing,_Missouri',\n",
       " '/wiki/BAFTA_Award_for_Best_Film',\n",
       " '/wiki/71st_British_Academy_Film_Awards',\n",
       " '/wiki/Iran_Aseman_Airlines_Flight_3704',\n",
       " '/wiki/Zagros_Mountains',\n",
       " '/wiki/Jacob_Zuma',\n",
       " '/wiki/Cyril_Ramaphosa',\n",
       " '/wiki/Stoneman_Douglas_High_School_shooting',\n",
       " '/wiki/Marjory_Stoneman_Douglas_High_School',\n",
       " '/wiki/Parkland,_Florida',\n",
       " '/wiki/Portal:Current_events',\n",
       " '/wiki/Chronological_summary_of_the_2018_Winter_Olympics',\n",
       " '/wiki/Deaths_in_2018',\n",
       " '/wiki/Sergey_Litvinov_(athlete,_born_1958)',\n",
       " '/wiki/Peggy_Cooper_Cafritz',\n",
       " '/wiki/Wikipedia:In_the_news/Candidates',\n",
       " '/wiki/February_22',\n",
       " '/wiki/File:Hopkins_hospital.jpg',\n",
       " '/wiki/1316',\n",
       " '/wiki/Infante',\n",
       " '/wiki/Ferdinand_of_Majorca',\n",
       " '/wiki/Matilda_of_Hainaut',\n",
       " '/wiki/Battle_of_Picotin',\n",
       " '/wiki/Peloponnese',\n",
       " '/wiki/1876',\n",
       " '/wiki/Johns_Hopkins_University',\n",
       " '/wiki/Baltimore',\n",
       " '/wiki/Philanthropy',\n",
       " '/wiki/Johns_Hopkins',\n",
       " '/wiki/1921',\n",
       " '/wiki/White_movement',\n",
       " '/wiki/Roman_von_Ungern-Sternberg',\n",
       " '/wiki/Bogd_Khan',\n",
       " '/wiki/1957',\n",
       " '/wiki/Ngo_Dinh_Diem',\n",
       " '/wiki/Viet_Cong',\n",
       " '/wiki/Bu%C3%B4n_Ma_Thu%E1%BB%99t',\n",
       " '/wiki/2002',\n",
       " '/wiki/Jonas_Savimbi',\n",
       " '/wiki/Anti-communism',\n",
       " '/wiki/UNITA',\n",
       " '/wiki/Peder_Syv',\n",
       " '/wiki/Charles_Blondin',\n",
       " '/wiki/Elizabeth_Keawepo%CA%BBo%CA%BBole_Sumner',\n",
       " '/wiki/February_21',\n",
       " '/wiki/February_22',\n",
       " '/wiki/February_23',\n",
       " '/wiki/Wikipedia:Selected_anniversaries/February',\n",
       " 'https://lists.wikimedia.org/mailman/listinfo/daily-article-l',\n",
       " '/wiki/List_of_historical_anniversaries',\n",
       " '/wiki/File:Vincent_van_Gogh_-_The_yellow_house_(%27The_street%27).jpg',\n",
       " '/wiki/The_Yellow_House',\n",
       " '/wiki/Oil_painting',\n",
       " '/wiki/Post-Impressionism',\n",
       " '/wiki/Vincent_van_Gogh',\n",
       " '/wiki/Arles',\n",
       " '/wiki/Van_Gogh_Museum',\n",
       " '/wiki/Vincent_van_Gogh',\n",
       " '/wiki/Template:POTD/2018-02-21',\n",
       " '/wiki/Template:POTD/2018-02-20',\n",
       " '/wiki/Template:POTD/2018-02-19',\n",
       " '/wiki/Wikipedia:Picture_of_the_day/February_2018',\n",
       " '/wiki/Wikipedia:Featured_pictures',\n",
       " '/wiki/Wikipedia:Community_portal',\n",
       " '/wiki/Wikipedia:Help_desk',\n",
       " '/wiki/Wikipedia:Local_Embassy',\n",
       " '/wiki/Wikipedia:Reference_desk',\n",
       " '/wiki/Wikipedia:News',\n",
       " '/wiki/Wikipedia:Village_pump',\n",
       " '/wiki/Wikimedia_Foundation',\n",
       " 'https://wikimediafoundation.org/wiki/Our_projects',\n",
       " 'https://commons.wikimedia.org/wiki/',\n",
       " '//commons.wikimedia.org/',\n",
       " 'https://www.mediawiki.org/wiki/',\n",
       " '//mediawiki.org/',\n",
       " 'https://meta.wikimedia.org/wiki/',\n",
       " '//meta.wikimedia.org/',\n",
       " 'https://en.wikibooks.org/wiki/',\n",
       " '//en.wikibooks.org/',\n",
       " 'https://www.wikidata.org/wiki/',\n",
       " '//www.wikidata.org/',\n",
       " 'https://en.wikinews.org/wiki/',\n",
       " '//en.wikinews.org/',\n",
       " 'https://en.wikiquote.org/wiki/',\n",
       " '//en.wikiquote.org/',\n",
       " 'https://en.wikisource.org/wiki/',\n",
       " '//en.wikisource.org/',\n",
       " 'https://species.wikimedia.org/wiki/',\n",
       " '//species.wikimedia.org/',\n",
       " 'https://en.wikiversity.org/wiki/',\n",
       " '//en.wikiversity.org/',\n",
       " 'https://en.wikivoyage.org/wiki/',\n",
       " '//en.wikivoyage.org/',\n",
       " 'https://en.wiktionary.org/wiki/',\n",
       " '//en.wiktionary.org/',\n",
       " '/wiki/English_language',\n",
       " '/wiki/Special:Statistics',\n",
       " 'https://de.wikipedia.org/wiki/',\n",
       " 'https://es.wikipedia.org/wiki/',\n",
       " 'https://fr.wikipedia.org/wiki/',\n",
       " 'https://it.wikipedia.org/wiki/',\n",
       " 'https://nl.wikipedia.org/wiki/',\n",
       " 'https://ja.wikipedia.org/wiki/',\n",
       " 'https://pl.wikipedia.org/wiki/',\n",
       " 'https://ru.wikipedia.org/wiki/',\n",
       " 'https://sv.wikipedia.org/wiki/',\n",
       " 'https://vi.wikipedia.org/wiki/',\n",
       " 'https://ar.wikipedia.org/wiki/',\n",
       " 'https://id.wikipedia.org/wiki/',\n",
       " 'https://ms.wikipedia.org/wiki/',\n",
       " 'https://ca.wikipedia.org/wiki/',\n",
       " 'https://cs.wikipedia.org/wiki/',\n",
       " 'https://eu.wikipedia.org/wiki/',\n",
       " 'https://fa.wikipedia.org/wiki/',\n",
       " 'https://ko.wikipedia.org/wiki/',\n",
       " 'https://hu.wikipedia.org/wiki/',\n",
       " 'https://no.wikipedia.org/wiki/',\n",
       " 'https://pt.wikipedia.org/wiki/',\n",
       " 'https://ro.wikipedia.org/wiki/',\n",
       " 'https://sr.wikipedia.org/wiki/',\n",
       " 'https://sh.wikipedia.org/wiki/',\n",
       " 'https://fi.wikipedia.org/wiki/',\n",
       " 'https://tr.wikipedia.org/wiki/',\n",
       " 'https://uk.wikipedia.org/wiki/',\n",
       " 'https://zh.wikipedia.org/wiki/',\n",
       " 'https://bs.wikipedia.org/wiki/',\n",
       " 'https://bg.wikipedia.org/wiki/',\n",
       " 'https://da.wikipedia.org/wiki/',\n",
       " 'https://et.wikipedia.org/wiki/',\n",
       " 'https://el.wikipedia.org/wiki/',\n",
       " 'https://simple.wikipedia.org/wiki/',\n",
       " 'https://eo.wikipedia.org/wiki/',\n",
       " 'https://gl.wikipedia.org/wiki/',\n",
       " 'https://he.wikipedia.org/wiki/',\n",
       " 'https://hr.wikipedia.org/wiki/',\n",
       " 'https://lv.wikipedia.org/wiki/',\n",
       " 'https://lt.wikipedia.org/wiki/',\n",
       " 'https://nn.wikipedia.org/wiki/',\n",
       " 'https://sk.wikipedia.org/wiki/',\n",
       " 'https://sl.wikipedia.org/wiki/',\n",
       " 'https://th.wikipedia.org/wiki/',\n",
       " 'https://meta.wikimedia.org/wiki/List_of_Wikipedias',\n",
       " 'https://en.wikipedia.org/w/index.php?title=Main_Page&oldid=807996266',\n",
       " '/wiki/Special:MyTalk',\n",
       " '/wiki/Special:MyContributions',\n",
       " '/w/index.php?title=Special:CreateAccount&returnto=Main+Page',\n",
       " '/w/index.php?title=Special:UserLogin&returnto=Main+Page',\n",
       " '/wiki/Main_Page',\n",
       " '/wiki/Talk:Main_Page',\n",
       " '/wiki/Main_Page',\n",
       " '/w/index.php?title=Main_Page&action=edit',\n",
       " '/w/index.php?title=Main_Page&action=history',\n",
       " '/wiki/Main_Page',\n",
       " '/wiki/Main_Page',\n",
       " '/wiki/Portal:Contents',\n",
       " '/wiki/Portal:Featured_content',\n",
       " '/wiki/Portal:Current_events',\n",
       " '/wiki/Special:Random',\n",
       " 'https://donate.wikimedia.org/wiki/Special:FundraiserRedirector?utm_source=donate&utm_medium=sidebar&utm_campaign=C13_en.wikipedia.org&uselang=en',\n",
       " '//shop.wikimedia.org',\n",
       " '/wiki/Help:Contents',\n",
       " '/wiki/Wikipedia:About',\n",
       " '/wiki/Wikipedia:Community_portal',\n",
       " '/wiki/Special:RecentChanges',\n",
       " '//en.wikipedia.org/wiki/Wikipedia:Contact_us',\n",
       " '/wiki/Special:WhatLinksHere/Main_Page',\n",
       " '/wiki/Special:RecentChangesLinked/Main_Page',\n",
       " '/wiki/Wikipedia:File_Upload_Wizard',\n",
       " '/wiki/Special:SpecialPages',\n",
       " '/w/index.php?title=Main_Page&oldid=807996266',\n",
       " '/w/index.php?title=Main_Page&action=info',\n",
       " 'https://www.wikidata.org/wiki/Special:EntityPage/Q5296',\n",
       " '/w/index.php?title=Special:CiteThisPage&page=Main_Page&id=807996266',\n",
       " '/w/index.php?title=Special:Book&bookcmd=book_creator&referer=Main+Page',\n",
       " '/w/index.php?title=Special:ElectronPdf&page=Main+Page&action=show-download-screen',\n",
       " '/w/index.php?title=Main_Page&printable=yes',\n",
       " 'https://commons.wikimedia.org/wiki/Main_Page',\n",
       " 'https://www.mediawiki.org/wiki/MediaWiki',\n",
       " 'https://meta.wikimedia.org/wiki/Main_Page',\n",
       " 'https://species.wikimedia.org/wiki/Main_Page',\n",
       " 'https://en.wikibooks.org/wiki/Main_Page',\n",
       " 'https://www.wikidata.org/wiki/Wikidata:Main_Page',\n",
       " 'https://en.wikinews.org/wiki/Main_Page',\n",
       " 'https://en.wikiquote.org/wiki/Main_Page',\n",
       " 'https://en.wikisource.org/wiki/Main_Page',\n",
       " 'https://en.wikiversity.org/wiki/Wikiversity:Main_Page',\n",
       " 'https://en.wikivoyage.org/wiki/Main_Page',\n",
       " 'https://en.wiktionary.org/wiki/Wiktionary:Main_Page',\n",
       " 'https://ar.wikipedia.org/wiki/',\n",
       " 'https://bg.wikipedia.org/wiki/',\n",
       " 'https://bs.wikipedia.org/wiki/',\n",
       " 'https://ca.wikipedia.org/wiki/',\n",
       " 'https://cs.wikipedia.org/wiki/',\n",
       " 'https://da.wikipedia.org/wiki/',\n",
       " 'https://de.wikipedia.org/wiki/',\n",
       " 'https://et.wikipedia.org/wiki/',\n",
       " 'https://el.wikipedia.org/wiki/',\n",
       " 'https://es.wikipedia.org/wiki/',\n",
       " 'https://eo.wikipedia.org/wiki/',\n",
       " 'https://eu.wikipedia.org/wiki/',\n",
       " 'https://fa.wikipedia.org/wiki/',\n",
       " 'https://fr.wikipedia.org/wiki/',\n",
       " 'https://gl.wikipedia.org/wiki/',\n",
       " 'https://ko.wikipedia.org/wiki/',\n",
       " 'https://hr.wikipedia.org/wiki/',\n",
       " 'https://id.wikipedia.org/wiki/',\n",
       " 'https://it.wikipedia.org/wiki/',\n",
       " 'https://he.wikipedia.org/wiki/',\n",
       " 'https://ka.wikipedia.org/wiki/',\n",
       " 'https://lv.wikipedia.org/wiki/',\n",
       " 'https://lt.wikipedia.org/wiki/',\n",
       " 'https://hu.wikipedia.org/wiki/',\n",
       " 'https://ms.wikipedia.org/wiki/',\n",
       " 'https://nl.wikipedia.org/wiki/',\n",
       " 'https://ja.wikipedia.org/wiki/',\n",
       " 'https://no.wikipedia.org/wiki/',\n",
       " 'https://nn.wikipedia.org/wiki/',\n",
       " 'https://pl.wikipedia.org/wiki/',\n",
       " 'https://pt.wikipedia.org/wiki/',\n",
       " 'https://ro.wikipedia.org/wiki/',\n",
       " 'https://ru.wikipedia.org/wiki/',\n",
       " 'https://simple.wikipedia.org/wiki/',\n",
       " 'https://sk.wikipedia.org/wiki/',\n",
       " 'https://sl.wikipedia.org/wiki/',\n",
       " 'https://sr.wikipedia.org/wiki/',\n",
       " 'https://sh.wikipedia.org/wiki/',\n",
       " 'https://fi.wikipedia.org/wiki/',\n",
       " 'https://sv.wikipedia.org/wiki/',\n",
       " 'https://th.wikipedia.org/wiki/',\n",
       " 'https://tr.wikipedia.org/wiki/',\n",
       " 'https://uk.wikipedia.org/wiki/',\n",
       " 'https://vi.wikipedia.org/wiki/',\n",
       " 'https://zh.wikipedia.org/wiki/',\n",
       " '//en.wikipedia.org/wiki/Wikipedia:Text_of_Creative_Commons_Attribution-ShareAlike_3.0_Unported_License',\n",
       " '//creativecommons.org/licenses/by-sa/3.0/',\n",
       " '//wikimediafoundation.org/wiki/Terms_of_Use',\n",
       " '//wikimediafoundation.org/wiki/Privacy_policy',\n",
       " '//www.wikimediafoundation.org/',\n",
       " 'https://wikimediafoundation.org/wiki/Privacy_policy',\n",
       " '/wiki/Wikipedia:About',\n",
       " '/wiki/Wikipedia:General_disclaimer',\n",
       " '//en.wikipedia.org/wiki/Wikipedia:Contact_us',\n",
       " 'https://www.mediawiki.org/wiki/Special:MyLanguage/How_to_contribute',\n",
       " 'https://wikimediafoundation.org/wiki/Cookie_statement',\n",
       " '//en.m.wikipedia.org/w/index.php?title=Main_Page&mobileaction=toggle_view_mobile',\n",
       " 'https://wikimediafoundation.org/',\n",
       " '//www.mediawiki.org/']"
      ]
     },
     "execution_count": 48,
     "metadata": {},
     "output_type": "execute_result"
    }
   ],
   "source": [
    "# We want all the links\n",
    "[i['href'] for i in soup.findAll('a',href = True)]"
   ]
  },
  {
   "cell_type": "markdown",
   "metadata": {},
   "source": [
    "## The Parse Tree"
   ]
  },
  {
   "cell_type": "code",
   "execution_count": 31,
   "metadata": {
    "scrolled": true
   },
   "outputs": [
    {
     "name": "stdout",
     "output_type": "stream",
     "text": [
      "<html>\n",
      " <head>\n",
      "  <title>\n",
      "   Page title\n",
      "  </title>\n",
      " </head>\n",
      " <body>\n",
      "  <p align=\"center\" id=\"firstpara\">\n",
      "   This is paragraph\n",
      "   <b>\n",
      "    one\n",
      "   </b>\n",
      "   .\n",
      "  </p>\n",
      "  <p align=\"blah\" id=\"secondpara\">\n",
      "   This is paragraph\n",
      "   <b>\n",
      "    two\n",
      "   </b>\n",
      "   .\n",
      "  </p>\n",
      " </body>\n",
      "</html>\n"
     ]
    }
   ],
   "source": [
    "doc = ['<html><head><title>Page title</title></head>',\n",
    "       '<body><p id=\"firstpara\" align=\"center\">This is paragraph <b>one</b>.',\n",
    "       '<p id=\"secondpara\" align=\"blah\">This is paragraph <b>two</b>.',\n",
    "       '</html>']\n",
    "soup = BeautifulSoup(''.join(doc),'lxml')\n",
    "\n",
    "print (soup.prettify())"
   ]
  },
  {
   "cell_type": "markdown",
   "metadata": {},
   "source": [
    "### parent attribute can move up the class"
   ]
  },
  {
   "cell_type": "code",
   "execution_count": null,
   "metadata": {},
   "outputs": [],
   "source": [
    "soup.b.parent.name"
   ]
  },
  {
   "cell_type": "markdown",
   "metadata": {},
   "source": [
    "### contents attribute can move down the class"
   ]
  },
  {
   "cell_type": "code",
   "execution_count": null,
   "metadata": {},
   "outputs": [],
   "source": [
    "soup.p.contents"
   ]
  },
  {
   "cell_type": "code",
   "execution_count": null,
   "metadata": {},
   "outputs": [],
   "source": [
    "# Nested contents attribute\n",
    "print(type(soup.p.contents[1]))\n",
    "soup.p.contents[1].contents"
   ]
  },
  {
   "cell_type": "markdown",
   "metadata": {},
   "source": [
    "### nextSibling skips to the next element in the same level"
   ]
  },
  {
   "cell_type": "code",
   "execution_count": null,
   "metadata": {},
   "outputs": [],
   "source": [
    "soup.head.nextSibling.name"
   ]
  },
  {
   "cell_type": "markdown",
   "metadata": {},
   "source": [
    "### previousSibling skips to the previous element in the same level"
   ]
  },
  {
   "cell_type": "code",
   "execution_count": null,
   "metadata": {
    "scrolled": true
   },
   "outputs": [],
   "source": [
    "soup.body.previousSibling"
   ]
  },
  {
   "cell_type": "markdown",
   "metadata": {},
   "source": [
    "### next and previous\n",
    "- Move through the document elements in order\n",
    "- Ignores levels"
   ]
  },
  {
   "cell_type": "code",
   "execution_count": 35,
   "metadata": {},
   "outputs": [
    {
     "name": "stdout",
     "output_type": "stream",
     "text": [
      "<title>Page title</title>\n",
      "body\n",
      "<html><head><title>Page title</title></head><body><p align=\"center\" id=\"firstpara\">This is paragraph <b>one</b>.</p><p align=\"blah\" id=\"secondpara\">This is paragraph <b>two</b>.</p></body></html>\n"
     ]
    }
   ],
   "source": [
    "print(soup.head.next)\n",
    "print(soup.head.nextSibling.name)\n",
    "print(soup.head.previous)"
   ]
  },
  {
   "cell_type": "code",
   "execution_count": null,
   "metadata": {},
   "outputs": [],
   "source": [
    "# The soup object is an iterator\n",
    "iter(soup.body)"
   ]
  },
  {
   "cell_type": "code",
   "execution_count": null,
   "metadata": {},
   "outputs": [],
   "source": [
    "for i in soup.body:\n",
    "    print (i)"
   ]
  },
  {
   "cell_type": "markdown",
   "metadata": {},
   "source": [
    "### findChildren()\n",
    "- finds all the children of the current tag"
   ]
  },
  {
   "cell_type": "code",
   "execution_count": null,
   "metadata": {},
   "outputs": [],
   "source": [
    "soup.body.findChildren()"
   ]
  },
  {
   "cell_type": "markdown",
   "metadata": {},
   "source": [
    "# Searching"
   ]
  },
  {
   "cell_type": "markdown",
   "metadata": {},
   "source": [
    "## Useful Functions\n",
    "- findAll(): returns a list of all the matches\n",
    "- find(): returns the first match"
   ]
  },
  {
   "cell_type": "markdown",
   "metadata": {},
   "source": [
    "### findall() basic usage"
   ]
  },
  {
   "cell_type": "code",
   "execution_count": null,
   "metadata": {},
   "outputs": [],
   "source": [
    "# 1 - Simplest usage\n",
    "soup.findAll('b')"
   ]
  },
  {
   "cell_type": "code",
   "execution_count": null,
   "metadata": {},
   "outputs": [],
   "source": [
    "# 2 - Using regex within Beautifulsoup\n",
    "import re\n",
    "tagsStartingWithB = soup.findAll(re.compile('^b'))\n",
    "[tag.name for tag in tagsStartingWithB]"
   ]
  },
  {
   "cell_type": "code",
   "execution_count": null,
   "metadata": {},
   "outputs": [],
   "source": [
    "# 3 - Multiple tags\n",
    "soup.findAll(['title', 'p'])"
   ]
  },
  {
   "cell_type": "code",
   "execution_count": null,
   "metadata": {},
   "outputs": [],
   "source": [
    "# 4 - Find everything\n",
    "soup.findAll()"
   ]
  },
  {
   "cell_type": "code",
   "execution_count": null,
   "metadata": {
    "scrolled": true
   },
   "outputs": [],
   "source": [
    "# 5 - More regex - find all tags with id that ends in 'para'\n",
    "soup.findAll(id=re.compile(\"para$\"))"
   ]
  },
  {
   "cell_type": "markdown",
   "metadata": {},
   "source": [
    "### findall() attributes\n",
    "- name : name of what we are searching\n",
    "- attrs : attributes contained in the tags\n",
    "- text : Returns matches as strings instead of objects\n",
    "- limit : How many matches we want\n",
    "- recursive : Whether to go all the way down the parse tree, or whether to only look at the immediate children"
   ]
  },
  {
   "cell_type": "markdown",
   "metadata": {},
   "source": [
    "### The next most useful thing - CSS classes"
   ]
  },
  {
   "cell_type": "code",
   "execution_count": null,
   "metadata": {},
   "outputs": [],
   "source": [
    "soup = BeautifulSoup(\"\"\"Bob's <b>Bold</b> Barbeque Sauce now available in \n",
    "                        <b class=\"hickory\">Hickory</b> and <b class=\"lime\">Lime</a>\"\"\",'lxml')\n",
    "print(soup.prettify())"
   ]
  },
  {
   "cell_type": "code",
   "execution_count": null,
   "metadata": {},
   "outputs": [],
   "source": [
    "# Pass in the class as a dictionary\n",
    "soup.find(\"b\", { \"class\" : \"lime\" }) "
   ]
  },
  {
   "cell_type": "code",
   "execution_count": null,
   "metadata": {},
   "outputs": [],
   "source": [
    "soup.find(\"b\", { \"class\" : \"hickory\" })"
   ]
  },
  {
   "cell_type": "markdown",
   "metadata": {},
   "source": [
    "### Other (less useful functions)\n",
    "- findNextSiblings()\n",
    "- findPreviousSiblings()\n",
    "- findAllPrevious()\n",
    "- findAllNext()"
   ]
  },
  {
   "cell_type": "markdown",
   "metadata": {},
   "source": [
    "## Scraping IMdB reviews"
   ]
  },
  {
   "cell_type": "code",
   "execution_count": 26,
   "metadata": {
    "scrolled": true
   },
   "outputs": [
    {
     "name": "stdout",
     "output_type": "stream",
     "text": [
      "((\"First, this movie has a lot of pointless scenes that achieve nothing, the museum scene with pointless covert operation ending up in killing everyone anyway, that's so not Silent Assassin. The 007 Bond casino scene was just there to establish the most worthless character in movie history - Everett K. Ross. \", '6'),)\n",
      "((\"Ahhh here we go again, another Marvel film. And I know I'm probably going to annoy a lot of people but, this is my review and if people disagree good for them. Disappointing, great potential and I really, really wanted to like it but... I didn't. One of the most loved characters in the marvel universe butchered. In the comics T'Challa is portrayed as an intelligent and most importantly a serious character; however, if I were to meet him in real life I wouldn't have a clue what he'd be like, unlike almost any other marvel character such as Iron man, Captain America and even Ant Man etc. The protagonists in the film are undeveloped and this is most obvious when you compare them to the villains that are shown to have a political standing and given such a rich personality over everybody else, when the audience can relate and connect to the villains more so than the protagonists the audience can't drive and support for the good guys; like most other superhero films. Don't get me wrong the villains are shown as such but the lack of character from the protagonists leaves a sour taste is one's mouth, especially since black panther is such a great character in the marvel franchise. \", '4'),)\n",
      "((\"This movie is great of all the tribal people's of the world. Seeing hi tech combined with tribal royalty is interesting to say the least. Is this where we're headed? Forward to the past? Who can say..\", '5'),)\n",
      "((\"I really had high expectations going in, maybe too high, but at some point I thought the Black Panther was in the Fast and the Furious and then some typical heist movie. OK, I'm being harsh and I didn't hate it, just didn't like it, kinda blah. And all the talk about Marvels first black superhero, but as far as movies go lets not forget Blade. I have seen Blade a few times, and I think I like it better, a little bloody, but I liked Snipes in that role, he nailed it. You know what, maybe I'm just suddenly tired of these current Hollywood blockbusters.\", '6'),)\n",
      "(('Well, i got to hand it to Marvel, though not always delivering great films, they manage to always stay on the right side of mediocre. I love the quality of their films, they more or less always look great, and in their films we constantly see great performances and witness memorable moments. But some of their films have stories and plots that can become somewhat predictable and washed down.', '6'),)\n",
      "(('After the excellent.....and hilarious.....Thor 3, I was rather looking forward to this. Positive reviews had also whetted the appetite. Perhaps it was the expectation that undermined the enjoyment?', '4'),)\n",
      "(('The plot was pretty snooze worthy if you ask me. Do yourself a favor and watch a good movie like The Cloverfield Paradox. I could not sit thru Black Panther again as it had very few actual action set pieces. The car chase was by far the best scene in the movie but sadly that was pretty much the climax of the film. The \"BIG\" action set piece was just boring with a cliché army set to fight itself because the kid with a chip on his shoulder his whole life makes his way back into the tribe. I also found the main Black Panther fight amongst the bad/good guy also boring. I could easily watch Iron Man again over this and Man of Steel. The story line is so dang simple but yet dragged out for a long time because the bad guy at first isn\\'t really the bad, bad... guy. I found myself wishing I had watched the origin of the 1990 Black Panther instead which they hinted upon in the beginning as I think that would have been far more interesting but it wouldn\\'t actual put BP into the new Avengers films. It just doesn\\'t make much sense that they were fighting Ultron but BP was no where to be seen even though they seem to know everything that is going on... I also drove to the biggest IMAX in South Florida at the Museum of Science and the trailers had more bass than the movie itself. I felt like I wish Jurrasic World was playing instead. Oh well. I hope Infinity Wars makes up for this dreck.', '6'),)\n",
      "((\"If I were able to post a one or two word review, it would either be agenda or uncanny valley. Everything I feared this film would do, it did. Indeed in a couple of places it even referred to the (*spoilers*?) the slave trade! Seriously? In the 21st century you are going to refer at least twice in the same film to the slave trade - which BTW if you follow the film's premise would NOT have affected Wakanda as they were cut off from the rest of the world!\", '2'),)\n",
      "(('With all the hype surrounding this movie (excellent trailers, Kendrick-curated soundtrack, all-African cast) I thought I was in for something special with Black Panther, as while they aren\\'t remotely the highest quality movies, the Marvel cinematic universe movies are generally pretty entertaining. As it turns out I was wrong, Black Panther was extremely average, I have no idea what these critics/review bots are talking about when they say that it is the best Marvel movie and worthy of \"critical\" praise (as not just a super hero movie but as a movie in general.)', '1'),)\n",
      "((\"The most anticipated MARVEL film since 'The Avengers' (2012), does the hype surrounding 'Black Panther' pay off in terms of it being an exceptional film, or does it falter under the weight of expectations?\", '5'),)\n",
      "((\"Visually, cool as heck. Effects were on point. Michael B Jordan as a villain was AMAZING. All else...skip. I wanted to like this movie and looked forward to it after BP's debut in Civil War. \\nHis character and performance, and the movie wasn't nearly as good as BP in Civil War. I was very disappointed last night. And I'm a huge fan of the MCU.\", '4'),)\n",
      "((\"Black Panther has got people throbbing, some saying it gave rise to Africa in the MCU. Critic's seem to all love it... reviews have been rave, even before the movie actually opened in Theaters. \", '7'),)\n",
      "(('The cinematography and directing of this film was just OK, one would come to expect something better from a Marvel superhero film (as shown by the budget). ', '6'),)\n",
      "(('Short and Simple Review by WubsTheFadger', '4'),)\n",
      "(('My god are superheroes becoming one sided and formulaic. Ryan Coogler seems to be good at recycling the most typical structure of a marvel superhero movie because he really missed a huge opportunity to make a good fun action packed flick. What we got instead was a boring, typical, overly technological and overly political deus ex machina fest of an attempt to make a marvel movie.', '4'),)\n",
      "(('97% Rotten Tomatoes. Really? Critics have gone mad or been paid a descent amount of money.', '6'),)\n",
      "((\"My feeling after the movie - bored, something I won't watch again.\", '5'),)\n",
      "(('I guess, because of the hype, I was expecting \"the best Marvel movie ever,\" or at least \"the best Marvel movie if the year.\"', '1'),)\n",
      "(('Marvel fantasy origin film. ', '4'),)\n",
      "((\"Subpar to say the least. Political partisanship has now cemented its ugly head into almost every movie being delivered for mass consumption. Most moviegoers such as myself take in a flick to escape today's overt political nonsense and everybody's got an agenda world we live in........even if only for a couple hours. Forget about it. Not going to happen. For me there is so much effort to preach (as that's what it is) a particular political viewpoint that it totally interferes with story and character development. Because of this I found Black Panther almost unbearable and struggled to make it to the end. Besides that, technically the CGI was wayyyy off and character development severely compromised. Just awful. Possibly the most undeservingly overhyped movie of all time.\", '1'),)\n",
      "((\"I was pretty disappointed in this one, I am usually a sucker for superhero flick. \\nThe gadgets/tech ideas were great, but it was downhill from there. While there were a few good acting performances, most were not which was very distracting from the movie. It was really what ruined the movie for me. It also wasn't a great storyline, I can handle that it was pretty predictable, it is a superhero movie. However, it just seemed basic. Just when you thought it might gaining traction and pull you into it, it would just fall flat.\", '5'),)\n",
      "(('It is too early for April fools day.\\nThese \"critics\" have gone mad if they even think this is best Marvel movie, if you can call it that, such bad job with over hyping it', '5'),)\n",
      "(('In a nutshell... Waited 2 hours or so just to watch the cut scenes.', '3'),)\n",
      "(('I am a huge of fan of all superhero:comics movies series ,everything that has to do with marvel and DC,and 2017 was a great year for superhero movies but 2018 started with a disapointment.This is movie is just to predictable,its full of cliches , its just a ordinary movie with nothing special really.It was way overhyped and then only \"special\" thing about it was that it had a black cast.Really really disapointed', '3'),)\n",
      "(('This thing is being over-hyped to the max. The narrative is promising at the outset, but fails miserably as it deteriorates into the absurd, and then continues to drip like Chinese water torture from the poorly written screenplay. The acting was mostly amateurish with the exception of Forest Whitaker, who seemed out of his element, but the screenplay could very well be the culprit here. The entire production was a laughable exercise in nonsense, and the CGI was worse.', '2'),)\n"
     ]
    }
   ],
   "source": [
    "soup = BeautifulSoup(urlopen(r'http://www.imdb.com/title/tt1825683/reviews?ref_=tt_urv'),'lxml')\n",
    "reviews = soup.findAll('div',{'class':'text'})\n",
    "rating  = soup.findAll('span',{'class':'rating-other-user-rating'})\n",
    "for rev in zip(reviews,rating):\n",
    "    print(tuple(zip(rev[0].contents,rev[1].span.contents)))"
   ]
  },
  {
   "cell_type": "markdown",
   "metadata": {},
   "source": [
    "## Scraping Wikipedia Tables"
   ]
  },
  {
   "cell_type": "code",
   "execution_count": null,
   "metadata": {},
   "outputs": [],
   "source": [
    "page = urlopen(r'https://en.wikipedia.org/wiki/List_of_highest-grossing_films_in_Canada_and_the_United_States')\n",
    "# 'Soupify' the page and use a parser\n",
    "soup = BeautifulSoup(page,'lxml')\n",
    "parsed_table_data = []\n",
    "tables = soup.find(\"table\", { \"class\" : \"wikitable\" })\n",
    "for row in tables.findAll(\"tr\"):\n",
    "    children = row.findChildren(recursive=False)\n",
    "    row_text = []\n",
    "    for child in children:\n",
    "        clean_text = child.text\n",
    "        #This is to discard reference/citation links\n",
    "        clean_text = clean_text.split('&#091;')[0]\n",
    "        #This is to clean the header row of the sort icons\n",
    "        clean_text = clean_text.split('&#160;')[-1]\n",
    "        clean_text = clean_text.strip()\n",
    "        row_text.append(clean_text)\n",
    "    parsed_table_data.append(row_text)"
   ]
  },
  {
   "cell_type": "code",
   "execution_count": null,
   "metadata": {
    "scrolled": true
   },
   "outputs": [],
   "source": [
    "import pandas as pd\n",
    "res = pd.DataFrame.from_records(parsed_table_data[1:],columns = parsed_table_data[0])\n",
    "res"
   ]
  },
  {
   "cell_type": "markdown",
   "metadata": {},
   "source": [
    "# <center> Eventually you will come across something like this </center>"
   ]
  },
  {
   "cell_type": "code",
   "execution_count": null,
   "metadata": {
    "scrolled": true
   },
   "outputs": [],
   "source": [
    "page = urlopen(r'https://www.apnews.com/')\n",
    "soup = BeautifulSoup(page,'lxml')\n",
    "soup"
   ]
  },
  {
   "cell_type": "markdown",
   "metadata": {},
   "source": [
    "# <center> Oh No... What will we ever do now </center>"
   ]
  },
  {
   "cell_type": "markdown",
   "metadata": {},
   "source": [
    "# Introducing Selenium\n",
    "- Web automation tool\n",
    "- Mostly used for automatically testing webpages\n",
    "- Can be used to download dynamically loaded pages"
   ]
  },
  {
   "cell_type": "code",
   "execution_count": 1,
   "metadata": {},
   "outputs": [],
   "source": [
    "from selenium import webdriver"
   ]
  },
  {
   "cell_type": "markdown",
   "metadata": {},
   "source": [
    "- A driver is anything that can interface with the underlying browser\n",
    "- There's a driver for almost all browsers\n"
   ]
  },
  {
   "cell_type": "markdown",
   "metadata": {},
   "source": [
    "##  Basic Usage"
   ]
  },
  {
   "cell_type": "code",
   "execution_count": null,
   "metadata": {},
   "outputs": [],
   "source": [
    "from selenium import webdriver\n",
    "from selenium.webdriver.common.keys import Keys # Used to send keyboard presses\n",
    "\n",
    "driver = webdriver.Chrome() # Load the webdriver. Make sure it's in the same directory or give a path\n",
    "driver.get(\"http://www.python.org\") # Open a browser window and load the page\n",
    "assert \"Python\" in driver.title # Make sure that the page has loaded\n",
    "elem = driver.find_element_by_name(\"q\") # Find the search field\n",
    "elem.clear() # Clear anything in the field\n",
    "elem.send_keys(\"pycon\") # Type pycon in the search\n",
    "elem.send_keys(Keys.RETURN) # Press enter\n",
    "assert \"No results found.\" not in driver.page_source # Make sure that there are some results\n",
    "# driver.close()"
   ]
  },
  {
   "cell_type": "markdown",
   "metadata": {},
   "source": [
    "## Switch to window"
   ]
  },
  {
   "cell_type": "code",
   "execution_count": null,
   "metadata": {},
   "outputs": [],
   "source": [
    "from selenium import webdriver\n",
    "from selenium.webdriver import ActionChains\n",
    "from selenium.webdriver.common.keys import Keys\n",
    "\n",
    "driver = webdriver.Chrome()\n",
    "driver.get(\"https://www.google.com\")\n",
    "\n",
    "# open a link in a new window\n",
    "actions = ActionChains(driver)\n",
    "about = driver.find_element_by_link_text('About')\n",
    "actions.key_down(Keys.CONTROL).click(about).key_up(Keys.CONTROL).perform()\n",
    "\n",
    "driver.switch_to.window(driver.window_handles[-1])\n",
    "driver.get(\"https://stackoverflow.com\")"
   ]
  },
  {
   "cell_type": "markdown",
   "metadata": {},
   "source": [
    "## Finding elements\n",
    "- find_element_by_id\n",
    "- find_element_by_name\n",
    "- find_element_by_xpath\n",
    "- find_element_by_link_text\n",
    "- find_element_by_partial_link_text\n",
    "- find_element_by_tag_name\n",
    "- find_element_by_class_name\n",
    "- find_element_by_css_selector"
   ]
  },
  {
   "cell_type": "markdown",
   "metadata": {},
   "source": [
    "## Filling forms"
   ]
  },
  {
   "cell_type": "code",
   "execution_count": null,
   "metadata": {},
   "outputs": [],
   "source": [
    "from selenium.webdriver.support.ui import Select\n",
    "\n",
    "driver = webdriver.Chrome()\n",
    "driver.get(r'https://form.jotform.com/80524166859162')\n",
    "\n",
    "prefix = driver.find_element_by_id(r'prefix_3')\n",
    "prefix.clear()\n",
    "prefix.send_keys('Mr')\n",
    "\n",
    "first = driver.find_element_by_id(r'first_3')\n",
    "first.clear()\n",
    "first.send_keys('Nate')\n",
    "\n",
    "last = driver.find_element_by_id(r'last_3')\n",
    "last.clear()\n",
    "last.send_keys('Mahalingam')\n",
    "\n",
    "#input_5_addr_line1\n",
    "\n",
    "addr_1 = driver.find_element_by_id(r'input_5_addr_line1')\n",
    "addr_1.clear()\n",
    "addr_1.send_keys('1234 New Street')\n",
    "\n",
    "city = driver.find_element_by_id(r'input_5_city')\n",
    "city.clear()\n",
    "city.send_keys('New York City')\n",
    "\n",
    "state = driver.find_element_by_id(r'input_5_state')\n",
    "state.clear()\n",
    "state.send_keys('New York')\n",
    "\n",
    "post = driver.find_element_by_id(r'input_5_postal')\n",
    "post.clear()\n",
    "post.send_keys('12345')\n",
    "\n",
    "country = Select(driver.find_element_by_name('q5_address5[country]'))\n",
    "country.select_by_visible_text(\"United States\")\n",
    "\n",
    "area = driver.find_element_by_id(r'input_6_area')\n",
    "area.clear()\n",
    "area.send_keys('555')\n",
    "\n",
    "ph = driver.find_element_by_id(r'input_6_phone')\n",
    "ph.clear()\n",
    "ph.send_keys('123456')\n",
    "\n",
    "email = driver.find_element_by_id(r'input_4')\n",
    "email.clear()\n",
    "email.send_keys('dummyemail@domail.com')\n",
    "\n",
    "bt = driver.find_element_by_id('input_2')\n",
    "bt.click()"
   ]
  },
  {
   "cell_type": "markdown",
   "metadata": {},
   "source": [
    "##  Finally... Waits\n",
    "\n",
    "Waits tells the driver to wait a certain amount of time until it throws a timeout error\n",
    "- Explicit waits : wait until a certain element appears\n",
    "- Implicit waits : wait a certain amount of time IN GENERAL"
   ]
  },
  {
   "cell_type": "code",
   "execution_count": 7,
   "metadata": {},
   "outputs": [],
   "source": [
    "# Explicit waits\n",
    "from selenium.webdriver.common.by import By\n",
    "from selenium.webdriver.support.ui import WebDriverWait\n",
    "from selenium.webdriver.support import expected_conditions as EC\n",
    "\n",
    "driver = webdriver.Chrome()\n",
    "driver.get(\"https://stackoverflow.com/\")\n",
    "try:\n",
    "    wait = WebDriverWait(driver, 10) # wait until element is located OR 10 seconds\n",
    "    element = wait.until(\n",
    "        EC.visibility_of_element_located((By.ID, \"nav-questions\")) # Have the Expected Condition of finding a element\n",
    "                                                                   # with the id nav-questions\n",
    "        )\n",
    "    element.click()\n",
    "finally:\n",
    "    driver.quit()"
   ]
  },
  {
   "cell_type": "markdown",
   "metadata": {},
   "source": [
    "### Other Expected Conditions\n",
    "- title_is\n",
    "- title_contains\n",
    "- presence_of_element_located\n",
    "- visibility_of_element_located\n",
    "- visibility_of\n",
    "- presence_of_all_elements_located\n",
    "- text_to_be_present_in_element\n",
    "- text_to_be_present_in_element_value\n",
    "- frame_to_be_available_and_switch_to_it\n",
    "- invisibility_of_element_located\n",
    "- element_to_be_clickable\n",
    "- staleness_of\n",
    "- element_to_be_selected\n",
    "- element_located_to_be_selected\n",
    "- element_selection_state_to_be\n",
    "- element_located_selection_state_to_be\n",
    "- alert_is_present"
   ]
  },
  {
   "cell_type": "code",
   "execution_count": 37,
   "metadata": {},
   "outputs": [
    {
     "ename": "NoSuchElementException",
     "evalue": "Message: no such element: Unable to locate element: {\"method\":\"id\",\"selector\":\"srgwrgas\"}\n  (Session info: chrome=63.0.3239.132)\n  (Driver info: chromedriver=2.33.506120 (e3e53437346286c0bc2d2dc9aa4915ba81d9023f),platform=Windows NT 10.0.16299 x86_64)\n",
     "output_type": "error",
     "traceback": [
      "\u001b[1;31m---------------------------------------------------------------------------\u001b[0m",
      "\u001b[1;31mNoSuchElementException\u001b[0m                    Traceback (most recent call last)",
      "\u001b[1;32m<ipython-input-37-5a94b64b428d>\u001b[0m in \u001b[0;36m<module>\u001b[1;34m()\u001b[0m\n\u001b[0;32m      3\u001b[0m \u001b[0mdriver\u001b[0m\u001b[1;33m.\u001b[0m\u001b[0mimplicitly_wait\u001b[0m\u001b[1;33m(\u001b[0m\u001b[1;36m5\u001b[0m\u001b[1;33m)\u001b[0m \u001b[1;31m# seconds\u001b[0m\u001b[1;33m\u001b[0m\u001b[0m\n\u001b[0;32m      4\u001b[0m \u001b[0mdriver\u001b[0m\u001b[1;33m.\u001b[0m\u001b[0mget\u001b[0m\u001b[1;33m(\u001b[0m\u001b[1;34m\"https://stackoverflow.com/\"\u001b[0m\u001b[1;33m)\u001b[0m\u001b[1;33m\u001b[0m\u001b[0m\n\u001b[1;32m----> 5\u001b[1;33m \u001b[0mmyDynamicElement\u001b[0m \u001b[1;33m=\u001b[0m \u001b[0mdriver\u001b[0m\u001b[1;33m.\u001b[0m\u001b[0mfind_element_by_id\u001b[0m\u001b[1;33m(\u001b[0m\u001b[1;34m\"srgwrgas\"\u001b[0m\u001b[1;33m)\u001b[0m\u001b[1;33m\u001b[0m\u001b[0m\n\u001b[0m\u001b[0;32m      6\u001b[0m \u001b[0mmyDynamicElement\u001b[0m\u001b[1;33m.\u001b[0m\u001b[0mclick\u001b[0m\u001b[1;33m(\u001b[0m\u001b[1;33m)\u001b[0m\u001b[1;33m\u001b[0m\u001b[0m\n",
      "\u001b[1;32mD:\\Anaconda\\lib\\site-packages\\selenium\\webdriver\\remote\\webdriver.py\u001b[0m in \u001b[0;36mfind_element_by_id\u001b[1;34m(self, id_)\u001b[0m\n\u001b[0;32m    349\u001b[0m             \u001b[0melement\u001b[0m \u001b[1;33m=\u001b[0m \u001b[0mdriver\u001b[0m\u001b[1;33m.\u001b[0m\u001b[0mfind_element_by_id\u001b[0m\u001b[1;33m(\u001b[0m\u001b[1;34m'foo'\u001b[0m\u001b[1;33m)\u001b[0m\u001b[1;33m\u001b[0m\u001b[0m\n\u001b[0;32m    350\u001b[0m         \"\"\"\n\u001b[1;32m--> 351\u001b[1;33m         \u001b[1;32mreturn\u001b[0m \u001b[0mself\u001b[0m\u001b[1;33m.\u001b[0m\u001b[0mfind_element\u001b[0m\u001b[1;33m(\u001b[0m\u001b[0mby\u001b[0m\u001b[1;33m=\u001b[0m\u001b[0mBy\u001b[0m\u001b[1;33m.\u001b[0m\u001b[0mID\u001b[0m\u001b[1;33m,\u001b[0m \u001b[0mvalue\u001b[0m\u001b[1;33m=\u001b[0m\u001b[0mid_\u001b[0m\u001b[1;33m)\u001b[0m\u001b[1;33m\u001b[0m\u001b[0m\n\u001b[0m\u001b[0;32m    352\u001b[0m \u001b[1;33m\u001b[0m\u001b[0m\n\u001b[0;32m    353\u001b[0m     \u001b[1;32mdef\u001b[0m \u001b[0mfind_elements_by_id\u001b[0m\u001b[1;33m(\u001b[0m\u001b[0mself\u001b[0m\u001b[1;33m,\u001b[0m \u001b[0mid_\u001b[0m\u001b[1;33m)\u001b[0m\u001b[1;33m:\u001b[0m\u001b[1;33m\u001b[0m\u001b[0m\n",
      "\u001b[1;32mD:\\Anaconda\\lib\\site-packages\\selenium\\webdriver\\remote\\webdriver.py\u001b[0m in \u001b[0;36mfind_element\u001b[1;34m(self, by, value)\u001b[0m\n\u001b[0;32m    953\u001b[0m         return self.execute(Command.FIND_ELEMENT, {\n\u001b[0;32m    954\u001b[0m             \u001b[1;34m'using'\u001b[0m\u001b[1;33m:\u001b[0m \u001b[0mby\u001b[0m\u001b[1;33m,\u001b[0m\u001b[1;33m\u001b[0m\u001b[0m\n\u001b[1;32m--> 955\u001b[1;33m             'value': value})['value']\n\u001b[0m\u001b[0;32m    956\u001b[0m \u001b[1;33m\u001b[0m\u001b[0m\n\u001b[0;32m    957\u001b[0m     \u001b[1;32mdef\u001b[0m \u001b[0mfind_elements\u001b[0m\u001b[1;33m(\u001b[0m\u001b[0mself\u001b[0m\u001b[1;33m,\u001b[0m \u001b[0mby\u001b[0m\u001b[1;33m=\u001b[0m\u001b[0mBy\u001b[0m\u001b[1;33m.\u001b[0m\u001b[0mID\u001b[0m\u001b[1;33m,\u001b[0m \u001b[0mvalue\u001b[0m\u001b[1;33m=\u001b[0m\u001b[1;32mNone\u001b[0m\u001b[1;33m)\u001b[0m\u001b[1;33m:\u001b[0m\u001b[1;33m\u001b[0m\u001b[0m\n",
      "\u001b[1;32mD:\\Anaconda\\lib\\site-packages\\selenium\\webdriver\\remote\\webdriver.py\u001b[0m in \u001b[0;36mexecute\u001b[1;34m(self, driver_command, params)\u001b[0m\n\u001b[0;32m    310\u001b[0m         \u001b[0mresponse\u001b[0m \u001b[1;33m=\u001b[0m \u001b[0mself\u001b[0m\u001b[1;33m.\u001b[0m\u001b[0mcommand_executor\u001b[0m\u001b[1;33m.\u001b[0m\u001b[0mexecute\u001b[0m\u001b[1;33m(\u001b[0m\u001b[0mdriver_command\u001b[0m\u001b[1;33m,\u001b[0m \u001b[0mparams\u001b[0m\u001b[1;33m)\u001b[0m\u001b[1;33m\u001b[0m\u001b[0m\n\u001b[0;32m    311\u001b[0m         \u001b[1;32mif\u001b[0m \u001b[0mresponse\u001b[0m\u001b[1;33m:\u001b[0m\u001b[1;33m\u001b[0m\u001b[0m\n\u001b[1;32m--> 312\u001b[1;33m             \u001b[0mself\u001b[0m\u001b[1;33m.\u001b[0m\u001b[0merror_handler\u001b[0m\u001b[1;33m.\u001b[0m\u001b[0mcheck_response\u001b[0m\u001b[1;33m(\u001b[0m\u001b[0mresponse\u001b[0m\u001b[1;33m)\u001b[0m\u001b[1;33m\u001b[0m\u001b[0m\n\u001b[0m\u001b[0;32m    313\u001b[0m             response['value'] = self._unwrap_value(\n\u001b[0;32m    314\u001b[0m                 response.get('value', None))\n",
      "\u001b[1;32mD:\\Anaconda\\lib\\site-packages\\selenium\\webdriver\\remote\\errorhandler.py\u001b[0m in \u001b[0;36mcheck_response\u001b[1;34m(self, response)\u001b[0m\n\u001b[0;32m    240\u001b[0m                 \u001b[0malert_text\u001b[0m \u001b[1;33m=\u001b[0m \u001b[0mvalue\u001b[0m\u001b[1;33m[\u001b[0m\u001b[1;34m'alert'\u001b[0m\u001b[1;33m]\u001b[0m\u001b[1;33m.\u001b[0m\u001b[0mget\u001b[0m\u001b[1;33m(\u001b[0m\u001b[1;34m'text'\u001b[0m\u001b[1;33m)\u001b[0m\u001b[1;33m\u001b[0m\u001b[0m\n\u001b[0;32m    241\u001b[0m             \u001b[1;32mraise\u001b[0m \u001b[0mexception_class\u001b[0m\u001b[1;33m(\u001b[0m\u001b[0mmessage\u001b[0m\u001b[1;33m,\u001b[0m \u001b[0mscreen\u001b[0m\u001b[1;33m,\u001b[0m \u001b[0mstacktrace\u001b[0m\u001b[1;33m,\u001b[0m \u001b[0malert_text\u001b[0m\u001b[1;33m)\u001b[0m\u001b[1;33m\u001b[0m\u001b[0m\n\u001b[1;32m--> 242\u001b[1;33m         \u001b[1;32mraise\u001b[0m \u001b[0mexception_class\u001b[0m\u001b[1;33m(\u001b[0m\u001b[0mmessage\u001b[0m\u001b[1;33m,\u001b[0m \u001b[0mscreen\u001b[0m\u001b[1;33m,\u001b[0m \u001b[0mstacktrace\u001b[0m\u001b[1;33m)\u001b[0m\u001b[1;33m\u001b[0m\u001b[0m\n\u001b[0m\u001b[0;32m    243\u001b[0m \u001b[1;33m\u001b[0m\u001b[0m\n\u001b[0;32m    244\u001b[0m     \u001b[1;32mdef\u001b[0m \u001b[0m_value_or_default\u001b[0m\u001b[1;33m(\u001b[0m\u001b[0mself\u001b[0m\u001b[1;33m,\u001b[0m \u001b[0mobj\u001b[0m\u001b[1;33m,\u001b[0m \u001b[0mkey\u001b[0m\u001b[1;33m,\u001b[0m \u001b[0mdefault\u001b[0m\u001b[1;33m)\u001b[0m\u001b[1;33m:\u001b[0m\u001b[1;33m\u001b[0m\u001b[0m\n",
      "\u001b[1;31mNoSuchElementException\u001b[0m: Message: no such element: Unable to locate element: {\"method\":\"id\",\"selector\":\"srgwrgas\"}\n  (Session info: chrome=63.0.3239.132)\n  (Driver info: chromedriver=2.33.506120 (e3e53437346286c0bc2d2dc9aa4915ba81d9023f),platform=Windows NT 10.0.16299 x86_64)\n"
     ]
    }
   ],
   "source": [
    "# Implicit waits\n",
    "driver = webdriver.Chrome()\n",
    "driver.implicitly_wait(5) # seconds\n",
    "driver.get(\"https://stackoverflow.com/\")\n",
    "myDynamicElement = driver.find_element_by_id(\"nav-questions\")\n",
    "myDynamicElement.click()"
   ]
  },
  {
   "cell_type": "markdown",
   "metadata": {},
   "source": [
    "### Coming back to the AP example"
   ]
  },
  {
   "cell_type": "code",
   "execution_count": 8,
   "metadata": {},
   "outputs": [
    {
     "name": "stdout",
     "output_type": "stream",
     "text": [
      "background Menu\n",
      "\n",
      "Florida Politics North America School shootings School safety Shootings Michael Pence Donald Trump AP Top News\n",
      "Trump endorses raising minimum age to 21 for more weapons\n",
      "By CATHERINE LUCEY and MATTHEW DALY\n",
      "40 minutes ago\n",
      "https://www.apnews.com/b1548e45aabf47d98e591f2c5afc38ef\n",
      "WASHINGTON (AP) — President Donald Trump on Thursday endorsed a higher minimum age for buying certain rifles and tighter background checks for purchasers, saying “there’s nothing more important than protecting our children,” amid a public outcry for action after the Florida school shooting.\n",
      "Trump said he spoke Wednesday night with many members of Congress and “they’re into background checks.” The president commented as he opened a school safety discussion at the White House with state and local officials from around the country.\n",
      "Early Thursday, Trump tweeted his strongest stance on gun control one day after an emotional White House session where students and parents poured out wrenching tales of lost lives and pleaded for action.\n",
      "Trump said on Twitter, “I will be strongly pushing Comprehensive Background Checks with an emphasis on Mental Health. Raise age to 21 and end sale of Bump Stocks!” The president did not immediately offer more details.\n",
      "Trump’s focus on gun violence came as leaders of the National Rifle Association offered a vigorous defense of gun rights during the Conservative Political Action Conference, urging enhanced — and armed — security at schools. An armed Broward County sheriff’s deputy, the regular school resource officer, was on the campus of Marjory Stoneman Douglas High School in Parkland, Florida, at the time of the shooting.\n",
      "NRA chief Wayne LaPierre says supporters of gun control are exploiting the school shooting in Florida to promote an anti-gun agenda. He says the way to “stop a bad guy with a gun,” in the nation’s schools is to arm a “good guy with a gun.” (Feb. 22)\n",
      "“Evil walks among us and God help us if we don’t harden our schools and protect our kids,” said NRA Executive Vice President and CEO Wayne LaPierre. “The whole idea from some of our opponents that armed security makes us less safe is completely ridiculous.”\n",
      "The NRA officials didn’t address whether the federal government should raise the age limit for young adults to buy weapons, accusing Democrats and media outlets of exploiting the Florida shooting. The NRA on Wednesday announced it opposes raising the age limit.\n",
      "“Many in legacy media love mass shootings, you guys love it,” said NRA spokeswoman Dana Loesch at CPAC. “Now I’m not saying that you love the tragedy, but I am saying that you love the ratings. Crying white mothers are ratings gold.”\n",
      "The current federal minimum age for buying or possessing handguns is 21, but the limit is 18 for rifles including assault-type weapons such as the AR-15 used by a former student in last week’s attack in Florida that killed 17 students and staff members.\n",
      "“We’re going to work on getting the age up to 21 instead of 18,” Trump said at the White House, adding that he thinks the NRA will back it — despite the group’s stated opposition. “The NRA will back it and so will Congress,” the president predicted.\n",
      "In another tweet, Trump repeated his urgent call for trained teachers or others in schools to carry guns as a deterrent to attacks.\n",
      "“If a potential ‘sicko shooter’ knows that a school has a large number of very weapons talented teachers (and others) who will be instantly shooting, the sicko will NEVER attack that school. Cowards won’t go there...problem solved. Must be offensive, defense alone won’t work!” Trump tweeted.\n",
      "He has previously expressed an interest in efforts to strengthen the federal background check system. It was not clear if he would back closing loopholes that permit loose private sales on the internet and at gun shows.\n",
      "The National Rifle Associated on Wednesday quickly rejected any talk of raising the age for buying long guns to 21.\n",
      "“Legislative proposals that prevent law-abiding adults aged 18-20 years old from acquiring rifles and shotguns effectively prohibits them for purchasing any firearm, thus depriving them of their constitutional right to self-protection,” the group said in a statement.\n",
      "Trump, despite his new push for at least some gun-control changes, stressed his backing for the NRA on Thursday, tweeting that “the folks who work so hard at the @NRA are Great People and Great American Patriots. They love our Country and will do the right thing. MAKE AMERICA GREAT AGAIN!”\n",
      "Speaking at CPAC, Vice President Mike Pence said that in a meeting with governors at the White House next Monday, Trump and the state leaders will “make the safety of our nation’s schools and our students our top national priority.”\n",
      "On Wednesday, Trump listened intently at the White House as students described the horror of the shootings in Parkland, Florida. The students and their parents appealed to him to press for stricter gun controls.\n",
      "“I turned 18 the day after” the shooting, said tearful student Samuel Zeif. “Woke up to the news that my best friend was gone. And I don’t understand why I can still go in a store and buy a weapon of war. An AR. How is it that easy to buy this type of weapon? How do we not stop this after Columbine? After Sandy Hook?”\n",
      "Trump promised to be “very strong on background checks.” And he indicated he supported allowing some teachers and other school employees to carry concealed weapons to be ready for intruders.\n",
      "The president had invited the teen survivors of school violence and parents of murdered children in a show of his resolve against gun violence in the wake of last week’s shootings in Florida and in past years at schools in Connecticut and Colorado.\n",
      "Trump asked his guests to suggest solutions and solicited feedback. He did not fully endorse any specific policy solution, but pledged to take action and expressed interest in widely differing approaches.\n",
      "He largely listened, holding handwritten notes bearing his message to the families. “I hear you” was written in black marker.\n",
      "Besides considering concealed carrying of weapons by trained school employees, a concept he has endorsed in the past, he said he planned to go “very strongly into age, age of purchase.” And he said he was committed to improving background checks and working on mental health.\n",
      "Most in the group Wednesday were emotional but quiet and polite.\n",
      "But Andrew Pollack, whose daughter Meadow was killed last week, noted the previous school massacres and raged over his loss, saying this moment isn’t about gun laws but about fixing the schools.\n",
      "“It should have been one school shooting and we should have fixed it and I’m pissed. Because my daughter, I’m not going to see again,” said Pollack. “King David Cemetery, that is where I go to see my kid now.”\n",
      "A strong supporter of gun rights, Trump has nonetheless indicated in recent days that he is willing to consider ideas not in keeping with National Rifle Association orthodoxy, including age restrictions for buying assault-type weapons. Still, gun owners are a key part of his base of supporters.\n",
      "The people assembled for the White House meeting on Wednesday included parents of students killed in massacres at Columbine High School in Littleton, Colorado, and Sandy Hook Elementary in Newtown, Connecticut. Students and parents from the Washington area also were present.\n",
      "___\n",
      "Associated Press writers Jill Colvin, Ken Thomas, Darlene Superville and Sadie Gurman in Washington, Zeke Miller in Oxon Hill, Maryland, and Mark Levy in Harrisburg, Pennsylvania, and Alina Hartounian from Phoenix contributed to this report.\n",
      "by Taboola\n",
      "More From AP\n",
      "'You killed my kid!' Father of shooting victim laments\n",
      "Trump at last denounces abuse; Kelly's future in doubt\n",
      "Again the question: Could armed teachers stop shootings?\n",
      "School shooting suspect made 'disturbing' social media posts\n",
      "  by Taboola \n",
      "Sponsored Links \n",
      "Ad Content\n",
      "Wolf's Reaction After Seeing This Couple Walking Their Dog Is Incredible\n",
      "Ppcorn\n",
      "Tecovas Boots - Over 200 Steps Go Into These Handmade Boots\n",
      "Tecovas Handmade Boots\n",
      "My Husband and I Tried Blue Apron, Here's What Happened\n",
      "Blue Apron\n",
      "Surprising Truth Behind Life Insurance\n",
      "PolicyGenius\n",
      "The Revolution in Hearing Technology is Here\n",
      "Eargo Plus Hearing Aids\n",
      "The 20 Best Dog Breeds for Seniors\n",
      "Puppytoob\n",
      "Are You a True Lord of the Rings Fan? Take the Quiz and See!\n",
      "HowStuffWorks Quizzes\n",
      "20 Worst New Cars\n",
      "Moneyinc\n",
      "AP NEWS\n",
      "About\n",
      "Terms and Conditions\n",
      "Privacy\n",
      "THE ASSOCIATED PRESS\n",
      "About Us\n",
      "Products and Services\n",
      "Media Center\n",
      "Company\n",
      "Contact Us\n",
      "Careers\n",
      "MORE FROM AP\n",
      "AP Images\n",
      "AP Archives\n",
      "AP Video Hub\n",
      "FOLLOW AP\n",
      "All contents © copyright 2018 Associated Press. All rights reserved.\n"
     ]
    }
   ],
   "source": [
    "driver = webdriver.Chrome()\n",
    "driver.get(r'https://www.apnews.com/')\n",
    "s1 = driver.find_elements_by_tag_name('h3')\n",
    "s1[0].click()\n",
    "print (driver.find_element_by_xpath(\"html\").text)"
   ]
  },
  {
   "cell_type": "markdown",
   "metadata": {},
   "source": [
    "# Bonus\n",
    "## Google geocoding API"
   ]
  },
  {
   "cell_type": "code",
   "execution_count": 9,
   "metadata": {},
   "outputs": [],
   "source": [
    "import googlemaps # need to pip install this first"
   ]
  },
  {
   "cell_type": "markdown",
   "metadata": {},
   "source": [
    " Get an API key\n",
    " https://developers.google.com/maps/documentation/geocoding/get-api-key"
   ]
  },
  {
   "cell_type": "code",
   "execution_count": 29,
   "metadata": {},
   "outputs": [
    {
     "name": "stdout",
     "output_type": "stream",
     "text": [
      "[{'long_name': 'Columbia', 'short_name': 'Columbia', 'types': ['locality', 'political']}, {'long_name': 'Boone County', 'short_name': 'Boone County', 'types': ['administrative_area_level_2', 'political']}, {'long_name': 'Missouri', 'short_name': 'MO', 'types': ['administrative_area_level_1', 'political']}, {'long_name': 'United States', 'short_name': 'US', 'types': ['country', 'political']}]\n"
     ]
    }
   ],
   "source": [
    "k = ''\n",
    "with open(r'C:\\Users\\Natarajan\\Desktop\\key.txt') as f:\n",
    "    k = f.read()\n",
    "gmaps = googlemaps.Client(key=k)\n",
    "geocode_result = gmaps.geocode('Columbia Mo')\n",
    "print(geocode_result[0]['address_components'])\n",
    "# print('Name:', geocode_result[0]['address_components'][0]['long_name'])\n",
    "# print('County:', geocode_result[0]['address_components'][1]['long_name'])\n",
    "# print('State:', geocode_result[0]['address_components'][2]['long_name'])\n",
    "# print('Country:', geocode_result[0]['address_components'][3]['long_name'])"
   ]
  }
 ],
 "metadata": {
  "kernelspec": {
   "display_name": "Python 3",
   "language": "python",
   "name": "python3"
  },
  "language_info": {
   "codemirror_mode": {
    "name": "ipython",
    "version": 3
   },
   "file_extension": ".py",
   "mimetype": "text/x-python",
   "name": "python",
   "nbconvert_exporter": "python",
   "pygments_lexer": "ipython3",
   "version": "3.6.4"
  }
 },
 "nbformat": 4,
 "nbformat_minor": 2
}
